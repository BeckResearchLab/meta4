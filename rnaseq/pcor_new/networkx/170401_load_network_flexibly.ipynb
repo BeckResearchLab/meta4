{
 "cells": [
  {
   "cell_type": "code",
   "execution_count": null,
   "metadata": {
    "collapsed": false
   },
   "outputs": [],
   "source": [
    "# Import matplotlib before seaborn\n",
    "import matplotlib as mpl\n",
    "import matplotlib.pyplot as plt\n",
    "import itertools  # for color palette cycling\n",
    "import re\n",
    "import pandas as pd\n",
    "import seaborn as sns\n",
    "import sys\n",
    "from cycler import cycler\n",
    "import seaborn as sns\n",
    "%matplotlib inline"
   ]
  },
  {
   "cell_type": "code",
   "execution_count": null,
   "metadata": {
    "collapsed": true
   },
   "outputs": [],
   "source": [
    "from datetime import datetime\n",
    "import pickle\n",
    "import timeit\n",
    "\n",
    "import networkx as nx"
   ]
  },
  {
   "cell_type": "code",
   "execution_count": null,
   "metadata": {
    "collapsed": false
   },
   "outputs": [],
   "source": [
    "%load_ext autoreload\n",
    "%autoreload 2"
   ]
  },
  {
   "cell_type": "code",
   "execution_count": null,
   "metadata": {
    "collapsed": false
   },
   "outputs": [],
   "source": [
    "sys.version_info.major"
   ]
  },
  {
   "cell_type": "code",
   "execution_count": null,
   "metadata": {
    "collapsed": true
   },
   "outputs": [],
   "source": [
    "assert sys.version_info.major == 3"
   ]
  },
  {
   "cell_type": "code",
   "execution_count": null,
   "metadata": {
    "collapsed": false
   },
   "outputs": [],
   "source": [
    "import networkx_helpers as nxh\n",
    "import networkx_explore as nxe"
   ]
  },
  {
   "cell_type": "code",
   "execution_count": null,
   "metadata": {
    "collapsed": false
   },
   "outputs": [],
   "source": [
    "! pwd"
   ]
  },
  {
   "cell_type": "code",
   "execution_count": null,
   "metadata": {
    "collapsed": true
   },
   "outputs": [],
   "source": [
    "make_again = False\n",
    "\n",
    "edges_path = '/work/rnaseq/pcor_new/Ledoit_Wolf_r4.8xlarge_244GB_memory/ledoit_wolf_precision_cutoff_0.005--26967_genes.tsv'\n",
    "gff_tsv_path = '/work/m4b_binning/assembly/prokka/contigs/contigs_longer_than_1500bp/contigs_longer_than_1500bp_gffs_concatenated.gff.genes.tsv'\n",
    "tail_percent = 2.5\n",
    "\n",
    "if make_again:\n",
    "    network = nxh.build_network(edges_path, tail_percent, gff_tsv_path)\n",
    "    date = datetime.today().strftime('%y%m%d')\n",
    "    print(date)\n",
    "    networkx.write_gpickle(network, date + '_ledoit_wolf_26967_genes_2.5percent_network.gpickle')\n",
    "else:\n",
    "    # favorite_color = pickle.load( open( \"save.p\", \"rb\" ) )\n",
    "    p_path = './170401ledoit_wolf_26967_genes_2.5percent_network.gpickle'\n",
    "    network = pickle.load(open(p_path, 'rb'))"
   ]
  },
  {
   "cell_type": "code",
   "execution_count": null,
   "metadata": {
    "collapsed": false
   },
   "outputs": [],
   "source": [
    "edges = nxh.load_edges(edges_path, tail_percent)\n",
    "edges.head()"
   ]
  },
  {
   "cell_type": "code",
   "execution_count": null,
   "metadata": {
    "collapsed": false
   },
   "outputs": [],
   "source": [
    "fig, ax = plt.subplots(1,1, figsize=(6,3))\n",
    "edges['pcor'].hist(bins=100, ax=ax)\n",
    "ax.set_yscale('log')\n",
    "ax.get_xaxis().set_major_formatter(\n",
    "    mpl.ticker.FuncFormatter(lambda x, p: format(int(x), ',')))\n",
    "\n",
    "sns.despine()\n",
    "locs, labels = plt.xticks()\n",
    "plt.setp(labels, rotation=45)\n"
   ]
  },
  {
   "cell_type": "code",
   "execution_count": null,
   "metadata": {
    "collapsed": false
   },
   "outputs": [],
   "source": [
    "degree_sequence=sorted(nx.degree(network).values(),reverse=True) # degree sequence"
   ]
  },
  {
   "cell_type": "code",
   "execution_count": null,
   "metadata": {
    "collapsed": false
   },
   "outputs": [],
   "source": [
    "len(degree_sequence)"
   ]
  },
  {
   "cell_type": "code",
   "execution_count": null,
   "metadata": {
    "collapsed": true
   },
   "outputs": [],
   "source": [
    "! mkdir -p results"
   ]
  },
  {
   "cell_type": "code",
   "execution_count": null,
   "metadata": {
    "collapsed": false
   },
   "outputs": [],
   "source": [
    "print(nx.info(network))"
   ]
  },
  {
   "cell_type": "code",
   "execution_count": null,
   "metadata": {
    "collapsed": false,
    "scrolled": true
   },
   "outputs": [],
   "source": [
    "sns.set_style(\"white\")\n",
    "p = nxe.plot_degree_rank(network)\n",
    "p.savefig('./results/170401_degree_rank_plot--before_pcor_problem_was_discovered.pdf',\n",
    "          bbox_inches='tight')"
   ]
  },
  {
   "cell_type": "code",
   "execution_count": null,
   "metadata": {
    "collapsed": false
   },
   "outputs": [],
   "source": [
    "# takes > 50 min and doesn't complete\n",
    "# networkx.draw_networkx(network)"
   ]
  },
  {
   "cell_type": "code",
   "execution_count": null,
   "metadata": {
    "collapsed": false
   },
   "outputs": [],
   "source": [
    "# get_node_attributes(G, name)\n",
    "pcors_dict = nx.get_edge_attributes(network, 'pcor')\n",
    "\n",
    "dict(list(pcors_dict.items())[0:5])"
   ]
  },
  {
   "cell_type": "code",
   "execution_count": null,
   "metadata": {
    "collapsed": false
   },
   "outputs": [],
   "source": [
    "# Warning: some of these edges are missing gene labels. (??)\n",
    "low_conn = [k for k, v in nx.degree(network).items() if v < 12]\n",
    "print(len(low_conn))\n",
    "low_conn"
   ]
  },
  {
   "cell_type": "code",
   "execution_count": null,
   "metadata": {
    "collapsed": false
   },
   "outputs": [],
   "source": [
    "network['5_168418']"
   ]
  },
  {
   "cell_type": "code",
   "execution_count": null,
   "metadata": {
    "collapsed": false
   },
   "outputs": [],
   "source": [
    "# get_node_attributes(G, name)\n",
    "names_dict = nx.get_node_attributes(network, 'product')\n",
    "print(len(names_dict))\n",
    "# print first few items\n",
    "dict(list(names_dict.items())[0:5])"
   ]
  },
  {
   "cell_type": "code",
   "execution_count": null,
   "metadata": {
    "collapsed": false
   },
   "outputs": [],
   "source": [
    "names_dict['1_50186']"
   ]
  },
  {
   "cell_type": "code",
   "execution_count": null,
   "metadata": {
    "collapsed": true
   },
   "outputs": [],
   "source": [
    "import networkx_explore as nxe"
   ]
  },
  {
   "cell_type": "code",
   "execution_count": null,
   "metadata": {
    "collapsed": false
   },
   "outputs": [],
   "source": [
    "nodes_list = ['1_50186', '1_73594', '1_94876']\n",
    "nxe.draw(nxe.graph_by_nodes_list(network, nodes_list))"
   ]
  },
  {
   "cell_type": "code",
   "execution_count": null,
   "metadata": {
    "collapsed": false
   },
   "outputs": [],
   "source": [
    "pmmos1 = ['1_66816', '1_66817', '1_66818']\n",
    "nxe.draw(nxe.graph_by_nodes_list(network, pmmos1))"
   ]
  },
  {
   "cell_type": "code",
   "execution_count": null,
   "metadata": {
    "collapsed": false
   },
   "outputs": [],
   "source": [
    "pmmos2 = ['3_138947', '3_138948', '3_138949'] \n",
    "nxe.draw(nxe.graph_by_nodes_list(network, pmmos2))"
   ]
  },
  {
   "cell_type": "code",
   "execution_count": null,
   "metadata": {
    "collapsed": false
   },
   "outputs": [],
   "source": [
    "pmmos3 = ['4_79604', '4_79605', '4_79606'] \n",
    "nxe.draw(nxe.graph_by_nodes_list(network, pmmos2))"
   ]
  },
  {
   "cell_type": "code",
   "execution_count": null,
   "metadata": {
    "collapsed": false
   },
   "outputs": [],
   "source": [
    "keys = []\n",
    "for key, value in names_dict.items():\n",
    "    if 'ethane' in value: \n",
    "        keys.append(key)\n",
    "keys = sorted(keys)\n",
    "for key in keys:\n",
    "    print(key, names_dict[key])"
   ]
  },
  {
   "cell_type": "code",
   "execution_count": null,
   "metadata": {
    "collapsed": false
   },
   "outputs": [],
   "source": [
    "nxe.draw(nxe.graph_by_nodes_list(network, keys), nx.spring_layout)"
   ]
  },
  {
   "cell_type": "code",
   "execution_count": null,
   "metadata": {
    "collapsed": false
   },
   "outputs": [],
   "source": [
    "print(names_dict['2_20547'])"
   ]
  },
  {
   "cell_type": "code",
   "execution_count": null,
   "metadata": {
    "collapsed": false
   },
   "outputs": [],
   "source": [
    "low_conn = [k for k, v in nx.degree(network).items() if v < 10]\n",
    "print(len(low_conn))\n",
    "low_conn"
   ]
  },
  {
   "cell_type": "code",
   "execution_count": null,
   "metadata": {
    "collapsed": false
   },
   "outputs": [],
   "source": [
    "# ?? \n",
    "#print(names_dict['5_168418'])"
   ]
  },
  {
   "cell_type": "code",
   "execution_count": null,
   "metadata": {
    "collapsed": false
   },
   "outputs": [],
   "source": [
    "#print(names_dict['5_63560'])\n",
    "network['5_63560']\n",
    "#network['5_63560']"
   ]
  },
  {
   "cell_type": "code",
   "execution_count": null,
   "metadata": {
    "collapsed": false
   },
   "outputs": [],
   "source": [
    "a = [1,2,3,4]\n",
    "print(list(itertools.combinations(a,2)))"
   ]
  },
  {
   "cell_type": "code",
   "execution_count": null,
   "metadata": {
    "collapsed": false
   },
   "outputs": [],
   "source": [
    "#mmo_list = ['A', 'B', 'C'] \n",
    "mmo_list = ['3_138947', '3_138948', '3_138949'] \n",
    "combos = list(itertools.combinations(mmo_list, 2))\n",
    "#combos = [(x, y) for (x, y) in combos if x != y]\n",
    "combos"
   ]
  },
  {
   "cell_type": "code",
   "execution_count": null,
   "metadata": {
    "collapsed": false
   },
   "outputs": [],
   "source": [
    "sys.path.append('/work/rnaseq/pcor_new')\n",
    "import network_prep"
   ]
  },
  {
   "cell_type": "code",
   "execution_count": null,
   "metadata": {
    "collapsed": false
   },
   "outputs": [],
   "source": [
    "print(network_prep.RAW_DATA_PATH)"
   ]
  },
  {
   "cell_type": "code",
   "execution_count": null,
   "metadata": {
    "collapsed": false
   },
   "outputs": [],
   "source": [
    "reads_path = network_prep.RAW_DATA_PATH\n",
    "locus_regex = network_prep.LOCUS_REGEX\n",
    "read_counts = pd.read_csv(reads_path, sep='\\t')\n",
    "read_counts['id'] = read_counts['locus'].str.extract(locus_regex, expand=True)\n",
    "del read_counts['locus']\n",
    "read_counts.head(3)"
   ]
  },
  {
   "cell_type": "code",
   "execution_count": null,
   "metadata": {
    "collapsed": false
   },
   "outputs": [],
   "source": [
    "read_counts = read_counts.set_index('id').T\n",
    "read_counts.head()"
   ]
  },
  {
   "cell_type": "code",
   "execution_count": null,
   "metadata": {
    "collapsed": false
   },
   "outputs": [],
   "source": [
    "read_counts.columns[0:10]"
   ]
  },
  {
   "cell_type": "code",
   "execution_count": null,
   "metadata": {
    "collapsed": false
   },
   "outputs": [],
   "source": [
    "from textwrap import wrap\n",
    "\n",
    "def plot_expression_scatters_by_pair(nodes_list):\n",
    "    subplot_vars = list(itertools.combinations(nodes_list, 2))\n",
    "    print(subplot_vars)\n",
    "    fig, axs = plt.subplots(len(subplot_vars), 1, \n",
    "                            figsize = (4, 7),\n",
    "                            sharex=True, sharey=True)\n",
    "    print(axs)\n",
    "    for axnum, ax in enumerate(fig.axes):\n",
    "        s1_var, s2_var = subplot_vars[axnum]\n",
    "        s1 = read_counts[s1_var]\n",
    "        s2 = read_counts[s2_var]\n",
    "        if s1.max() <= s2.max():\n",
    "            print('swtich x and y series so the larger magnitude one is x')\n",
    "            xvar = s2_var\n",
    "            yvar = s1_var\n",
    "            x = s2\n",
    "            y = s1\n",
    "        else:\n",
    "            print(\"don't swtich x and y series\")\n",
    "            xvar = s1_var\n",
    "            yvar = s2_var\n",
    "            x = s1\n",
    "            y = s2\n",
    "            \n",
    "        ax.plot(x, y, marker='o', linestyle='', alpha = 0.5)\n",
    "        \n",
    "        xname = '\\n'.join(wrap(names_dict[xvar], 50))\n",
    "        yname = '\\n'.join(wrap(names_dict[yvar], 22))\n",
    "        ax.set_xlabel(xname)\n",
    "        ax.set_ylabel(yname)\n",
    "        \n",
    "        ax.get_xaxis().set_major_formatter(\n",
    "            mpl.ticker.FuncFormatter(lambda x, p: format(int(x), ',')))\n",
    "        plt.xticks(rotation=90)\n",
    "        \n",
    "        ax.get_yaxis().set_major_formatter(\n",
    "            mpl.ticker.FuncFormatter(lambda x, p: format(int(x), ',')))\n",
    "        \n",
    "        for item in ([ax.title, ax.xaxis.label, ax.yaxis.label] +\n",
    "             ax.get_xticklabels() + ax.get_yticklabels()):\n",
    "            item.set_fontsize(9)\n",
    "        plt.subplots_adjust(hspace=0.5)\n",
    "    return fig\n",
    "    \n",
    "mmo_list = ['3_138947', '3_138948', '3_138949'] \n",
    "p = plot_expression_scatters_by_pair(mmo_list)\n",
    "    "
   ]
  },
  {
   "cell_type": "code",
   "execution_count": null,
   "metadata": {
    "collapsed": false
   },
   "outputs": [],
   "source": [
    "p = plot_expression_scatters_by_pair(pmmos1)\n",
    "p.savefig('./results/170402_correlations_between_pMMO_subunits--set1.pdf',\n",
    "          bbox_inches='tight')"
   ]
  },
  {
   "cell_type": "code",
   "execution_count": null,
   "metadata": {
    "collapsed": false
   },
   "outputs": [],
   "source": [
    "p = plot_expression_scatters_by_pair(pmmos2)\n",
    "p.savefig('./results/170402_correlations_between_pMMO_subunits--set2.pdf',\n",
    "          bbox_inches='tight')"
   ]
  },
  {
   "cell_type": "code",
   "execution_count": null,
   "metadata": {
    "collapsed": false
   },
   "outputs": [],
   "source": [
    "p = plot_expression_scatters_by_pair(pmmos3)\n",
    "p.savefig('./results/170402_correlations_between_pMMO_subunits--set3.pdf',\n",
    "          bbox_inches='tight')"
   ]
  },
  {
   "cell_type": "code",
   "execution_count": null,
   "metadata": {
    "collapsed": false
   },
   "outputs": [],
   "source": [
    "! realpath results/"
   ]
  },
  {
   "cell_type": "code",
   "execution_count": null,
   "metadata": {
    "collapsed": false
   },
   "outputs": [],
   "source": [
    "# edges_path = '/work/rnaseq/pcor_new/Ledoit_Wolf_r4.8xlarge_244GB_memory/ledoit_wolf_precision_cutoff_0.005--26967_genes.tsv'\n",
    "# gff_tsv_path = '/work/m4b_binning/assembly/prokka/contigs/contigs_longer_than_1500bp/contigs_longer_than_1500bp_gffs_concatenated.gff.genes.tsv'\n",
    "\n",
    "edges_df = nxh.load_edges(edges_path, 2.5)\n",
    "edges_df.head()"
   ]
  },
  {
   "cell_type": "code",
   "execution_count": null,
   "metadata": {
    "collapsed": false
   },
   "outputs": [],
   "source": [
    "edges_df.head()"
   ]
  },
  {
   "cell_type": "code",
   "execution_count": null,
   "metadata": {
    "collapsed": false
   },
   "outputs": [],
   "source": [
    "pmmo_sets = pmmos3 + pmmos2 + pmmos1\n",
    "pmmo_sets"
   ]
  },
  {
   "cell_type": "code",
   "execution_count": null,
   "metadata": {
    "collapsed": false
   },
   "outputs": [],
   "source": [
    "edges_df[edges_df['gene A'].isin(pmmo_sets) &\n",
    "         edges_df['gene B'].isin(pmmo_sets)].sort_values(\n",
    "    ['gene A', 'gene B'])"
   ]
  },
  {
   "cell_type": "code",
   "execution_count": null,
   "metadata": {
    "collapsed": false
   },
   "outputs": [],
   "source": [
    "read_counts.head(3)"
   ]
  },
  {
   "cell_type": "code",
   "execution_count": null,
   "metadata": {
    "collapsed": false
   },
   "outputs": [],
   "source": [
    "pmmo_counts = \\\n",
    "    read_counts[pmmo_sets]\n",
    "pmmo_counts.head(3)"
   ]
  },
  {
   "cell_type": "code",
   "execution_count": null,
   "metadata": {
    "collapsed": true
   },
   "outputs": [],
   "source": [
    "from sklearn import covariance"
   ]
  },
  {
   "cell_type": "code",
   "execution_count": null,
   "metadata": {
    "collapsed": false
   },
   "outputs": [],
   "source": [
    "lw = covariance.LedoitWolf().fit(pmmo_counts.as_matrix())"
   ]
  },
  {
   "cell_type": "code",
   "execution_count": null,
   "metadata": {
    "collapsed": false
   },
   "outputs": [],
   "source": [
    "sns.heatmap(lw.get_precision())"
   ]
  },
  {
   "cell_type": "code",
   "execution_count": null,
   "metadata": {
    "collapsed": true
   },
   "outputs": [],
   "source": [
    "from sklearn.preprocessing import StandardScaler"
   ]
  },
  {
   "cell_type": "code",
   "execution_count": null,
   "metadata": {
    "collapsed": false
   },
   "outputs": [],
   "source": [
    "for r in range(1,9):\n",
    "    print(r)"
   ]
  },
  {
   "cell_type": "code",
   "execution_count": null,
   "metadata": {
    "collapsed": false
   },
   "outputs": [],
   "source": [
    "! pwd"
   ]
  },
  {
   "cell_type": "code",
   "execution_count": null,
   "metadata": {
    "collapsed": false
   },
   "outputs": [],
   "source": [
    "fig, ax = plt.subplots(1,1, figsize=(5,5))\n",
    "ss = StandardScaler(with_mean=False, with_std=True)\n",
    "scaled_mmo = ss.fit_transform(pmmo_counts)  #shape [n_samples, n_features]\n",
    "lw_ss = covariance.LedoitWolf(assume_centered=True).fit(scaled_mmo)\n",
    "#sns.heatmap(scaled_mmo)\n",
    "plot_df = pd.DataFrame(lw_ss.get_precision(), \n",
    "                       columns=range(1,9+1), index=range(1,9+1))\n",
    "sns.heatmap(plot_df, ax=ax,\n",
    "            cbar_kws={'label': 'partial\\ncorrelation'}, annot=False)\n",
    "ax.set_xlabel('pMMO gene')\n",
    "ax.set_ylabel('pMMO gene')\n",
    "fig.savefig('./results/170403_pMMO_pcor_heatmap.pdf',\n",
    "           bbox_inches='tight')"
   ]
  },
  {
   "cell_type": "code",
   "execution_count": null,
   "metadata": {
    "collapsed": false
   },
   "outputs": [],
   "source": [
    "pmmos3_counts = read_counts[pmmos3]\n",
    "#print(pmmos3_counts.head(20))\n",
    "\n",
    "ss = StandardScaler(with_mean=False, with_std=True)\n",
    "scaled_pmmos3_counts = ss.fit_transform(pmmos3_counts)\n",
    "print('scaled_pmmos3_counts:')\n",
    "#print(scaled_pmmos3_counts.head(10))\n",
    "\n",
    "lw_ss_pmmos3_counts = covariance.LedoitWolf().fit(scaled_pmmos3_counts)\n",
    "#sns.heatmap(scaled_mmo)\n",
    "#sns.heatmap(lw_ss_pmmos3_counts.get_precision())\n",
    "sns.heatmap(lw_ss_pmmos3_counts.precision_)"
   ]
  },
  {
   "cell_type": "code",
   "execution_count": null,
   "metadata": {
    "collapsed": false
   },
   "outputs": [],
   "source": [
    "fig, ax = plt.subplots(1, 1, figsize = (5, 2))\n",
    "pmmos3_counts['4_79604'].hist(ax=ax)\n",
    "ax.set_xlabel('counts')\n",
    "ax.set_ylabel('# of samples')"
   ]
  },
  {
   "cell_type": "code",
   "execution_count": null,
   "metadata": {
    "collapsed": true
   },
   "outputs": [],
   "source": [
    "import numpy as np"
   ]
  },
  {
   "cell_type": "code",
   "execution_count": null,
   "metadata": {
    "collapsed": false
   },
   "outputs": [],
   "source": [
    "fig, axs = plt.subplots(3, 3, figsize=(8, 8),\n",
    "                       sharex=False, sharey=True)\n",
    "axl = np.ravel(axs)\n",
    "plot_num = 0\n",
    "for p in pmmo_sets:\n",
    "    ax = axl[plot_num]\n",
    "    plot_num += 1\n",
    "    ax.set_title(p)\n",
    "    ax.set_ylabel('# of samples')\n",
    "    #print(pmmo_counts[p])\n",
    "    pmmo_counts[p].hist(ax=ax, bins=20)\n",
    "    for tick in ax.get_xticklabels():\n",
    "        tick.set_rotation(90)\n",
    "    ax.get_xaxis().set_major_formatter(\n",
    "        mpl.ticker.FuncFormatter(lambda x, p: format(int(x), ',')))\n",
    "plt.subplots_adjust(wspace=.4, hspace=.65)\n",
    "fig.savefig('./results/170403_read_count_distributions--3_pmoCAB_clusters.pdf',\n",
    "            bbox_inches='tight')\n"
   ]
  },
  {
   "cell_type": "code",
   "execution_count": null,
   "metadata": {
    "collapsed": true
   },
   "outputs": [],
   "source": [
    "pmmo_counts.to_csv('./results/sample_pMMO_counts.tsv', \n",
    "                   sep='\\t')"
   ]
  },
  {
   "cell_type": "code",
   "execution_count": null,
   "metadata": {
    "collapsed": false
   },
   "outputs": [],
   "source": [
    "pmmo_counts.head(2)"
   ]
  },
  {
   "cell_type": "code",
   "execution_count": null,
   "metadata": {
    "collapsed": false
   },
   "outputs": [],
   "source": [
    "read_counts.shape"
   ]
  },
  {
   "cell_type": "code",
   "execution_count": null,
   "metadata": {
    "collapsed": false
   },
   "outputs": [],
   "source": [
    "pmmo_sets"
   ]
  },
  {
   "cell_type": "code",
   "execution_count": null,
   "metadata": {
    "collapsed": false
   },
   "outputs": [],
   "source": [
    "keys = []\n",
    "for key, value in names_dict.items():\n",
    "    if 'ethanol dehydrogenase' in value: \n",
    "        keys.append(key)\n",
    "keys = sorted(keys)\n",
    "for key in keys:\n",
    "    print(key, names_dict[key])"
   ]
  },
  {
   "cell_type": "code",
   "execution_count": null,
   "metadata": {
    "collapsed": false
   },
   "outputs": [],
   "source": [
    "keys = []\n",
    "for key, value in names_dict.items():\n",
    "    if '3-hexulose-6-phosphate' in value: \n",
    "        keys.append(key)\n",
    "keys = sorted(keys)\n",
    "for key in keys:\n",
    "    print(key, names_dict[key])"
   ]
  },
  {
   "cell_type": "code",
   "execution_count": null,
   "metadata": {
    "collapsed": true
   },
   "outputs": [],
   "source": [
    "hps_hpi_pairs = [\n",
    "    ['1_142178', '1_142179'], # no pcor in this set\n",
    "    ['1_148469', '1_148470'], # pcor = - 31.46\n",
    "    ['2_159112', '2_159113'], # pcor = - 4.3\n",
    "    ['4_43633', '4_43634'],   # pcor = - 133.96\n",
    "    ['5_111291', '5_111292']  # no pcor in this set. \n",
    "    ]"
   ]
  },
  {
   "cell_type": "code",
   "execution_count": null,
   "metadata": {
    "collapsed": false
   },
   "outputs": [],
   "source": [
    "# nxe.draw(nxe.graph_by_nodes_list(network, pmmos2))\n",
    "nxe.draw(nxe.graph_by_nodes_list(network, hps_hpi_pairs[4]))"
   ]
  },
  {
   "cell_type": "code",
   "execution_count": null,
   "metadata": {
    "collapsed": false
   },
   "outputs": [],
   "source": [
    "for h in hps_hpi_pairs:\n",
    "    print(h)\n",
    "    print('---')\n",
    "    nxe.draw(nxe.graph_by_nodes_list(network, h))"
   ]
  },
  {
   "cell_type": "code",
   "execution_count": null,
   "metadata": {
    "collapsed": true
   },
   "outputs": [],
   "source": [
    "from textwrap import wrap\n",
    "\n",
    "def plot_expression_scatters_by_pair(nodes_list):\n",
    "    subplot_vars = list(itertools.combinations(nodes_list, 2))\n",
    "    print(subplot_vars)\n",
    "    fig, axs = plt.subplots(len(subplot_vars), 1, \n",
    "                            figsize = (4, 7),\n",
    "                            sharex=True, sharey=True)\n",
    "    print(axs)\n",
    "    for axnum, ax in enumerate(fig.axes):\n",
    "        s1_var, s2_var = subplot_vars[axnum]\n",
    "        s1 = read_counts[s1_var]\n",
    "        s2 = read_counts[s2_var]\n",
    "        if s1.max() <= s2.max():\n",
    "            print('swtich x and y series so the larger magnitude one is x')\n",
    "            xvar = s2_var\n",
    "            yvar = s1_var\n",
    "            x = s2\n",
    "            y = s1\n",
    "        else:\n",
    "            print(\"don't swtich x and y series\")\n",
    "            xvar = s1_var\n",
    "            yvar = s2_var\n",
    "            x = s1\n",
    "            y = s2\n",
    "            \n",
    "        ax.plot(x, y, marker='o', linestyle='', alpha = 0.5)\n",
    "        \n",
    "        xname = '\\n'.join(wrap(names_dict[xvar], 50))\n",
    "        yname = '\\n'.join(wrap(names_dict[yvar], 22))\n",
    "        ax.set_xlabel(xname)\n",
    "        ax.set_ylabel(yname)\n",
    "        \n",
    "        ax.get_xaxis().set_major_formatter(\n",
    "            mpl.ticker.FuncFormatter(lambda x, p: format(int(x), ',')))\n",
    "        plt.xticks(rotation=90)\n",
    "        \n",
    "        ax.get_yaxis().set_major_formatter(\n",
    "            mpl.ticker.FuncFormatter(lambda x, p: format(int(x), ',')))\n",
    "        \n",
    "        for item in ([ax.title, ax.xaxis.label, ax.yaxis.label] +\n",
    "             ax.get_xticklabels() + ax.get_yticklabels()):\n",
    "            item.set_fontsize(9)\n",
    "        plt.subplots_adjust(hspace=0.5)\n",
    "    return fig\n",
    "    \n",
    "mmo_list = ['3_138947', '3_138948', '3_138949'] \n",
    "p = plot_expression_scatters_by_pair(mmo_list)\n",
    "    "
   ]
  },
  {
   "cell_type": "code",
   "execution_count": null,
   "metadata": {
    "collapsed": true
   },
   "outputs": [],
   "source": [
    "fig, axs = plt.subplots(3, 3, figsize=(8, 8),\n",
    "                       sharex=False, sharey=True)\n",
    "axl = np.ravel(axs)\n",
    "plot_num = 0\n",
    "for p in pmmo_sets:\n",
    "    ax = axl[plot_num]\n",
    "    plot_num += 1\n",
    "    ax.set_title(p)\n",
    "    ax.set_ylabel('# of samples')\n",
    "    #print(pmmo_counts[p])\n",
    "    pmmo_counts[p].hist(ax=ax, bins=20)\n",
    "    for tick in ax.get_xticklabels():\n",
    "        tick.set_rotation(90)\n",
    "    ax.get_xaxis().set_major_formatter(\n",
    "        mpl.ticker.FuncFormatter(lambda x, p: format(int(x), ',')))\n",
    "plt.subplots_adjust(wspace=.4, hspace=.65)\n",
    "fig.savefig('./results/170403_read_count_distributions--3_pmoCAB_clusters.pdf',\n",
    "            bbox_inches='tight')\n"
   ]
  }
 ],
 "metadata": {
  "anaconda-cloud": {},
  "kernelspec": {
   "display_name": "Python [conda env:py3]",
   "language": "python",
   "name": "conda-env-py3-py"
  },
  "language_info": {
   "codemirror_mode": {
    "name": "ipython",
    "version": 3
   },
   "file_extension": ".py",
   "mimetype": "text/x-python",
   "name": "python",
   "nbconvert_exporter": "python",
   "pygments_lexer": "ipython3",
   "version": "3.5.2"
  }
 },
 "nbformat": 4,
 "nbformat_minor": 2
}
