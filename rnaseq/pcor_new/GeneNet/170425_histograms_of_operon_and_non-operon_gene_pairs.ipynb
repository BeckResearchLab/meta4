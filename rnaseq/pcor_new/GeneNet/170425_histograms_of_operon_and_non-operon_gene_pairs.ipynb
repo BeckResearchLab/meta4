{
 "cells": [
  {
   "cell_type": "code",
   "execution_count": 1,
   "metadata": {
    "collapsed": true
   },
   "outputs": [],
   "source": [
    "# Import matplotlib before seaborn\n",
    "import matplotlib as mpl\n",
    "import matplotlib.pyplot as plt\n",
    "import itertools  # for color palette cycling\n",
    "import os\n",
    "import re\n",
    "import pandas as pd\n",
    "import seaborn as sns\n",
    "import sys\n",
    "from cycler import cycler\n",
    "import seaborn as sns\n",
    "%matplotlib inline"
   ]
  },
  {
   "cell_type": "code",
   "execution_count": 2,
   "metadata": {
    "collapsed": true
   },
   "outputs": [],
   "source": [
    "import numpy as np"
   ]
  },
  {
   "cell_type": "code",
   "execution_count": 3,
   "metadata": {
    "collapsed": false
   },
   "outputs": [],
   "source": [
    "%load_ext autoreload\n",
    "%autoreload 2"
   ]
  },
  {
   "cell_type": "code",
   "execution_count": 4,
   "metadata": {
    "collapsed": false,
    "scrolled": true
   },
   "outputs": [
    {
     "name": "stderr",
     "output_type": "stream",
     "text": [
      "/work/software/anaconda3/envs/py3/lib/python3.5/site-packages/matplotlib/__init__.py:1357: UserWarning:  This call to matplotlib.use() has no effect\n",
      "because the backend has already been chosen;\n",
      "matplotlib.use() must be called *before* pylab, matplotlib.pyplot,\n",
      "or matplotlib.backends is imported for the first time.\n",
      "\n",
      "  warnings.warn(_use_error_msg)\n"
     ]
    }
   ],
   "source": [
    "sys.path.append('/work/rnaseq/pcor_new')\n",
    "import plot_histograms_by_edge_category"
   ]
  },
  {
   "cell_type": "markdown",
   "metadata": {},
   "source": [
    "## Notes: \n",
    "\n",
    "* This notebook deprecates `rnaseq/pcor_new/GeneNet/170412_look_at_GeneNet_network.ipynb`, which was moved to `rnaseq/pcor_new/old` upon this notebook's first commit. \n",
    "* I don't actually use the Cytoscape export code after the `assert False` code below.  But maybe someone else will find it useful. "
   ]
  },
  {
   "cell_type": "code",
   "execution_count": 5,
   "metadata": {
    "collapsed": true
   },
   "outputs": [],
   "source": [
    "EDGE_DIR = 'cutoff_0.01'"
   ]
  },
  {
   "cell_type": "code",
   "execution_count": 6,
   "metadata": {
    "collapsed": false
   },
   "outputs": [
    {
     "name": "stdout",
     "output_type": "stream",
     "text": [
      "170425_explore_cutoff_0.01\n"
     ]
    }
   ],
   "source": [
    "plot_dir = '170425_explore_' + EDGE_DIR\n",
    "print(plot_dir)\n",
    "if not os.path.exists(plot_dir):\n",
    "    os.mkdir(plot_dir)"
   ]
  },
  {
   "cell_type": "code",
   "execution_count": 7,
   "metadata": {
    "collapsed": false
   },
   "outputs": [
    {
     "name": "stdout",
     "output_type": "stream",
     "text": [
      "/work/rnaseq/pcor_new/GeneNet/170425_explore_cutoff_0.01\r\n"
     ]
    }
   ],
   "source": [
    "! realpath $plot_dir"
   ]
  },
  {
   "cell_type": "code",
   "execution_count": 8,
   "metadata": {
    "collapsed": false
   },
   "outputs": [
    {
     "name": "stdout",
     "output_type": "stream",
     "text": [
      "cutoff_0.01/results/data/input_to_R--no_features_dropped--top_1e+06_edges.tsv\n"
     ]
    }
   ],
   "source": [
    "import glob\n",
    "\n",
    "search_path = os.path.join(EDGE_DIR, 'results/data/*top_*_edges.tsv')\n",
    "EDGE_FILE = glob.glob(search_path)[0]\n",
    "print(EDGE_FILE)"
   ]
  },
  {
   "cell_type": "code",
   "execution_count": 9,
   "metadata": {
    "collapsed": false
   },
   "outputs": [
    {
     "data": {
      "text/html": [
       "<div>\n",
       "<table border=\"1\" class=\"dataframe\">\n",
       "  <thead>\n",
       "    <tr style=\"text-align: right;\">\n",
       "      <th></th>\n",
       "      <th>node2_locus</th>\n",
       "      <th>node1_locus</th>\n",
       "      <th>node2</th>\n",
       "      <th>node1</th>\n",
       "      <th>pcor</th>\n",
       "      <th>pval</th>\n",
       "      <th>qval</th>\n",
       "      <th>prob</th>\n",
       "      <th>log.spvar</th>\n",
       "      <th>pval.dir</th>\n",
       "      <th>qval.dir</th>\n",
       "      <th>prob.dir</th>\n",
       "      <th>directions</th>\n",
       "      <th>product_1</th>\n",
       "      <th>product_2</th>\n",
       "    </tr>\n",
       "  </thead>\n",
       "  <tbody>\n",
       "    <tr>\n",
       "      <th>1</th>\n",
       "      <td>1_00451</td>\n",
       "      <td>1_00266</td>\n",
       "      <td>2</td>\n",
       "      <td>1</td>\n",
       "      <td>0.002622</td>\n",
       "      <td>8.347989e-12</td>\n",
       "      <td>7.958762e-11</td>\n",
       "      <td>1.000000</td>\n",
       "      <td>0.007486</td>\n",
       "      <td>0.581858</td>\n",
       "      <td>0.710264</td>\n",
       "      <td>2.475797e-14</td>\n",
       "      <td>undirected</td>\n",
       "      <td>Vitamin B12 transporter BtuB</td>\n",
       "      <td>DNA-directed RNA polymerase subunit beta'</td>\n",
       "    </tr>\n",
       "    <tr>\n",
       "      <th>2</th>\n",
       "      <td>1_00466</td>\n",
       "      <td>1_00266</td>\n",
       "      <td>3</td>\n",
       "      <td>1</td>\n",
       "      <td>-0.003618</td>\n",
       "      <td>2.220446e-16</td>\n",
       "      <td>2.705115e-15</td>\n",
       "      <td>1.000000</td>\n",
       "      <td>0.002628</td>\n",
       "      <td>0.846709</td>\n",
       "      <td>0.781050</td>\n",
       "      <td>2.475797e-14</td>\n",
       "      <td>undirected</td>\n",
       "      <td>Vitamin B12 transporter BtuB</td>\n",
       "      <td>Iron deficiency-induced protein A precursor</td>\n",
       "    </tr>\n",
       "    <tr>\n",
       "      <th>3</th>\n",
       "      <td>1_00499</td>\n",
       "      <td>1_00466</td>\n",
       "      <td>4</td>\n",
       "      <td>3</td>\n",
       "      <td>-0.002055</td>\n",
       "      <td>8.513387e-08</td>\n",
       "      <td>6.011404e-07</td>\n",
       "      <td>0.999985</td>\n",
       "      <td>0.003758</td>\n",
       "      <td>0.782226</td>\n",
       "      <td>0.767203</td>\n",
       "      <td>2.475797e-14</td>\n",
       "      <td>undirected</td>\n",
       "      <td>Iron deficiency-induced protein A precursor</td>\n",
       "      <td>L-2%2C4-diaminobutyrate decarboxylase</td>\n",
       "    </tr>\n",
       "    <tr>\n",
       "      <th>4</th>\n",
       "      <td>1_00499</td>\n",
       "      <td>1_00266</td>\n",
       "      <td>4</td>\n",
       "      <td>1</td>\n",
       "      <td>0.003241</td>\n",
       "      <td>2.220446e-16</td>\n",
       "      <td>2.705115e-15</td>\n",
       "      <td>1.000000</td>\n",
       "      <td>0.006386</td>\n",
       "      <td>0.638542</td>\n",
       "      <td>0.729015</td>\n",
       "      <td>2.475797e-14</td>\n",
       "      <td>undirected</td>\n",
       "      <td>Vitamin B12 transporter BtuB</td>\n",
       "      <td>L-2%2C4-diaminobutyrate decarboxylase</td>\n",
       "    </tr>\n",
       "    <tr>\n",
       "      <th>5</th>\n",
       "      <td>1_00912</td>\n",
       "      <td>1_00451</td>\n",
       "      <td>6</td>\n",
       "      <td>2</td>\n",
       "      <td>0.003346</td>\n",
       "      <td>2.220446e-16</td>\n",
       "      <td>2.705115e-15</td>\n",
       "      <td>1.000000</td>\n",
       "      <td>0.000426</td>\n",
       "      <td>0.975016</td>\n",
       "      <td>0.804222</td>\n",
       "      <td>2.475797e-14</td>\n",
       "      <td>undirected</td>\n",
       "      <td>DNA-directed RNA polymerase subunit beta'</td>\n",
       "      <td>hypothetical protein</td>\n",
       "    </tr>\n",
       "  </tbody>\n",
       "</table>\n",
       "</div>"
      ],
      "text/plain": [
       "  node2_locus node1_locus  node2  node1      pcor          pval          qval  \\\n",
       "1     1_00451     1_00266      2      1  0.002622  8.347989e-12  7.958762e-11   \n",
       "2     1_00466     1_00266      3      1 -0.003618  2.220446e-16  2.705115e-15   \n",
       "3     1_00499     1_00466      4      3 -0.002055  8.513387e-08  6.011404e-07   \n",
       "4     1_00499     1_00266      4      1  0.003241  2.220446e-16  2.705115e-15   \n",
       "5     1_00912     1_00451      6      2  0.003346  2.220446e-16  2.705115e-15   \n",
       "\n",
       "       prob  log.spvar  pval.dir  qval.dir      prob.dir  directions  \\\n",
       "1  1.000000   0.007486  0.581858  0.710264  2.475797e-14  undirected   \n",
       "2  1.000000   0.002628  0.846709  0.781050  2.475797e-14  undirected   \n",
       "3  0.999985   0.003758  0.782226  0.767203  2.475797e-14  undirected   \n",
       "4  1.000000   0.006386  0.638542  0.729015  2.475797e-14  undirected   \n",
       "5  1.000000   0.000426  0.975016  0.804222  2.475797e-14  undirected   \n",
       "\n",
       "                                     product_1  \\\n",
       "1                 Vitamin B12 transporter BtuB   \n",
       "2                 Vitamin B12 transporter BtuB   \n",
       "3  Iron deficiency-induced protein A precursor   \n",
       "4                 Vitamin B12 transporter BtuB   \n",
       "5    DNA-directed RNA polymerase subunit beta'   \n",
       "\n",
       "                                     product_2  \n",
       "1    DNA-directed RNA polymerase subunit beta'  \n",
       "2  Iron deficiency-induced protein A precursor  \n",
       "3        L-2%2C4-diaminobutyrate decarboxylase  \n",
       "4        L-2%2C4-diaminobutyrate decarboxylase  \n",
       "5                         hypothetical protein  "
      ]
     },
     "execution_count": 9,
     "metadata": {},
     "output_type": "execute_result"
    }
   ],
   "source": [
    "edges = plot_histograms_by_edge_category.load_edges(EDGE_FILE)\n",
    "\n",
    "edges.head()"
   ]
  },
  {
   "cell_type": "code",
   "execution_count": 10,
   "metadata": {
    "collapsed": false
   },
   "outputs": [
    {
     "name": "stdout",
     "output_type": "stream",
     "text": [
      "number of edges: 1e+06\n"
     ]
    }
   ],
   "source": [
    "NUM_EDGES = edges.shape[0]\n",
    "print('number of edges: {:.0e}'.format(NUM_EDGES))"
   ]
  },
  {
   "cell_type": "markdown",
   "metadata": {
    "collapsed": false
   },
   "source": [
    "edges = pd.read_csv(EDGE_FILE, sep='\\t')\n",
    "NUM_EDGES = edges.shape[0]\n",
    "print('number of edges: {:.0e}'.format(NUM_EDGES))\n",
    "edges.head()"
   ]
  },
  {
   "cell_type": "code",
   "execution_count": 11,
   "metadata": {
    "collapsed": false
   },
   "outputs": [
    {
     "name": "stdout",
     "output_type": "stream",
     "text": [
      "fraction of edges that have \"hypothetical protein\": 0.545207.  (for 1000000 edges)\n"
     ]
    }
   ],
   "source": [
    "# how many edges have 'hypothetical protein' in them? \n",
    "frac_hypothetical = \\\n",
    "    edges[edges['product_1'].str.contains('hypothetical protein') | \n",
    "          edges['product_2'].str.contains('hypothetical protein')].shape[0]/edges.shape[0]\n",
    "print('fraction of edges that have \"hypothetical protein\": {}.  (for {} edges)'.format(\n",
    "    frac_hypothetical, NUM_EDGES))"
   ]
  },
  {
   "cell_type": "code",
   "execution_count": 12,
   "metadata": {
    "collapsed": false
   },
   "outputs": [
    {
     "name": "stdout",
     "output_type": "stream",
     "text": [
      "170425_explore_cutoff_0.01/pcor_hist--1e+06_edges.pdf\n"
     ]
    },
    {
     "name": "stderr",
     "output_type": "stream",
     "text": [
      "/work/software/anaconda3/envs/py3/lib/python3.5/site-packages/matplotlib/font_manager.py:1288: UserWarning: findfont: Font family ['sans-serif'] not found. Falling back to Bitstream Vera Sans\n",
      "  (prop.get_family(), self.defaultFamily[fontext]))\n"
     ]
    },
    {
     "data": {
      "image/png": "[encoded data removed]",
      "text/plain": [
       "<matplotlib.figure.Figure at 0x7fc70ecdd9e8>"
      ]
     },
     "metadata": {},
     "output_type": "display_data"
    }
   ],
   "source": [
    "fig, ax = plt.subplots(1,1, figsize=(4, 2.5))\n",
    "edges['pcor'].hist(bins=120, ax=ax)\n",
    "ax.set_xlabel('partial correlation (GeneNet)')\n",
    "ax.set_ylabel('number of edges')\n",
    "plt.xticks(rotation=90)\n",
    "if NUM_EDGES > 1e6*0.5:\n",
    "    ax.set_yscale('log')\n",
    "fname = os.path.join(plot_dir, 'pcor_hist--{:.0e}_edges.pdf'.format(NUM_EDGES))\n",
    "print(fname)\n",
    "fig.savefig(fname, bbox_inches='tight')"
   ]
  },
  {
   "cell_type": "code",
   "execution_count": 13,
   "metadata": {
    "collapsed": false
   },
   "outputs": [
    {
     "data": {
      "text/html": [
       "<div>\n",
       "<table border=\"1\" class=\"dataframe\">\n",
       "  <thead>\n",
       "    <tr style=\"text-align: right;\">\n",
       "      <th></th>\n",
       "      <th>node2_locus</th>\n",
       "      <th>node1_locus</th>\n",
       "      <th>node2</th>\n",
       "      <th>node1</th>\n",
       "      <th>pcor</th>\n",
       "      <th>pval</th>\n",
       "      <th>qval</th>\n",
       "      <th>prob</th>\n",
       "      <th>log.spvar</th>\n",
       "      <th>pval.dir</th>\n",
       "      <th>qval.dir</th>\n",
       "      <th>prob.dir</th>\n",
       "      <th>directions</th>\n",
       "      <th>product_1</th>\n",
       "      <th>product_2</th>\n",
       "    </tr>\n",
       "  </thead>\n",
       "  <tbody>\n",
       "    <tr>\n",
       "      <th>98203</th>\n",
       "      <td>1_91925</td>\n",
       "      <td>1_91924</td>\n",
       "      <td>1248</td>\n",
       "      <td>1247</td>\n",
       "      <td>0.238674</td>\n",
       "      <td>2.220446e-16</td>\n",
       "      <td>2.705115e-15</td>\n",
       "      <td>1.0</td>\n",
       "      <td>-0.191140</td>\n",
       "      <td>2.220446e-16</td>\n",
       "      <td>5.735520e-15</td>\n",
       "      <td>1.000000e+00</td>\n",
       "      <td>2to1</td>\n",
       "      <td>hypothetical protein</td>\n",
       "      <td>hypothetical protein</td>\n",
       "    </tr>\n",
       "    <tr>\n",
       "      <th>278678</th>\n",
       "      <td>2_66262</td>\n",
       "      <td>2_136667</td>\n",
       "      <td>2054</td>\n",
       "      <td>1541</td>\n",
       "      <td>0.223293</td>\n",
       "      <td>2.220446e-16</td>\n",
       "      <td>2.705115e-15</td>\n",
       "      <td>1.0</td>\n",
       "      <td>-0.048481</td>\n",
       "      <td>3.622060e-04</td>\n",
       "      <td>2.358016e-03</td>\n",
       "      <td>9.815124e-01</td>\n",
       "      <td>2to1</td>\n",
       "      <td>hypothetical protein</td>\n",
       "      <td>hypothetical protein</td>\n",
       "    </tr>\n",
       "    <tr>\n",
       "      <th>279684</th>\n",
       "      <td>2_66263</td>\n",
       "      <td>2_66262</td>\n",
       "      <td>2055</td>\n",
       "      <td>2054</td>\n",
       "      <td>0.270545</td>\n",
       "      <td>2.220446e-16</td>\n",
       "      <td>2.705115e-15</td>\n",
       "      <td>1.0</td>\n",
       "      <td>0.078263</td>\n",
       "      <td>8.565390e-09</td>\n",
       "      <td>1.193686e-07</td>\n",
       "      <td>9.999976e-01</td>\n",
       "      <td>1to2</td>\n",
       "      <td>hypothetical protein</td>\n",
       "      <td>hypothetical protein</td>\n",
       "    </tr>\n",
       "    <tr>\n",
       "      <th>415926</th>\n",
       "      <td>3_147904</td>\n",
       "      <td>1_185205</td>\n",
       "      <td>2505</td>\n",
       "      <td>621</td>\n",
       "      <td>0.222781</td>\n",
       "      <td>2.220446e-16</td>\n",
       "      <td>2.705115e-15</td>\n",
       "      <td>1.0</td>\n",
       "      <td>-0.152769</td>\n",
       "      <td>2.220446e-16</td>\n",
       "      <td>5.735520e-15</td>\n",
       "      <td>1.000000e+00</td>\n",
       "      <td>2to1</td>\n",
       "      <td>hypothetical protein</td>\n",
       "      <td>Bacteriophage coat protein B</td>\n",
       "    </tr>\n",
       "    <tr>\n",
       "      <th>476014</th>\n",
       "      <td>3_36653</td>\n",
       "      <td>3_131225</td>\n",
       "      <td>2672</td>\n",
       "      <td>2446</td>\n",
       "      <td>0.209196</td>\n",
       "      <td>2.220446e-16</td>\n",
       "      <td>2.705115e-15</td>\n",
       "      <td>1.0</td>\n",
       "      <td>0.033898</td>\n",
       "      <td>1.264991e-02</td>\n",
       "      <td>5.059853e-02</td>\n",
       "      <td>2.475797e-14</td>\n",
       "      <td>undirected</td>\n",
       "      <td>EVE domain protein</td>\n",
       "      <td>PEP-CTERM motif protein</td>\n",
       "    </tr>\n",
       "    <tr>\n",
       "      <th>805472</th>\n",
       "      <td>4_90575</td>\n",
       "      <td>2_95136</td>\n",
       "      <td>3427</td>\n",
       "      <td>2256</td>\n",
       "      <td>0.268319</td>\n",
       "      <td>2.220446e-16</td>\n",
       "      <td>2.705115e-15</td>\n",
       "      <td>1.0</td>\n",
       "      <td>-0.011693</td>\n",
       "      <td>3.897372e-01</td>\n",
       "      <td>6.214984e-01</td>\n",
       "      <td>2.475797e-14</td>\n",
       "      <td>undirected</td>\n",
       "      <td>hypothetical protein</td>\n",
       "      <td>Cell wall-associated hydrolase</td>\n",
       "    </tr>\n",
       "  </tbody>\n",
       "</table>\n",
       "</div>"
      ],
      "text/plain": [
       "       node2_locus node1_locus  node2  node1      pcor          pval  \\\n",
       "98203      1_91925     1_91924   1248   1247  0.238674  2.220446e-16   \n",
       "278678     2_66262    2_136667   2054   1541  0.223293  2.220446e-16   \n",
       "279684     2_66263     2_66262   2055   2054  0.270545  2.220446e-16   \n",
       "415926    3_147904    1_185205   2505    621  0.222781  2.220446e-16   \n",
       "476014     3_36653    3_131225   2672   2446  0.209196  2.220446e-16   \n",
       "805472     4_90575     2_95136   3427   2256  0.268319  2.220446e-16   \n",
       "\n",
       "                qval  prob  log.spvar      pval.dir      qval.dir  \\\n",
       "98203   2.705115e-15   1.0  -0.191140  2.220446e-16  5.735520e-15   \n",
       "278678  2.705115e-15   1.0  -0.048481  3.622060e-04  2.358016e-03   \n",
       "279684  2.705115e-15   1.0   0.078263  8.565390e-09  1.193686e-07   \n",
       "415926  2.705115e-15   1.0  -0.152769  2.220446e-16  5.735520e-15   \n",
       "476014  2.705115e-15   1.0   0.033898  1.264991e-02  5.059853e-02   \n",
       "805472  2.705115e-15   1.0  -0.011693  3.897372e-01  6.214984e-01   \n",
       "\n",
       "            prob.dir  directions             product_1  \\\n",
       "98203   1.000000e+00        2to1  hypothetical protein   \n",
       "278678  9.815124e-01        2to1  hypothetical protein   \n",
       "279684  9.999976e-01        1to2  hypothetical protein   \n",
       "415926  1.000000e+00        2to1  hypothetical protein   \n",
       "476014  2.475797e-14  undirected    EVE domain protein   \n",
       "805472  2.475797e-14  undirected  hypothetical protein   \n",
       "\n",
       "                             product_2  \n",
       "98203             hypothetical protein  \n",
       "278678            hypothetical protein  \n",
       "279684            hypothetical protein  \n",
       "415926    Bacteriophage coat protein B  \n",
       "476014         PEP-CTERM motif protein  \n",
       "805472  Cell wall-associated hydrolase  "
      ]
     },
     "execution_count": 13,
     "metadata": {},
     "output_type": "execute_result"
    }
   ],
   "source": [
    "edges[edges['pcor'] > 0.2]"
   ]
  },
  {
   "cell_type": "code",
   "execution_count": 14,
   "metadata": {
    "collapsed": false
   },
   "outputs": [
    {
     "name": "stdout",
     "output_type": "stream",
     "text": [
      "170425_explore_cutoff_0.01/pcor_hist--1e+06_edges--hypothetical_proteins_only.pdf\n"
     ]
    },
    {
     "name": "stderr",
     "output_type": "stream",
     "text": [
      "/work/software/anaconda3/envs/py3/lib/python3.5/site-packages/matplotlib/font_manager.py:1288: UserWarning: findfont: Font family ['sans-serif'] not found. Falling back to Bitstream Vera Sans\n",
      "  (prop.get_family(), self.defaultFamily[fontext]))\n"
     ]
    },
    {
     "data": {
      "image/png": "[encoded data removed]",
      "text/plain": [
       "<matplotlib.figure.Figure at 0x7fc70ed0b358>"
      ]
     },
     "metadata": {},
     "output_type": "display_data"
    }
   ],
   "source": [
    "hypo = edges[edges['product_1'].str.contains('hypothetical protein') & \n",
    "                 edges['product_2'].str.contains('hypothetical protein')]\n",
    "hypo.shape\n",
    "\n",
    "fig, ax = plt.subplots(1,1, figsize=(4, 2.5))\n",
    "hypo['pcor'].hist(bins=120, ax=ax)\n",
    "ax.set_xlabel('partial correlation (GeneNet)')\n",
    "ax.set_ylabel('number of edges')\n",
    "plt.xticks(rotation=90)\n",
    "if NUM_EDGES > 1e6*0.5:\n",
    "    ax.set_yscale('log')\n",
    "    \n",
    "fname = os.path.join(\n",
    "    plot_dir, \n",
    "    'pcor_hist--{:.0e}_edges--hypothetical_proteins_only.pdf'.format(NUM_EDGES))\n",
    "print(fname)\n",
    "fig.savefig(fname, bbox_inches='tight')"
   ]
  },
  {
   "cell_type": "code",
   "execution_count": 15,
   "metadata": {
    "collapsed": false
   },
   "outputs": [
    {
     "name": "stdout",
     "output_type": "stream",
     "text": [
      "170425_explore_cutoff_0.01/pcor_hist--1e+06_edges--hypothetical_proteins_omitted.pdf\n"
     ]
    },
    {
     "name": "stderr",
     "output_type": "stream",
     "text": [
      "/work/software/anaconda3/envs/py3/lib/python3.5/site-packages/matplotlib/font_manager.py:1288: UserWarning: findfont: Font family ['sans-serif'] not found. Falling back to Bitstream Vera Sans\n",
      "  (prop.get_family(), self.defaultFamily[fontext]))\n"
     ]
    },
    {
     "data": {
      "image/png": "[encoded data removed]",
      "text/plain": [
       "<matplotlib.figure.Figure at 0x7fc70eb52668>"
      ]
     },
     "metadata": {},
     "output_type": "display_data"
    }
   ],
   "source": [
    "non_hypo = edges[~ edges['product_1'].str.contains('hypothetical protein') & \n",
    "                 ~ edges['product_2'].str.contains('hypothetical protein')]\n",
    "non_hypo.shape\n",
    "\n",
    "fig, ax = plt.subplots(1,1, figsize=(4, 2.5))\n",
    "non_hypo['pcor'].hist(bins=120, ax=ax)\n",
    "ax.set_xlabel('partial correlation (GeneNet)')\n",
    "ax.set_ylabel('number of edges')\n",
    "plt.xticks(rotation=90)\n",
    "if NUM_EDGES > 1e6*0.5:\n",
    "    ax.set_yscale('log')\n",
    "    \n",
    "fname = os.path.join(\n",
    "    plot_dir,\n",
    "    'pcor_hist--{:.0e}_edges--hypothetical_proteins_omitted.pdf'.format(NUM_EDGES))\n",
    "print(fname)\n",
    "fig.savefig(fname, bbox_inches='tight')"
   ]
  },
  {
   "cell_type": "code",
   "execution_count": 16,
   "metadata": {
    "collapsed": false
   },
   "outputs": [
    {
     "name": "stdout",
     "output_type": "stream",
     "text": [
      "number of edges selected: 324\n"
     ]
    }
   ],
   "source": [
    "mmo_edges = plot_histograms_by_edge_category.get_mmo_edges(edges)"
   ]
  },
  {
   "cell_type": "code",
   "execution_count": 17,
   "metadata": {
    "collapsed": false
   },
   "outputs": [],
   "source": [
    "#4_110210 4_110211, 4_110210 4_110211,  4_79604 4_79605, 4_79604 4_79606, 4_79605 4_79606, 5_107303 5_107304, 5_161996 5_161997"
   ]
  },
  {
   "cell_type": "code",
   "execution_count": 18,
   "metadata": {
    "collapsed": false
   },
   "outputs": [
    {
     "name": "stdout",
     "output_type": "stream",
     "text": [
      "('151185',)\n",
      "5_151185\n"
     ]
    }
   ],
   "source": [
    "m = re.search('[0-9]+_([0-9]+)', '5_151185')\n",
    "print(m.groups())\n",
    "if m:\n",
    "    found = m.group(0)\n",
    "    print(found)"
   ]
  },
  {
   "cell_type": "code",
   "execution_count": 19,
   "metadata": {
    "collapsed": false
   },
   "outputs": [
    {
     "data": {
      "text/plain": [
       "151185"
      ]
     },
     "execution_count": 19,
     "metadata": {},
     "output_type": "execute_result"
    }
   ],
   "source": [
    "plot_histograms_by_edge_category.extract_second_num('5_151185')"
   ]
  },
  {
   "cell_type": "code",
   "execution_count": 20,
   "metadata": {
    "collapsed": false
   },
   "outputs": [
    {
     "data": {
      "text/plain": [
       "0.02"
      ]
     },
     "execution_count": 20,
     "metadata": {},
     "output_type": "execute_result"
    }
   ],
   "source": [
    "plot_histograms_by_edge_category.round_to_nearest_step(0.021, .02)"
   ]
  },
  {
   "cell_type": "code",
   "execution_count": 21,
   "metadata": {
    "collapsed": false
   },
   "outputs": [
    {
     "name": "stdout",
     "output_type": "stream",
     "text": [
      "lower: -0.02, upper: 0.14\n"
     ]
    },
    {
     "data": {
      "text/plain": [
       "array([-0.02,  0.  ,  0.02,  0.04,  0.06,  0.08,  0.1 ,  0.12])"
      ]
     },
     "execution_count": 21,
     "metadata": {},
     "output_type": "execute_result"
    }
   ],
   "source": [
    "plot_histograms_by_edge_category.make_bin_edges(-0.02079, 0.143, 0.02)"
   ]
  },
  {
   "cell_type": "code",
   "execution_count": 22,
   "metadata": {
    "collapsed": true
   },
   "outputs": [],
   "source": [
    "from matplotlib import rc\n",
    "rc('font',**{'family':'sans-serif','sans-serif':['Helvetica']})\n",
    "## for Palatino and other serif fonts use:\n",
    "#rc('font',**{'family':'serif','serif':['Palatino']})\n",
    "rc('text', usetex=True)"
   ]
  },
  {
   "cell_type": "code",
   "execution_count": 23,
   "metadata": {
    "collapsed": false
   },
   "outputs": [
    {
     "name": "stdout",
     "output_type": "stream",
     "text": [
      "1_141442 1_141443 0.00574108287657911\n",
      "    Particulate methane monooxygenase alpha subunit precursor | Particulate methane monooxygenase alpha subunit precursor\n",
      "1_66816 1_66817 0.010256384851174999\n",
      "    Ammonia monooxygenase/methane monooxygenase%2C subunit C | Particulate methane monooxygenase beta subunit\n",
      "1_66817 1_66818 0.0116448639897927\n",
      "    Particulate methane monooxygenase beta subunit | Particulate methane monooxygenase alpha subunit precursor\n",
      "2_125461 2_125462 0.0093148809669378\n",
      "    Ammonia monooxygenase/methane monooxygenase%2C subunit C | Particulate methane monooxygenase beta subunit\n",
      "2_17600 2_17601 0.00471664358592838\n",
      "    Particulate methane monooxygenase beta subunit | Ammonia monooxygenase/methane monooxygenase%2C subunit C\n",
      "2_46326 2_46327 0.0974562827627392\n",
      "    Particulate methane monooxygenase alpha subunit precursor | Particulate methane monooxygenase beta subunit\n",
      "3_138947 3_138948 0.0838093305616077\n",
      "    Particulate methane monooxygenase alpha subunit precursor | Particulate methane monooxygenase beta subunit\n",
      "3_138948 3_138949 0.082638436434453\n",
      "    Particulate methane monooxygenase beta subunit | Ammonia monooxygenase/methane monooxygenase%2C subunit C\n",
      "4_79604 4_79605 0.0637636630801137\n",
      "    Particulate methane monooxygenase alpha subunit precursor | Particulate methane monooxygenase beta subunit\n",
      "4_79605 4_79606 0.0642441254835761\n",
      "    Particulate methane monooxygenase beta subunit | Ammonia monooxygenase/methane monooxygenase%2C subunit C\n",
      "5_107303 5_107304 0.0145000680406649\n",
      "    Particulate methane monooxygenase beta subunit | Particulate methane monooxygenase alpha subunit precursor\n",
      "5_161996 5_161997 0.0470247447237734\n",
      "    Particulate methane monooxygenase beta subunit | Ammonia monooxygenase/methane monooxygenase%2C subunit C\n",
      "-0.020793513743499 0.142841543675792\n",
      "lower: -0.015, upper: 0.15\n",
      "bin edges: [-0.015  0.     0.015  0.03   0.045  0.06   0.075  0.09   0.105  0.12\n",
      "  0.135]\n",
      "170425_explore_cutoff_0.01/170425_pmo_subunit_pairs_have_higher_pcor--GeneNet--1e+06_edges.pdf\n",
      "170425_explore_cutoff_0.01/170425_pmo_subunit_pairs_have_higher_pcor--GeneNet--1e+06_edges.png\n"
     ]
    },
    {
     "data": {
      "image/png": "[encoded data removed]",
      "text/plain": [
       "<matplotlib.figure.Figure at 0x7fc70e03ffd0>"
      ]
     },
     "metadata": {},
     "output_type": "display_data"
    }
   ],
   "source": [
    "linked, unlinked = plot_histograms_by_edge_category.separate_out_linked_and_not_linked_rows(\n",
    "    edge_df=mmo_edges, distance_allowed=1)\n",
    "\n",
    "bin_label = r'partial correlation for \\textit{pmo}:\\textit{pmo} subunit pair'\n",
    "#bin_label = 'partial correlation for pmo:pmo subunit pair'\n",
    "        \n",
    "fig = plot_histograms_by_edge_category.plot_linked_and_unlinked(\n",
    "    linked, unlinked, bin_label = bin_label)\n",
    "\n",
    "fname = os.path.join(plot_dir, \n",
    "    '170425_pmo_subunit_pairs_have_higher_pcor--GeneNet--{:.0e}_edges.pdf'.format(NUM_EDGES))\n",
    "print(fname)\n",
    "fig.savefig(fname, bbox_inches='tight')\n",
    "fname = os.path.join(plot_dir, \n",
    "    '170425_pmo_subunit_pairs_have_higher_pcor--GeneNet--{:.0e}_edges.png'.format(NUM_EDGES))\n",
    "print(fname)\n",
    "fig.savefig(fname, bbox_inches='tight')"
   ]
  },
  {
   "cell_type": "code",
   "execution_count": 24,
   "metadata": {
    "collapsed": false
   },
   "outputs": [
    {
     "name": "stdout",
     "output_type": "stream",
     "text": [
      "-0.020793513743499 0.142841543675792\n",
      "lower: -0.015, upper: 0.15\n",
      "bin edges: [-0.015  0.     0.015  0.03   0.045  0.06   0.075  0.09   0.105  0.12\n",
      "  0.135]\n",
      "170425_explore_cutoff_0.01/170425_pmo_subunit_pairs_have_higher_pcor--GeneNet--1e+06_edges--landscape.pdf\n",
      "170425_explore_cutoff_0.01/170425_pmo_subunit_pairs_have_higher_pcor--GeneNet--1e+06_edges--landscape.png\n"
     ]
    },
    {
     "data": {
      "image/png": "[encoded data removed]",
      "text/plain": [
       "<matplotlib.figure.Figure at 0x7fc70ebfe710>"
      ]
     },
     "metadata": {},
     "output_type": "display_data"
    }
   ],
   "source": [
    "# now do same plot w/ landscape orientation. \n",
    "fig = plot_histograms_by_edge_category.plot_linked_and_unlinked(\n",
    "    linked, unlinked, orientation='horizontal', bin_label = bin_label)\n",
    "\n",
    "fname = os.path.join(plot_dir, \n",
    "    '170425_pmo_subunit_pairs_have_higher_pcor--GeneNet--{:.0e}_edges--landscape.pdf'.format(NUM_EDGES))\n",
    "print(fname)\n",
    "fig.savefig(fname, bbox_inches='tight')\n",
    "fname = os.path.join(plot_dir, \n",
    "    '170425_pmo_subunit_pairs_have_higher_pcor--GeneNet--{:.0e}_edges--landscape.png'.format(NUM_EDGES))\n",
    "print(fname)\n",
    "fig.savefig(fname, bbox_inches='tight')"
   ]
  },
  {
   "cell_type": "code",
   "execution_count": 25,
   "metadata": {
    "collapsed": false
   },
   "outputs": [
    {
     "name": "stdout",
     "output_type": "stream",
     "text": [
      "number of edges selected: 22\n",
      "number of h6p:h6p edges: 22\n"
     ]
    },
    {
     "data": {
      "text/html": [
       "<div>\n",
       "<table border=\"1\" class=\"dataframe\">\n",
       "  <thead>\n",
       "    <tr style=\"text-align: right;\">\n",
       "      <th></th>\n",
       "      <th>node2_locus</th>\n",
       "      <th>node1_locus</th>\n",
       "      <th>node2</th>\n",
       "      <th>node1</th>\n",
       "      <th>pcor</th>\n",
       "      <th>pval</th>\n",
       "      <th>qval</th>\n",
       "      <th>prob</th>\n",
       "      <th>log.spvar</th>\n",
       "      <th>pval.dir</th>\n",
       "      <th>qval.dir</th>\n",
       "      <th>prob.dir</th>\n",
       "      <th>directions</th>\n",
       "      <th>product_1</th>\n",
       "      <th>product_2</th>\n",
       "    </tr>\n",
       "  </thead>\n",
       "  <tbody>\n",
       "    <tr>\n",
       "      <th>292</th>\n",
       "      <td>1_09472</td>\n",
       "      <td>1_09471</td>\n",
       "      <td>68</td>\n",
       "      <td>67</td>\n",
       "      <td>0.003498</td>\n",
       "      <td>2.220446e-16</td>\n",
       "      <td>2.705115e-15</td>\n",
       "      <td>1.0</td>\n",
       "      <td>0.003904</td>\n",
       "      <td>0.774003</td>\n",
       "      <td>0.765310</td>\n",
       "      <td>2.475797e-14</td>\n",
       "      <td>undirected</td>\n",
       "      <td>3-hexulose-6-phosphate isomerase</td>\n",
       "      <td>3-hexulose-6-phosphate synthase</td>\n",
       "    </tr>\n",
       "    <tr>\n",
       "      <th>11261</th>\n",
       "      <td>1_148470</td>\n",
       "      <td>1_148469</td>\n",
       "      <td>402</td>\n",
       "      <td>401</td>\n",
       "      <td>0.014269</td>\n",
       "      <td>2.220446e-16</td>\n",
       "      <td>2.705115e-15</td>\n",
       "      <td>1.0</td>\n",
       "      <td>-0.001515</td>\n",
       "      <td>0.911247</td>\n",
       "      <td>0.793353</td>\n",
       "      <td>2.475797e-14</td>\n",
       "      <td>undirected</td>\n",
       "      <td>3-hexulose-6-phosphate synthase</td>\n",
       "      <td>3-hexulose-6-phosphate isomerase</td>\n",
       "    </tr>\n",
       "  </tbody>\n",
       "</table>\n",
       "</div>"
      ],
      "text/plain": [
       "      node2_locus node1_locus  node2  node1      pcor          pval  \\\n",
       "292       1_09472     1_09471     68     67  0.003498  2.220446e-16   \n",
       "11261    1_148470    1_148469    402    401  0.014269  2.220446e-16   \n",
       "\n",
       "               qval  prob  log.spvar  pval.dir  qval.dir      prob.dir  \\\n",
       "292    2.705115e-15   1.0   0.003904  0.774003  0.765310  2.475797e-14   \n",
       "11261  2.705115e-15   1.0  -0.001515  0.911247  0.793353  2.475797e-14   \n",
       "\n",
       "       directions                         product_1  \\\n",
       "292    undirected  3-hexulose-6-phosphate isomerase   \n",
       "11261  undirected   3-hexulose-6-phosphate synthase   \n",
       "\n",
       "                              product_2  \n",
       "292     3-hexulose-6-phosphate synthase  \n",
       "11261  3-hexulose-6-phosphate isomerase  "
      ]
     },
     "execution_count": 25,
     "metadata": {},
     "output_type": "execute_result"
    }
   ],
   "source": [
    "h6p_edges = plot_histograms_by_edge_category.get_h6p_edges(edges)\n",
    "\n",
    "num_h6p_edges = h6p_edges.shape[0]\n",
    "print('number of h6p:h6p edges: {}'.format(num_h6p_edges))\n",
    "h6p_edges.head(2)"
   ]
  },
  {
   "cell_type": "code",
   "execution_count": 26,
   "metadata": {
    "collapsed": false
   },
   "outputs": [
    {
     "name": "stdout",
     "output_type": "stream",
     "text": [
      "1_09471 1_09472 0.0034975091479452\n",
      "    3-hexulose-6-phosphate isomerase | 3-hexulose-6-phosphate synthase\n",
      "1_148469 1_148470 0.0142691876583992\n",
      "    3-hexulose-6-phosphate synthase | 3-hexulose-6-phosphate isomerase\n",
      "2_159112 2_159113 0.00921491370888421\n",
      "    3-hexulose-6-phosphate isomerase | 3-hexulose-6-phosphate synthase\n",
      "4_43633 4_43634 0.00338204945501927\n",
      "    3-hexulose-6-phosphate isomerase | 3-hexulose-6-phosphate synthase\n",
      "[0.0034975091479452, 0.0142691876583992, 0.00921491370888421, 0.00338204945501927] [0.00285141074635525, -0.00217726711101728, 0.0020927028968213603, 0.0033845399371111103, 0.00538004305809047, 0.0035738129329936897, -0.00178143346642862, 0.00458867819150203, 0.00944812917183117, 0.0018522881130613, -0.00193015947466849, 0.007132309012491529, -0.00202442384561047, 0.0096526444448493, 0.0107709335827339, 0.00260626390867977, 0.0077204725289199095, 0.00737439778130372]\n",
      "-0.00217726711101728 0.0142691876583992\n",
      "lower: -0.002, upper: 0.014\n",
      "bin edges: [-0.002  0.     0.002  0.004  0.006  0.008  0.01   0.012]\n",
      "170425_explore_cutoff_0.01/hps-hpi_sequential_pairs_have_higher_pcor--GeneNet--gray_includes_hps-hps_too--1e+06_genes.pdf\n"
     ]
    },
    {
     "data": {
      "image/png": "[encoded data removed]",
      "text/plain": [
       "<matplotlib.figure.Figure at 0x7fc709419f28>"
      ]
     },
     "metadata": {},
     "output_type": "display_data"
    }
   ],
   "source": [
    "linked_h6p, unlinked_h6p = plot_histograms_by_edge_category.separate_out_linked_and_not_linked_rows(h6p_edges, 1)\n",
    "print(linked_h6p, unlinked_h6p)\n",
    "\n",
    "bin_label = r'partial correlation for \\textit{hps}:\\textit{hpi}, \\textit{hpi}:\\textit{hpi}, or \\textit{hps}:\\textit{hps},  subunit pair'\n",
    "fig = plot_histograms_by_edge_category.plot_linked_and_unlinked(\n",
    "    linked_h6p, unlinked_h6p, bin_label = bin_label, bin_width = 0.002)\n",
    "\n",
    "fname = os.path.join(plot_dir, \n",
    "            'hps-hpi_sequential_pairs_have_higher_pcor' \\\n",
    "        '--GeneNet--gray_includes_hps-hps_too--{:.0e}_genes.pdf'.format(NUM_EDGES))\n",
    "print(fname)\n",
    "fig.savefig(fname, bbox_inches='tight')"
   ]
  },
  {
   "cell_type": "code",
   "execution_count": 27,
   "metadata": {
    "collapsed": false
   },
   "outputs": [
    {
     "name": "stdout",
     "output_type": "stream",
     "text": [
      "number of edges selected: 22\n",
      "(22, 15)\n",
      "drop row with products \"3-hexulose-6-phosphate synthase\":\"3-hexulose-6-phosphate synthase\"\n",
      "drop row with products \"3-hexulose-6-phosphate synthase\":\"3-hexulose-6-phosphate synthase\"\n",
      "drop row with products \"3-hexulose-6-phosphate synthase\":\"3-hexulose-6-phosphate synthase\"\n",
      "drop row with products \"3-hexulose-6-phosphate synthase\":\"3-hexulose-6-phosphate synthase\"\n"
     ]
    },
    {
     "name": "stderr",
     "output_type": "stream",
     "text": [
      "/work/rnaseq/pcor_new/plot_histograms_by_edge_category.py:98: SettingWithCopyWarning: \n",
      "A value is trying to be set on a copy of a slice from a DataFrame\n",
      "\n",
      "See the caveats in the documentation: http://pandas.pydata.org/pandas-docs/stable/indexing.html#indexing-view-versus-copy\n",
      "  edge_df.drop(index, inplace=True)\n"
     ]
    },
    {
     "name": "stdout",
     "output_type": "stream",
     "text": [
      "drop row with products \"3-hexulose-6-phosphate synthase\":\"3-hexulose-6-phosphate synthase\"\n",
      "drop row with products \"3-hexulose-6-phosphate synthase\":\"3-hexulose-6-phosphate synthase\"\n",
      "drop row with products \"3-hexulose-6-phosphate synthase\":\"3-hexulose-6-phosphate synthase\"\n",
      "drop row with products \"3-hexulose-6-phosphate synthase\":\"3-hexulose-6-phosphate synthase\"\n",
      "drop row with products \"3-hexulose-6-phosphate synthase\":\"3-hexulose-6-phosphate synthase\"\n",
      "drop row with products \"3-hexulose-6-phosphate synthase\":\"3-hexulose-6-phosphate synthase\"\n",
      "drop row with products \"3-hexulose-6-phosphate synthase\":\"3-hexulose-6-phosphate synthase\"\n",
      "drop row with products \"3-hexulose-6-phosphate synthase\":\"3-hexulose-6-phosphate synthase\"\n",
      "drop row with products \"3-hexulose-6-phosphate synthase\":\"3-hexulose-6-phosphate synthase\"\n",
      "drop row with products \"3-hexulose-6-phosphate synthase\":\"3-hexulose-6-phosphate synthase\"\n",
      "drop row with products \"3-hexulose-6-phosphate synthase\":\"3-hexulose-6-phosphate synthase\"\n",
      "drop row with products \"3-hexulose-6-phosphate synthase\":\"3-hexulose-6-phosphate synthase\"\n",
      "(6, 15)\n"
     ]
    },
    {
     "data": {
      "text/html": [
       "<div>\n",
       "<table border=\"1\" class=\"dataframe\">\n",
       "  <thead>\n",
       "    <tr style=\"text-align: right;\">\n",
       "      <th></th>\n",
       "      <th>node2_locus</th>\n",
       "      <th>node1_locus</th>\n",
       "      <th>node2</th>\n",
       "      <th>node1</th>\n",
       "      <th>pcor</th>\n",
       "      <th>pval</th>\n",
       "      <th>qval</th>\n",
       "      <th>prob</th>\n",
       "      <th>log.spvar</th>\n",
       "      <th>pval.dir</th>\n",
       "      <th>qval.dir</th>\n",
       "      <th>prob.dir</th>\n",
       "      <th>directions</th>\n",
       "      <th>product_1</th>\n",
       "      <th>product_2</th>\n",
       "    </tr>\n",
       "  </thead>\n",
       "  <tbody>\n",
       "    <tr>\n",
       "      <th>292</th>\n",
       "      <td>1_09472</td>\n",
       "      <td>1_09471</td>\n",
       "      <td>68</td>\n",
       "      <td>67</td>\n",
       "      <td>0.003498</td>\n",
       "      <td>2.220446e-16</td>\n",
       "      <td>2.705115e-15</td>\n",
       "      <td>1.000000</td>\n",
       "      <td>0.003904</td>\n",
       "      <td>0.774003</td>\n",
       "      <td>0.765310</td>\n",
       "      <td>2.475797e-14</td>\n",
       "      <td>undirected</td>\n",
       "      <td>3-hexulose-6-phosphate isomerase</td>\n",
       "      <td>3-hexulose-6-phosphate synthase</td>\n",
       "    </tr>\n",
       "    <tr>\n",
       "      <th>11261</th>\n",
       "      <td>1_148470</td>\n",
       "      <td>1_148469</td>\n",
       "      <td>402</td>\n",
       "      <td>401</td>\n",
       "      <td>0.014269</td>\n",
       "      <td>2.220446e-16</td>\n",
       "      <td>2.705115e-15</td>\n",
       "      <td>1.000000</td>\n",
       "      <td>-0.001515</td>\n",
       "      <td>0.911247</td>\n",
       "      <td>0.793353</td>\n",
       "      <td>2.475797e-14</td>\n",
       "      <td>undirected</td>\n",
       "      <td>3-hexulose-6-phosphate synthase</td>\n",
       "      <td>3-hexulose-6-phosphate isomerase</td>\n",
       "    </tr>\n",
       "    <tr>\n",
       "      <th>56070</th>\n",
       "      <td>1_51696</td>\n",
       "      <td>1_09471</td>\n",
       "      <td>934</td>\n",
       "      <td>67</td>\n",
       "      <td>0.002851</td>\n",
       "      <td>1.074696e-13</td>\n",
       "      <td>1.145149e-12</td>\n",
       "      <td>1.000000</td>\n",
       "      <td>-0.023091</td>\n",
       "      <td>0.089409</td>\n",
       "      <td>0.273619</td>\n",
       "      <td>2.475797e-14</td>\n",
       "      <td>undirected</td>\n",
       "      <td>3-hexulose-6-phosphate isomerase</td>\n",
       "      <td>3-hexulose-6-phosphate synthase</td>\n",
       "    </tr>\n",
       "    <tr>\n",
       "      <th>177050</th>\n",
       "      <td>2_159113</td>\n",
       "      <td>2_159112</td>\n",
       "      <td>1647</td>\n",
       "      <td>1646</td>\n",
       "      <td>0.009215</td>\n",
       "      <td>2.220446e-16</td>\n",
       "      <td>2.705115e-15</td>\n",
       "      <td>1.000000</td>\n",
       "      <td>0.004700</td>\n",
       "      <td>0.729561</td>\n",
       "      <td>0.754523</td>\n",
       "      <td>2.475797e-14</td>\n",
       "      <td>undirected</td>\n",
       "      <td>3-hexulose-6-phosphate isomerase</td>\n",
       "      <td>3-hexulose-6-phosphate synthase</td>\n",
       "    </tr>\n",
       "    <tr>\n",
       "      <th>597372</th>\n",
       "      <td>4_104554</td>\n",
       "      <td>1_09471</td>\n",
       "      <td>2979</td>\n",
       "      <td>67</td>\n",
       "      <td>-0.002177</td>\n",
       "      <td>1.392868e-08</td>\n",
       "      <td>1.052955e-07</td>\n",
       "      <td>0.999997</td>\n",
       "      <td>-0.005320</td>\n",
       "      <td>0.695528</td>\n",
       "      <td>0.745568</td>\n",
       "      <td>2.475797e-14</td>\n",
       "      <td>undirected</td>\n",
       "      <td>3-hexulose-6-phosphate isomerase</td>\n",
       "      <td>3-hexulose-6-phosphate synthase</td>\n",
       "    </tr>\n",
       "    <tr>\n",
       "      <th>730109</th>\n",
       "      <td>4_43634</td>\n",
       "      <td>4_43633</td>\n",
       "      <td>3272</td>\n",
       "      <td>3271</td>\n",
       "      <td>0.003382</td>\n",
       "      <td>2.220446e-16</td>\n",
       "      <td>2.705115e-15</td>\n",
       "      <td>1.000000</td>\n",
       "      <td>-0.000352</td>\n",
       "      <td>0.979351</td>\n",
       "      <td>0.804920</td>\n",
       "      <td>2.475797e-14</td>\n",
       "      <td>undirected</td>\n",
       "      <td>3-hexulose-6-phosphate isomerase</td>\n",
       "      <td>3-hexulose-6-phosphate synthase</td>\n",
       "    </tr>\n",
       "  </tbody>\n",
       "</table>\n",
       "</div>"
      ],
      "text/plain": [
       "       node2_locus node1_locus  node2  node1      pcor          pval  \\\n",
       "292        1_09472     1_09471     68     67  0.003498  2.220446e-16   \n",
       "11261     1_148470    1_148469    402    401  0.014269  2.220446e-16   \n",
       "56070      1_51696     1_09471    934     67  0.002851  1.074696e-13   \n",
       "177050    2_159113    2_159112   1647   1646  0.009215  2.220446e-16   \n",
       "597372    4_104554     1_09471   2979     67 -0.002177  1.392868e-08   \n",
       "730109     4_43634     4_43633   3272   3271  0.003382  2.220446e-16   \n",
       "\n",
       "                qval      prob  log.spvar  pval.dir  qval.dir      prob.dir  \\\n",
       "292     2.705115e-15  1.000000   0.003904  0.774003  0.765310  2.475797e-14   \n",
       "11261   2.705115e-15  1.000000  -0.001515  0.911247  0.793353  2.475797e-14   \n",
       "56070   1.145149e-12  1.000000  -0.023091  0.089409  0.273619  2.475797e-14   \n",
       "177050  2.705115e-15  1.000000   0.004700  0.729561  0.754523  2.475797e-14   \n",
       "597372  1.052955e-07  0.999997  -0.005320  0.695528  0.745568  2.475797e-14   \n",
       "730109  2.705115e-15  1.000000  -0.000352  0.979351  0.804920  2.475797e-14   \n",
       "\n",
       "        directions                         product_1  \\\n",
       "292     undirected  3-hexulose-6-phosphate isomerase   \n",
       "11261   undirected   3-hexulose-6-phosphate synthase   \n",
       "56070   undirected  3-hexulose-6-phosphate isomerase   \n",
       "177050  undirected  3-hexulose-6-phosphate isomerase   \n",
       "597372  undirected  3-hexulose-6-phosphate isomerase   \n",
       "730109  undirected  3-hexulose-6-phosphate isomerase   \n",
       "\n",
       "                               product_2  \n",
       "292      3-hexulose-6-phosphate synthase  \n",
       "11261   3-hexulose-6-phosphate isomerase  \n",
       "56070    3-hexulose-6-phosphate synthase  \n",
       "177050   3-hexulose-6-phosphate synthase  \n",
       "597372   3-hexulose-6-phosphate synthase  \n",
       "730109   3-hexulose-6-phosphate synthase  "
      ]
     },
     "execution_count": 27,
     "metadata": {},
     "output_type": "execute_result"
    }
   ],
   "source": [
    "# delete the same-same edges. \n",
    "h6p_edges = plot_histograms_by_edge_category.get_h6p_edges(edges)\n",
    "print(h6p_edges.shape)\n",
    "#plot_histograms_by_edge_category.filter_out_edges_with_same_node(\n",
    "#    h6p_edges, ['synthase', 'isomerase'])\n",
    "plot_histograms_by_edge_category.filter_out_same_same_edges(h6p_edges)\n",
    "print(h6p_edges.shape)\n",
    "h6p_edges"
   ]
  },
  {
   "cell_type": "code",
   "execution_count": 28,
   "metadata": {
    "collapsed": false
   },
   "outputs": [
    {
     "name": "stdout",
     "output_type": "stream",
     "text": [
      "1_09471 1_09472 0.0034975091479452\n",
      "    3-hexulose-6-phosphate isomerase | 3-hexulose-6-phosphate synthase\n",
      "1_148469 1_148470 0.0142691876583992\n",
      "    3-hexulose-6-phosphate synthase | 3-hexulose-6-phosphate isomerase\n",
      "2_159112 2_159113 0.00921491370888421\n",
      "    3-hexulose-6-phosphate isomerase | 3-hexulose-6-phosphate synthase\n",
      "4_43633 4_43634 0.00338204945501927\n",
      "    3-hexulose-6-phosphate isomerase | 3-hexulose-6-phosphate synthase\n",
      "[0.0034975091479452, 0.0142691876583992, 0.00921491370888421, 0.00338204945501927] [0.00285141074635525, -0.00217726711101728]\n",
      "-0.00217726711101728 0.0142691876583992\n",
      "lower: -0.002, upper: 0.014\n",
      "bin edges: [-0.002  0.     0.002  0.004  0.006  0.008  0.01   0.012]\n",
      "170425_explore_cutoff_0.01/hps-hpi_sequential_pairs_have_higher_pcor--GeneNet--1e+06_genes.pdf\n"
     ]
    },
    {
     "data": {
      "image/png": "[encoded data removed]",
      "text/plain": [
       "<matplotlib.figure.Figure at 0x7fc70eb21550>"
      ]
     },
     "metadata": {},
     "output_type": "display_data"
    }
   ],
   "source": [
    "linked_hps_hpi, unlinked_hps_hpi = \\\n",
    "    plot_histograms_by_edge_category.separate_out_linked_and_not_linked_rows(\n",
    "        h6p_edges, 1)\n",
    "print(linked_hps_hpi, unlinked_hps_hpi)\n",
    "\n",
    "bin_label = r'partial correlation for \\textit{hps}:\\textit{hpi} subunit pair'\n",
    "fig = plot_histograms_by_edge_category.plot_linked_and_unlinked(\n",
    "    linked_hps_hpi, unlinked_hps_hpi, bin_label = bin_label, bin_width = 0.002)\n",
    "\n",
    "fname = os.path.join(plot_dir, \n",
    "            'hps-hpi_sequential_pairs_have_higher_pcor' \\\n",
    "        '--GeneNet--{:.0e}_genes.pdf'.format(NUM_EDGES))\n",
    "print(fname)\n",
    "fig.savefig(fname, bbox_inches='tight')"
   ]
  },
  {
   "cell_type": "code",
   "execution_count": 29,
   "metadata": {
    "collapsed": false
   },
   "outputs": [
    {
     "name": "stdout",
     "output_type": "stream",
     "text": [
      "number of edges selected: 389\n",
      "number of mdh:mdh edges: 324\n"
     ]
    },
    {
     "data": {
      "text/html": [
       "<div>\n",
       "<table border=\"1\" class=\"dataframe\">\n",
       "  <thead>\n",
       "    <tr style=\"text-align: right;\">\n",
       "      <th></th>\n",
       "      <th>node2_locus</th>\n",
       "      <th>node1_locus</th>\n",
       "      <th>node2</th>\n",
       "      <th>node1</th>\n",
       "      <th>pcor</th>\n",
       "      <th>pval</th>\n",
       "      <th>qval</th>\n",
       "      <th>prob</th>\n",
       "      <th>log.spvar</th>\n",
       "      <th>pval.dir</th>\n",
       "      <th>qval.dir</th>\n",
       "      <th>prob.dir</th>\n",
       "      <th>directions</th>\n",
       "      <th>product_1</th>\n",
       "      <th>product_2</th>\n",
       "    </tr>\n",
       "  </thead>\n",
       "  <tbody>\n",
       "    <tr>\n",
       "      <th>8778</th>\n",
       "      <td>1_141225</td>\n",
       "      <td>1_12750</td>\n",
       "      <td>357</td>\n",
       "      <td>255</td>\n",
       "      <td>-0.001908</td>\n",
       "      <td>6.595089e-07</td>\n",
       "      <td>4.279326e-06</td>\n",
       "      <td>0.999902</td>\n",
       "      <td>-0.016233</td>\n",
       "      <td>0.232451</td>\n",
       "      <td>0.494781</td>\n",
       "      <td>2.475797e-14</td>\n",
       "      <td>undirected</td>\n",
       "      <td>Methanol dehydrogenase [cytochrome c] subunit 1</td>\n",
       "      <td>Methanol dehydrogenase [cytochrome c] subunit ...</td>\n",
       "    </tr>\n",
       "    <tr>\n",
       "      <th>14639</th>\n",
       "      <td>1_158680</td>\n",
       "      <td>1_141225</td>\n",
       "      <td>462</td>\n",
       "      <td>357</td>\n",
       "      <td>-0.006949</td>\n",
       "      <td>2.220446e-16</td>\n",
       "      <td>2.705115e-15</td>\n",
       "      <td>1.000000</td>\n",
       "      <td>0.016010</td>\n",
       "      <td>0.238915</td>\n",
       "      <td>0.501637</td>\n",
       "      <td>2.475797e-14</td>\n",
       "      <td>undirected</td>\n",
       "      <td>Methanol dehydrogenase [cytochrome c] subunit ...</td>\n",
       "      <td>Methanol dehydrogenase [cytochrome c] subunit 1</td>\n",
       "    </tr>\n",
       "  </tbody>\n",
       "</table>\n",
       "</div>"
      ],
      "text/plain": [
       "      node2_locus node1_locus  node2  node1      pcor          pval  \\\n",
       "8778     1_141225     1_12750    357    255 -0.001908  6.595089e-07   \n",
       "14639    1_158680    1_141225    462    357 -0.006949  2.220446e-16   \n",
       "\n",
       "               qval      prob  log.spvar  pval.dir  qval.dir      prob.dir  \\\n",
       "8778   4.279326e-06  0.999902  -0.016233  0.232451  0.494781  2.475797e-14   \n",
       "14639  2.705115e-15  1.000000   0.016010  0.238915  0.501637  2.475797e-14   \n",
       "\n",
       "       directions                                          product_1  \\\n",
       "8778   undirected    Methanol dehydrogenase [cytochrome c] subunit 1   \n",
       "14639  undirected  Methanol dehydrogenase [cytochrome c] subunit ...   \n",
       "\n",
       "                                               product_2  \n",
       "8778   Methanol dehydrogenase [cytochrome c] subunit ...  \n",
       "14639    Methanol dehydrogenase [cytochrome c] subunit 1  "
      ]
     },
     "execution_count": 29,
     "metadata": {},
     "output_type": "execute_result"
    }
   ],
   "source": [
    "mdh_edges = plot_histograms_by_edge_category.get_mdh_subunit_edges(edges)\n",
    "\n",
    "num_mdh_edges = mmo_edges.shape[0]\n",
    "print('number of mdh:mdh edges: {}'.format(num_mdh_edges))\n",
    "mdh_edges.head(2)"
   ]
  },
  {
   "cell_type": "code",
   "execution_count": 30,
   "metadata": {
    "collapsed": false
   },
   "outputs": [
    {
     "name": "stdout",
     "output_type": "stream",
     "text": [
      "4_131430 4_131433 0.0230541695874243\n",
      "    Methanol dehydrogenase [cytochrome c] subunit 1 | Methanol dehydrogenase [cytochrome c] subunit 2 precursor\n",
      "5_111574 5_111577 0.0598244876159993\n",
      "    Methanol dehydrogenase [cytochrome c] subunit 1 | Methanol dehydrogenase [cytochrome c] subunit 2 precursor\n",
      "5_58350 5_58353 0.0421328222635144\n",
      "    Methanol dehydrogenase [cytochrome c] subunit 2 precursor | Methanol dehydrogenase [cytochrome c] subunit 1\n",
      "-0.0184330038381085 0.0598244876159993\n",
      "lower: -0.02, upper: 0.06\n",
      "bin edges: [-0.02 -0.01  0.    0.01  0.02  0.03  0.04  0.05]\n",
      "170425_explore_cutoff_0.01/mdh-mdh_sequential_pairs--GeneNet--1e+06_genes.pdf\n"
     ]
    },
    {
     "data": {
      "image/png": "[encoded data removed]",
      "text/plain": [
       "<matplotlib.figure.Figure at 0x7fc70abcc518>"
      ]
     },
     "metadata": {},
     "output_type": "display_data"
    }
   ],
   "source": [
    "linked_mdh, unlinked_mdh = \\\n",
    "    plot_histograms_by_edge_category.separate_out_linked_and_not_linked_rows(\n",
    "        mdh_edges, 3)\n",
    "    \n",
    "p = plot_histograms_by_edge_category.plot_linked_and_unlinked(\n",
    "        linked_mdh, unlinked_mdh, orientation='vertical',\n",
    "        bin_label=r'partial correlation of \\textit{mdh} subunit pairs', \n",
    "        bin_width=0.01 )\n",
    "\n",
    "fname = os.path.join(plot_dir, \n",
    "            'mdh-mdh_sequential_pairs--GeneNet--{:.0e}_genes.pdf'.format(NUM_EDGES))\n",
    "print(fname)\n",
    "fig.savefig(fname, bbox_inches='tight')"
   ]
  },
  {
   "cell_type": "code",
   "execution_count": 31,
   "metadata": {
    "collapsed": false
   },
   "outputs": [
    {
     "name": "stdout",
     "output_type": "stream",
     "text": [
      "-0.0184330038381085 0.0598244876159993\n",
      "lower: -0.02, upper: 0.06\n",
      "bin edges: [-0.02 -0.01  0.    0.01  0.02  0.03  0.04  0.05]\n",
      "170425_explore_cutoff_0.01/mdh-mdh_sequential_pairs--GeneNet--1e+06_genes--landscape.pdf\n"
     ]
    },
    {
     "data": {
      "image/png": "[encoded data removed]",
      "text/plain": [
       "<matplotlib.figure.Figure at 0x7fc70ed162e8>"
      ]
     },
     "metadata": {},
     "output_type": "display_data"
    }
   ],
   "source": [
    "p = plot_histograms_by_edge_category.plot_linked_and_unlinked(\n",
    "        linked_mdh, unlinked_mdh, orientation='horizontal',\n",
    "        bin_label=r'partial correlation of \\textit{mdh} subunit pairs', \n",
    "        bin_width=0.01 )\n",
    "\n",
    "fname = os.path.join(plot_dir, \n",
    "            'mdh-mdh_sequential_pairs--GeneNet--{:.0e}_genes--landscape.pdf'.format(NUM_EDGES))\n",
    "print(fname)\n",
    "fig.savefig(fname, bbox_inches='tight')"
   ]
  },
  {
   "cell_type": "markdown",
   "metadata": {
    "collapsed": true
   },
   "source": [
    "## Look whether same-contig genes have a different distribution of pcor values."
   ]
  },
  {
   "cell_type": "code",
   "execution_count": 32,
   "metadata": {
    "collapsed": false
   },
   "outputs": [
    {
     "data": {
      "text/html": [
       "<div>\n",
       "<table border=\"1\" class=\"dataframe\">\n",
       "  <thead>\n",
       "    <tr style=\"text-align: right;\">\n",
       "      <th></th>\n",
       "      <th>contig</th>\n",
       "      <th>ID</th>\n",
       "      <th>product</th>\n",
       "      <th>bp</th>\n",
       "      <th>locus</th>\n",
       "    </tr>\n",
       "  </thead>\n",
       "  <tbody>\n",
       "    <tr>\n",
       "      <th>0</th>\n",
       "      <td>k141_168</td>\n",
       "      <td>contigs_longer_than_1500bp_group_1_00001</td>\n",
       "      <td>hypothetical protein</td>\n",
       "      <td>669</td>\n",
       "      <td>1_00001</td>\n",
       "    </tr>\n",
       "    <tr>\n",
       "      <th>1</th>\n",
       "      <td>k141_175</td>\n",
       "      <td>contigs_longer_than_1500bp_group_1_00002</td>\n",
       "      <td>hypothetical protein</td>\n",
       "      <td>1521</td>\n",
       "      <td>1_00002</td>\n",
       "    </tr>\n",
       "    <tr>\n",
       "      <th>2</th>\n",
       "      <td>k141_185</td>\n",
       "      <td>contigs_longer_than_1500bp_group_1_00003</td>\n",
       "      <td>hypothetical protein</td>\n",
       "      <td>531</td>\n",
       "      <td>1_00003</td>\n",
       "    </tr>\n",
       "    <tr>\n",
       "      <th>3</th>\n",
       "      <td>k141_185</td>\n",
       "      <td>contigs_longer_than_1500bp_group_1_00004</td>\n",
       "      <td>hypothetical protein</td>\n",
       "      <td>309</td>\n",
       "      <td>1_00004</td>\n",
       "    </tr>\n",
       "    <tr>\n",
       "      <th>4</th>\n",
       "      <td>k141_205</td>\n",
       "      <td>contigs_longer_than_1500bp_group_1_00005</td>\n",
       "      <td>hypothetical protein</td>\n",
       "      <td>420</td>\n",
       "      <td>1_00005</td>\n",
       "    </tr>\n",
       "  </tbody>\n",
       "</table>\n",
       "</div>"
      ],
      "text/plain": [
       "     contig                                        ID               product  \\\n",
       "0  k141_168  contigs_longer_than_1500bp_group_1_00001  hypothetical protein   \n",
       "1  k141_175  contigs_longer_than_1500bp_group_1_00002  hypothetical protein   \n",
       "2  k141_185  contigs_longer_than_1500bp_group_1_00003  hypothetical protein   \n",
       "3  k141_185  contigs_longer_than_1500bp_group_1_00004  hypothetical protein   \n",
       "4  k141_205  contigs_longer_than_1500bp_group_1_00005  hypothetical protein   \n",
       "\n",
       "     bp    locus  \n",
       "0   669  1_00001  \n",
       "1  1521  1_00002  \n",
       "2   531  1_00003  \n",
       "3   309  1_00004  \n",
       "4   420  1_00005  "
      ]
     },
     "execution_count": 32,
     "metadata": {},
     "output_type": "execute_result"
    }
   ],
   "source": [
    "genes = plot_histograms_by_edge_category.get_genes_contigs()\n",
    "genes.head()"
   ]
  },
  {
   "cell_type": "code",
   "execution_count": 33,
   "metadata": {
    "collapsed": false
   },
   "outputs": [
    {
     "data": {
      "text/html": [
       "<div>\n",
       "<table border=\"1\" class=\"dataframe\">\n",
       "  <thead>\n",
       "    <tr style=\"text-align: right;\">\n",
       "      <th></th>\n",
       "      <th>contig</th>\n",
       "      <th>locus</th>\n",
       "    </tr>\n",
       "  </thead>\n",
       "  <tbody>\n",
       "    <tr>\n",
       "      <th>0</th>\n",
       "      <td>k141_168</td>\n",
       "      <td>1_00001</td>\n",
       "    </tr>\n",
       "    <tr>\n",
       "      <th>1</th>\n",
       "      <td>k141_175</td>\n",
       "      <td>1_00002</td>\n",
       "    </tr>\n",
       "    <tr>\n",
       "      <th>2</th>\n",
       "      <td>k141_185</td>\n",
       "      <td>1_00003</td>\n",
       "    </tr>\n",
       "    <tr>\n",
       "      <th>3</th>\n",
       "      <td>k141_185</td>\n",
       "      <td>1_00004</td>\n",
       "    </tr>\n",
       "    <tr>\n",
       "      <th>4</th>\n",
       "      <td>k141_205</td>\n",
       "      <td>1_00005</td>\n",
       "    </tr>\n",
       "  </tbody>\n",
       "</table>\n",
       "</div>"
      ],
      "text/plain": [
       "     contig    locus\n",
       "0  k141_168  1_00001\n",
       "1  k141_175  1_00002\n",
       "2  k141_185  1_00003\n",
       "3  k141_185  1_00004\n",
       "4  k141_205  1_00005"
      ]
     },
     "execution_count": 33,
     "metadata": {},
     "output_type": "execute_result"
    }
   ],
   "source": [
    "genes[['contig', 'locus']].head()"
   ]
  },
  {
   "cell_type": "code",
   "execution_count": 34,
   "metadata": {
    "collapsed": false
   },
   "outputs": [
    {
     "data": {
      "text/html": [
       "<div>\n",
       "<table border=\"1\" class=\"dataframe\">\n",
       "  <thead>\n",
       "    <tr style=\"text-align: right;\">\n",
       "      <th></th>\n",
       "      <th>node2_locus</th>\n",
       "      <th>node1_locus</th>\n",
       "      <th>node2</th>\n",
       "      <th>node1</th>\n",
       "      <th>pcor</th>\n",
       "      <th>pval</th>\n",
       "      <th>qval</th>\n",
       "      <th>prob</th>\n",
       "      <th>log.spvar</th>\n",
       "      <th>pval.dir</th>\n",
       "      <th>qval.dir</th>\n",
       "      <th>prob.dir</th>\n",
       "      <th>directions</th>\n",
       "      <th>product_1</th>\n",
       "      <th>product_2</th>\n",
       "    </tr>\n",
       "  </thead>\n",
       "  <tbody>\n",
       "    <tr>\n",
       "      <th>1</th>\n",
       "      <td>1_00451</td>\n",
       "      <td>1_00266</td>\n",
       "      <td>2</td>\n",
       "      <td>1</td>\n",
       "      <td>0.002622</td>\n",
       "      <td>8.347989e-12</td>\n",
       "      <td>7.958762e-11</td>\n",
       "      <td>1.0</td>\n",
       "      <td>0.007486</td>\n",
       "      <td>0.581858</td>\n",
       "      <td>0.710264</td>\n",
       "      <td>2.475797e-14</td>\n",
       "      <td>undirected</td>\n",
       "      <td>Vitamin B12 transporter BtuB</td>\n",
       "      <td>DNA-directed RNA polymerase subunit beta'</td>\n",
       "    </tr>\n",
       "    <tr>\n",
       "      <th>2</th>\n",
       "      <td>1_00466</td>\n",
       "      <td>1_00266</td>\n",
       "      <td>3</td>\n",
       "      <td>1</td>\n",
       "      <td>-0.003618</td>\n",
       "      <td>2.220446e-16</td>\n",
       "      <td>2.705115e-15</td>\n",
       "      <td>1.0</td>\n",
       "      <td>0.002628</td>\n",
       "      <td>0.846709</td>\n",
       "      <td>0.781050</td>\n",
       "      <td>2.475797e-14</td>\n",
       "      <td>undirected</td>\n",
       "      <td>Vitamin B12 transporter BtuB</td>\n",
       "      <td>Iron deficiency-induced protein A precursor</td>\n",
       "    </tr>\n",
       "  </tbody>\n",
       "</table>\n",
       "</div>"
      ],
      "text/plain": [
       "  node2_locus node1_locus  node2  node1      pcor          pval          qval  \\\n",
       "1     1_00451     1_00266      2      1  0.002622  8.347989e-12  7.958762e-11   \n",
       "2     1_00466     1_00266      3      1 -0.003618  2.220446e-16  2.705115e-15   \n",
       "\n",
       "   prob  log.spvar  pval.dir  qval.dir      prob.dir  directions  \\\n",
       "1   1.0   0.007486  0.581858  0.710264  2.475797e-14  undirected   \n",
       "2   1.0   0.002628  0.846709  0.781050  2.475797e-14  undirected   \n",
       "\n",
       "                      product_1                                    product_2  \n",
       "1  Vitamin B12 transporter BtuB    DNA-directed RNA polymerase subunit beta'  \n",
       "2  Vitamin B12 transporter BtuB  Iron deficiency-induced protein A precursor  "
      ]
     },
     "execution_count": 34,
     "metadata": {},
     "output_type": "execute_result"
    }
   ],
   "source": [
    "edges.head(2)"
   ]
  },
  {
   "cell_type": "code",
   "execution_count": 35,
   "metadata": {
    "collapsed": false
   },
   "outputs": [
    {
     "data": {
      "text/plain": [
       "(1000000, 15)"
      ]
     },
     "execution_count": 35,
     "metadata": {},
     "output_type": "execute_result"
    }
   ],
   "source": [
    "edges.shape"
   ]
  },
  {
   "cell_type": "code",
   "execution_count": 36,
   "metadata": {
    "collapsed": false
   },
   "outputs": [
    {
     "data": {
      "text/html": [
       "<div>\n",
       "<table border=\"1\" class=\"dataframe\">\n",
       "  <thead>\n",
       "    <tr style=\"text-align: right;\">\n",
       "      <th></th>\n",
       "      <th>node2_locus</th>\n",
       "      <th>node1_locus</th>\n",
       "      <th>node2</th>\n",
       "      <th>node1</th>\n",
       "      <th>pcor</th>\n",
       "      <th>pval</th>\n",
       "      <th>qval</th>\n",
       "      <th>prob</th>\n",
       "      <th>log.spvar</th>\n",
       "      <th>pval.dir</th>\n",
       "      <th>qval.dir</th>\n",
       "      <th>prob.dir</th>\n",
       "      <th>directions</th>\n",
       "      <th>product_1</th>\n",
       "      <th>product_2</th>\n",
       "      <th>node1_contig</th>\n",
       "      <th>node2_contig</th>\n",
       "      <th>same contig</th>\n",
       "    </tr>\n",
       "  </thead>\n",
       "  <tbody>\n",
       "    <tr>\n",
       "      <th>0</th>\n",
       "      <td>1_00451</td>\n",
       "      <td>1_00266</td>\n",
       "      <td>2</td>\n",
       "      <td>1</td>\n",
       "      <td>0.002622</td>\n",
       "      <td>8.347989e-12</td>\n",
       "      <td>7.958762e-11</td>\n",
       "      <td>1.0</td>\n",
       "      <td>0.007486</td>\n",
       "      <td>0.581858</td>\n",
       "      <td>0.710264</td>\n",
       "      <td>2.475797e-14</td>\n",
       "      <td>undirected</td>\n",
       "      <td>Vitamin B12 transporter BtuB</td>\n",
       "      <td>DNA-directed RNA polymerase subunit beta'</td>\n",
       "      <td>k141_1334</td>\n",
       "      <td>k141_1849</td>\n",
       "      <td>False</td>\n",
       "    </tr>\n",
       "    <tr>\n",
       "      <th>1</th>\n",
       "      <td>1_00466</td>\n",
       "      <td>1_00266</td>\n",
       "      <td>3</td>\n",
       "      <td>1</td>\n",
       "      <td>-0.003618</td>\n",
       "      <td>2.220446e-16</td>\n",
       "      <td>2.705115e-15</td>\n",
       "      <td>1.0</td>\n",
       "      <td>0.002628</td>\n",
       "      <td>0.846709</td>\n",
       "      <td>0.781050</td>\n",
       "      <td>2.475797e-14</td>\n",
       "      <td>undirected</td>\n",
       "      <td>Vitamin B12 transporter BtuB</td>\n",
       "      <td>Iron deficiency-induced protein A precursor</td>\n",
       "      <td>k141_1334</td>\n",
       "      <td>k141_1885</td>\n",
       "      <td>False</td>\n",
       "    </tr>\n",
       "    <tr>\n",
       "      <th>2</th>\n",
       "      <td>1_00499</td>\n",
       "      <td>1_00266</td>\n",
       "      <td>4</td>\n",
       "      <td>1</td>\n",
       "      <td>0.003241</td>\n",
       "      <td>2.220446e-16</td>\n",
       "      <td>2.705115e-15</td>\n",
       "      <td>1.0</td>\n",
       "      <td>0.006386</td>\n",
       "      <td>0.638542</td>\n",
       "      <td>0.729015</td>\n",
       "      <td>2.475797e-14</td>\n",
       "      <td>undirected</td>\n",
       "      <td>Vitamin B12 transporter BtuB</td>\n",
       "      <td>L-2%2C4-diaminobutyrate decarboxylase</td>\n",
       "      <td>k141_1334</td>\n",
       "      <td>k141_2060</td>\n",
       "      <td>False</td>\n",
       "    </tr>\n",
       "  </tbody>\n",
       "</table>\n",
       "</div>"
      ],
      "text/plain": [
       "  node2_locus node1_locus  node2  node1      pcor          pval          qval  \\\n",
       "0     1_00451     1_00266      2      1  0.002622  8.347989e-12  7.958762e-11   \n",
       "1     1_00466     1_00266      3      1 -0.003618  2.220446e-16  2.705115e-15   \n",
       "2     1_00499     1_00266      4      1  0.003241  2.220446e-16  2.705115e-15   \n",
       "\n",
       "   prob  log.spvar  pval.dir  qval.dir      prob.dir  directions  \\\n",
       "0   1.0   0.007486  0.581858  0.710264  2.475797e-14  undirected   \n",
       "1   1.0   0.002628  0.846709  0.781050  2.475797e-14  undirected   \n",
       "2   1.0   0.006386  0.638542  0.729015  2.475797e-14  undirected   \n",
       "\n",
       "                      product_1                                    product_2  \\\n",
       "0  Vitamin B12 transporter BtuB    DNA-directed RNA polymerase subunit beta'   \n",
       "1  Vitamin B12 transporter BtuB  Iron deficiency-induced protein A precursor   \n",
       "2  Vitamin B12 transporter BtuB        L-2%2C4-diaminobutyrate decarboxylase   \n",
       "\n",
       "  node1_contig node2_contig same contig  \n",
       "0    k141_1334    k141_1849       False  \n",
       "1    k141_1334    k141_1885       False  \n",
       "2    k141_1334    k141_2060       False  "
      ]
     },
     "execution_count": 36,
     "metadata": {},
     "output_type": "execute_result"
    }
   ],
   "source": [
    "edges = plot_histograms_by_edge_category.merge_contig_info_onto_edge_df(edges)\n",
    "edges.head(3)"
   ]
  },
  {
   "cell_type": "code",
   "execution_count": 37,
   "metadata": {
    "collapsed": false
   },
   "outputs": [
    {
     "data": {
      "text/plain": [
       "(2724, 18)"
      ]
     },
     "execution_count": 37,
     "metadata": {},
     "output_type": "execute_result"
    }
   ],
   "source": [
    "edges[edges['same contig'] == True].shape"
   ]
  },
  {
   "cell_type": "code",
   "execution_count": 38,
   "metadata": {
    "collapsed": false
   },
   "outputs": [
    {
     "data": {
      "text/plain": [
       "(997276, 18)"
      ]
     },
     "execution_count": 38,
     "metadata": {},
     "output_type": "execute_result"
    }
   ],
   "source": [
    "edges[edges['same contig'] == False].shape"
   ]
  },
  {
   "cell_type": "code",
   "execution_count": 39,
   "metadata": {
    "collapsed": false
   },
   "outputs": [
    {
     "data": {
      "text/plain": [
       "(1000000, 18)"
      ]
     },
     "execution_count": 39,
     "metadata": {},
     "output_type": "execute_result"
    }
   ],
   "source": [
    "edges.shape"
   ]
  },
  {
   "cell_type": "code",
   "execution_count": 40,
   "metadata": {
    "collapsed": false
   },
   "outputs": [
    {
     "data": {
      "text/plain": [
       "(array([  1.40402112e-02,   1.70488278e-02,   1.85531362e-02,\n",
       "          2.55732418e-02,   2.75789862e-02,   5.96708975e-02,\n",
       "          5.81665891e-02,   9.22642448e-02,   1.24857592e-01,\n",
       "          1.77508384e-01,   2.96850179e-01,   4.19200590e-01,\n",
       "          6.56379872e-01,   1.11368961e+00,   1.98167552e+00,\n",
       "          3.96836540e+00,   8.83079139e+00,   2.45678624e+01,\n",
       "          9.51946374e+01,   3.76563478e+01,   5.09990613e+01,\n",
       "          1.55762604e+02,   5.50316105e+01,   2.73969649e+01,\n",
       "          1.31135572e+01,   7.78429422e+00,   4.53799682e+00,\n",
       "          2.66563438e+00,   1.66025497e+00,   1.13675567e+00,\n",
       "          8.53945700e-01,   7.09030664e-01,   4.85891594e-01,\n",
       "          3.73068468e-01,   3.20417676e-01,   2.62752523e-01,\n",
       "          1.96562956e-01,   1.78511256e-01,   1.53940887e-01,\n",
       "          1.50430834e-01,   1.15831742e-01,   9.77800420e-02,\n",
       "          9.32671170e-02,   8.47427031e-02,   6.91981836e-02,\n",
       "          6.56881308e-02,   5.46565363e-02,   4.26220696e-02,\n",
       "          4.41263779e-02,   2.80804223e-02,   2.40689334e-02,\n",
       "          1.75502640e-02,   1.55445195e-02,   1.25359028e-02,\n",
       "          1.20344667e-02,   1.70488278e-02,   1.00287223e-02,\n",
       "          1.15330306e-02,   7.02010558e-03,   9.52728615e-03,\n",
       "          9.02585003e-03,   6.51866947e-03,   8.52441392e-03,\n",
       "          6.51866947e-03,   5.01436113e-03,   3.00861668e-03,\n",
       "          5.01436113e-03,   6.01723336e-03,   4.51292502e-03,\n",
       "          2.50718057e-03,   4.01148890e-03,   2.50718057e-03,\n",
       "          2.50718057e-03,   2.00574445e-03,   3.51005279e-03,\n",
       "          3.51005279e-03,   3.51005279e-03,   3.51005279e-03,\n",
       "          1.50430834e-03,   3.00861668e-03,   5.01436113e-04,\n",
       "          5.01436113e-04,   5.01436113e-04,   0.00000000e+00,\n",
       "          5.01436113e-04,   5.01436113e-04,   2.50718057e-03,\n",
       "          1.00287223e-03,   0.00000000e+00,   5.01436113e-04]),\n",
       " array([ -4.00000000e-02,  -3.80000000e-02,  -3.60000000e-02,\n",
       "         -3.40000000e-02,  -3.20000000e-02,  -3.00000000e-02,\n",
       "         -2.80000000e-02,  -2.60000000e-02,  -2.40000000e-02,\n",
       "         -2.20000000e-02,  -2.00000000e-02,  -1.80000000e-02,\n",
       "         -1.60000000e-02,  -1.40000000e-02,  -1.20000000e-02,\n",
       "         -1.00000000e-02,  -8.00000000e-03,  -6.00000000e-03,\n",
       "         -4.00000000e-03,  -2.00000000e-03,   3.46944695e-17,\n",
       "          2.00000000e-03,   4.00000000e-03,   6.00000000e-03,\n",
       "          8.00000000e-03,   1.00000000e-02,   1.20000000e-02,\n",
       "          1.40000000e-02,   1.60000000e-02,   1.80000000e-02,\n",
       "          2.00000000e-02,   2.20000000e-02,   2.40000000e-02,\n",
       "          2.60000000e-02,   2.80000000e-02,   3.00000000e-02,\n",
       "          3.20000000e-02,   3.40000000e-02,   3.60000000e-02,\n",
       "          3.80000000e-02,   4.00000000e-02,   4.20000000e-02,\n",
       "          4.40000000e-02,   4.60000000e-02,   4.80000000e-02,\n",
       "          5.00000000e-02,   5.20000000e-02,   5.40000000e-02,\n",
       "          5.60000000e-02,   5.80000000e-02,   6.00000000e-02,\n",
       "          6.20000000e-02,   6.40000000e-02,   6.60000000e-02,\n",
       "          6.80000000e-02,   7.00000000e-02,   7.20000000e-02,\n",
       "          7.40000000e-02,   7.60000000e-02,   7.80000000e-02,\n",
       "          8.00000000e-02,   8.20000000e-02,   8.40000000e-02,\n",
       "          8.60000000e-02,   8.80000000e-02,   9.00000000e-02,\n",
       "          9.20000000e-02,   9.40000000e-02,   9.60000000e-02,\n",
       "          9.80000000e-02,   1.00000000e-01,   1.02000000e-01,\n",
       "          1.04000000e-01,   1.06000000e-01,   1.08000000e-01,\n",
       "          1.10000000e-01,   1.12000000e-01,   1.14000000e-01,\n",
       "          1.16000000e-01,   1.18000000e-01,   1.20000000e-01,\n",
       "          1.22000000e-01,   1.24000000e-01,   1.26000000e-01,\n",
       "          1.28000000e-01,   1.30000000e-01,   1.32000000e-01,\n",
       "          1.34000000e-01,   1.36000000e-01,   1.38000000e-01,\n",
       "          1.40000000e-01]),\n",
       " <a list of 90 Patch objects>)"
      ]
     },
     "execution_count": 40,
     "metadata": {},
     "output_type": "execute_result"
    },
    {
     "data": {
      "image/png": "[encoded data removed]",
      "text/plain": [
       "<matplotlib.figure.Figure at 0x7fc6ed3d4f60>"
      ]
     },
     "metadata": {},
     "output_type": "display_data"
    }
   ],
   "source": [
    "fig, axs = plt.subplots(2, 1, figsize=(4, 6), \n",
    "                        sharey=False, sharex=True)\n",
    "same_contig_pcors = edges[edges['same contig']] \n",
    "\n",
    "bins = np.arange(-0.04, 0.14, 0.002)\n",
    "\n",
    "same = edges[edges['same contig'] == True]\n",
    "not_same = edges[edges['same contig'] == False]\n",
    "axs[0].hist(same['pcor'], bins, normed=True)\n",
    "axs[1].hist(not_same['pcor'], bins, normed=True)"
   ]
  },
  {
   "cell_type": "code",
   "execution_count": 41,
   "metadata": {
    "collapsed": false
   },
   "outputs": [
    {
     "name": "stdout",
     "output_type": "stream",
     "text": [
      "same.shape: (2724, 18)\n",
      "not_same.shape: (997276, 18)\n",
      "170425_explore_cutoff_0.01/same-contig_and_cross-contig_pcor_distributions.pdf\n"
     ]
    },
    {
     "data": {
      "image/png": "[encoded data removed]",
      "text/plain": [
       "<matplotlib.figure.Figure at 0x7fc6f9d90320>"
      ]
     },
     "metadata": {},
     "output_type": "display_data"
    }
   ],
   "source": [
    "fig = plot_histograms_by_edge_category.plot_pdf_of_same_and_different_contig_pcors(edges)\n",
    "\n",
    "fname = os.path.join(plot_dir, \n",
    "            'same-contig_and_cross-contig_pcor_distributions.pdf'.format(NUM_EDGES))\n",
    "print(fname)\n",
    "fig.savefig(fname, bbox_inches='tight')"
   ]
  },
  {
   "cell_type": "code",
   "execution_count": 42,
   "metadata": {
    "collapsed": false
   },
   "outputs": [
    {
     "ename": "AssertionError",
     "evalue": "",
     "output_type": "error",
     "traceback": [
      "\u001b[0;31m----------------------------------------------------------------------\u001b[0m",
      "\u001b[0;31mAssertionError\u001b[0m                       Traceback (most recent call last)",
      "\u001b[0;32m<ipython-input-42-5dd1a40e8915>\u001b[0m in \u001b[0;36m<module>\u001b[0;34m()\u001b[0m\n\u001b[0;32m----> 1\u001b[0;31m \u001b[0;32massert\u001b[0m \u001b[0;32mFalse\u001b[0m\u001b[0;34m\u001b[0m\u001b[0m\n\u001b[0m\u001b[1;32m      2\u001b[0m \u001b[0;31m# I never got cytoscape to load anything useful.  I'm not saying it can't be done though!\u001b[0m\u001b[0;34m\u001b[0m\u001b[0;34m\u001b[0m\u001b[0m\n",
      "\u001b[0;31mAssertionError\u001b[0m: "
     ]
    }
   ],
   "source": [
    "assert False\n",
    "# I never got cytoscape to load anything useful.  I'm not saying it can't be done though!"
   ]
  },
  {
   "cell_type": "markdown",
   "metadata": {},
   "source": [
    "## Write for load into cytoscape"
   ]
  },
  {
   "cell_type": "code",
   "execution_count": null,
   "metadata": {
    "collapsed": false
   },
   "outputs": [],
   "source": [
    "EDGE_FILE"
   ]
  },
  {
   "cell_type": "code",
   "execution_count": null,
   "metadata": {
    "collapsed": false
   },
   "outputs": [],
   "source": [
    "os.path.split(EDGE_FILE)"
   ]
  },
  {
   "cell_type": "code",
   "execution_count": null,
   "metadata": {
    "collapsed": false
   },
   "outputs": [],
   "source": [
    "os.path.split(EDGE_DIR)\n",
    "save_dir = os.path.join(os.path.split(EDGE_DIR)[1], 'save_as_gml')\n",
    "print(save_dir)\n",
    "if not os.path.exists(save_dir):\n",
    "    os.mkdir(save_dir)"
   ]
  },
  {
   "cell_type": "code",
   "execution_count": null,
   "metadata": {
    "collapsed": false
   },
   "outputs": [],
   "source": [
    "sys.path.append('/work/rnaseq/pcor_new/networkx')\n",
    "import networkx_helpers as nxh\n",
    "import networkx_explore as nxe"
   ]
  },
  {
   "cell_type": "code",
   "execution_count": null,
   "metadata": {
    "collapsed": false
   },
   "outputs": [],
   "source": [
    "network = nxh.build_network(EDGE_FILE)"
   ]
  },
  {
   "cell_type": "code",
   "execution_count": null,
   "metadata": {
    "collapsed": true
   },
   "outputs": [],
   "source": [
    "import networkx as nx"
   ]
  },
  {
   "cell_type": "code",
   "execution_count": null,
   "metadata": {
    "collapsed": false
   },
   "outputs": [],
   "source": [
    "plot_dir"
   ]
  },
  {
   "cell_type": "code",
   "execution_count": null,
   "metadata": {
    "collapsed": false
   },
   "outputs": [],
   "source": [
    "gml_file = os.path.join(save_dir, 'graph.gml')\n",
    "print(gml_file)\n",
    "nx.write_gml(network, gml_file)"
   ]
  },
  {
   "cell_type": "code",
   "execution_count": null,
   "metadata": {
    "collapsed": false
   },
   "outputs": [],
   "source": [
    "! realpath $gml_file"
   ]
  },
  {
   "cell_type": "code",
   "execution_count": null,
   "metadata": {
    "collapsed": false
   },
   "outputs": [],
   "source": [
    "! ls -lht $gml_file"
   ]
  },
  {
   "cell_type": "code",
   "execution_count": null,
   "metadata": {
    "collapsed": false
   },
   "outputs": [],
   "source": [
    "! pwd"
   ]
  },
  {
   "cell_type": "code",
   "execution_count": null,
   "metadata": {
    "collapsed": false
   },
   "outputs": [],
   "source": [
    "! ls /work/rnaseq/pcor_new/GeneNet/170412_explore_cutoff_0.01 #/save_as_gml/graph.gml"
   ]
  },
  {
   "cell_type": "code",
   "execution_count": null,
   "metadata": {
    "collapsed": true
   },
   "outputs": [],
   "source": [
    "# make a sub-network without hypothetical proteins since the 1M edge file is big for cytoscape. "
   ]
  },
  {
   "cell_type": "code",
   "execution_count": null,
   "metadata": {
    "collapsed": false
   },
   "outputs": [],
   "source": [
    "product_dict = nx.get_node_attributes(network, 'product')\n",
    "non_hypothetical_nodes = []\n",
    "for n in network.nodes_iter():\n",
    "    if product_dict[n] != 'hypohetical protein':\n",
    "        non_hypothetical_nodes.append(n)\n",
    "        print(n, product_dict[n])\n",
    "        \n",
    "network_no_hypothetical = network.subgraph(non_hypothetical_nodes)"
   ]
  },
  {
   "cell_type": "code",
   "execution_count": null,
   "metadata": {
    "collapsed": false
   },
   "outputs": [],
   "source": [
    "network_no_hypothetical.number_of_nodes()"
   ]
  },
  {
   "cell_type": "code",
   "execution_count": null,
   "metadata": {
    "collapsed": false
   },
   "outputs": [],
   "source": [
    "gml_file = os.path.join(save_dir, 'graph_without_hypothetical_proteins.gml')\n",
    "print(gml_file)\n",
    "nx.write_gml(network_no_hypothetical, gml_file)"
   ]
  },
  {
   "cell_type": "code",
   "execution_count": null,
   "metadata": {
    "collapsed": true
   },
   "outputs": [],
   "source": [
    "\n"
   ]
  }
 ],
 "metadata": {
  "anaconda-cloud": {},
  "kernelspec": {
   "display_name": "Python [conda env:py3]",
   "language": "python",
   "name": "conda-env-py3-py"
  },
  "language_info": {
   "codemirror_mode": {
    "name": "ipython",
    "version": 3
   },
   "file_extension": ".py",
   "mimetype": "text/x-python",
   "name": "python",
   "nbconvert_exporter": "python",
   "pygments_lexer": "ipython3",
   "version": "3.5.2"
  }
 },
 "nbformat": 4,
 "nbformat_minor": 2
}
