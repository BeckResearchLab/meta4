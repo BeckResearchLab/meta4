{
 "cells": [
  {
   "cell_type": "code",
   "execution_count": null,
   "metadata": {
    "collapsed": true
   },
   "outputs": [],
   "source": [
    "# Import matplotlib before seaborn\n",
    "import matplotlib as mpl\n",
    "import matplotlib.pyplot as plt\n",
    "import itertools  # for color palette cycling\n",
    "import os\n",
    "import re\n",
    "import pandas as pd\n",
    "import seaborn as sns\n",
    "import sys\n",
    "from cycler import cycler\n",
    "import seaborn as sns\n",
    "%matplotlib inline"
   ]
  },
  {
   "cell_type": "code",
   "execution_count": null,
   "metadata": {
    "collapsed": true
   },
   "outputs": [],
   "source": [
    "import numpy as np\n",
    "\n",
    "import networkx as nx"
   ]
  },
  {
   "cell_type": "code",
   "execution_count": null,
   "metadata": {
    "collapsed": false
   },
   "outputs": [],
   "source": [
    "sys.path.append('/work/rnaseq/pcor_new/networkx')\n",
    "import networkx_helpers as nxh\n",
    "import networkx_explore as nxe"
   ]
  },
  {
   "cell_type": "code",
   "execution_count": null,
   "metadata": {
    "collapsed": false
   },
   "outputs": [],
   "source": [
    "%load_ext autoreload\n",
    "%autoreload 2"
   ]
  },
  {
   "cell_type": "code",
   "execution_count": null,
   "metadata": {
    "collapsed": true
   },
   "outputs": [],
   "source": [
    "EDGE_DIR = 'cutoff_0.001'"
   ]
  },
  {
   "cell_type": "code",
   "execution_count": null,
   "metadata": {
    "collapsed": false
   },
   "outputs": [],
   "source": [
    "plot_dir = '170415_networkX_explore_' + EDGE_DIR\n",
    "print(plot_dir)\n",
    "if not os.path.exists(plot_dir):\n",
    "    os.mkdir(plot_dir)"
   ]
  },
  {
   "cell_type": "code",
   "execution_count": null,
   "metadata": {
    "collapsed": false
   },
   "outputs": [],
   "source": [
    "! realpath $plot_dir"
   ]
  },
  {
   "cell_type": "code",
   "execution_count": null,
   "metadata": {
    "collapsed": false
   },
   "outputs": [],
   "source": [
    "import glob\n",
    "\n",
    "search_path = os.path.join(EDGE_DIR, 'results/data/*top_*_edges.tsv')\n",
    "EDGE_FILE = glob.glob(search_path)[0]\n",
    "print(EDGE_FILE)"
   ]
  },
  {
   "cell_type": "code",
   "execution_count": null,
   "metadata": {
    "collapsed": false
   },
   "outputs": [],
   "source": [
    "edges = pd.read_csv(EDGE_FILE, sep='\\t')\n",
    "NUM_EDGES = edges.shape[0]\n",
    "print('number of edges: {:.0e}'.format(NUM_EDGES))\n",
    "edges.head()"
   ]
  },
  {
   "cell_type": "code",
   "execution_count": null,
   "metadata": {
    "collapsed": false
   },
   "outputs": [],
   "source": [
    "fig, ax = plt.subplots(1,1, figsize = (4, 2.5))\n",
    "edges['pcor'].plot.hist(ax=ax, bins=100)\n",
    "ax.set_yscale('log')"
   ]
  },
  {
   "cell_type": "code",
   "execution_count": null,
   "metadata": {
    "collapsed": false
   },
   "outputs": [],
   "source": [
    "# how many edges have 'hypothetical protein' in them? \n",
    "frac_hypothetical = \\\n",
    "    edges[edges['product_1'].str.contains('hypothetical protein') | \n",
    "          edges['product_2'].str.contains('hypothetical protein')].shape[0]/edges.shape[0]\n",
    "print('fraction of edges that have \"hypothetical protein\": {}.  (for {} edges)'.format(\n",
    "    frac_hypothetical, NUM_EDGES))"
   ]
  },
  {
   "cell_type": "code",
   "execution_count": null,
   "metadata": {
    "collapsed": false
   },
   "outputs": [],
   "source": [
    "def extract_smaller_num(string):\n",
    "    # 5_151185 --> 151185  (int type)\n",
    "    m = re.search('[0-9]+_([0-9]+)', string)\n",
    "    if m:\n",
    "        found = m.group(1)\n",
    "        return int(found)\n",
    "    \n",
    "extract_smaller_num('5_151185')"
   ]
  },
  {
   "cell_type": "code",
   "execution_count": null,
   "metadata": {
    "collapsed": false
   },
   "outputs": [],
   "source": [
    "! pwd"
   ]
  },
  {
   "cell_type": "code",
   "execution_count": null,
   "metadata": {
    "collapsed": false
   },
   "outputs": [],
   "source": [
    "network = nxh.build_network(EDGE_FILE)"
   ]
  },
  {
   "cell_type": "code",
   "execution_count": null,
   "metadata": {
    "collapsed": false
   },
   "outputs": [],
   "source": [
    "SG = nxe.subgraph_by_cutoff(network, cutoff = 0.085, hypothetical=True)\n",
    "nxe.draw(SG, layout=nx.spring_layout)"
   ]
  },
  {
   "cell_type": "code",
   "execution_count": null,
   "metadata": {
    "collapsed": false
   },
   "outputs": [],
   "source": [
    "! pwd"
   ]
  },
  {
   "cell_type": "code",
   "execution_count": null,
   "metadata": {
    "collapsed": false
   },
   "outputs": [],
   "source": [
    "# loosen the cutoff, but keep hypotheticals out.\n",
    "SG = nxe.subgraph_by_cutoff(network, cutoff = 0.05, hypothetical=False)\n",
    "image = nxe.draw(SG, layout=nx.spring_layout)\n",
    "f = plt.figure()"
   ]
  },
  {
   "cell_type": "code",
   "execution_count": null,
   "metadata": {
    "collapsed": false
   },
   "outputs": [],
   "source": [
    "type(f)"
   ]
  },
  {
   "cell_type": "code",
   "execution_count": null,
   "metadata": {
    "collapsed": false
   },
   "outputs": [],
   "source": [
    "# SLOW for 1 million edges.\n",
    "p = 0\n",
    "nodes = set()\n",
    "for u, v, d in network.edges_iter(data=True): \n",
    "    nodes.update([u])  # put u in a list or it splits up the characters.\n",
    "    nodes.update([v])\n",
    "    print(u, v, d)\n",
    "    p += 1\n",
    "    if p > 5: break\n",
    "print(nodes)\n",
    "        \n",
    "print('--------')\n",
    "for n in nodes:\n",
    "    print(n)\n",
    "    #print(network.nodes(data=True)[n])\n",
    "    #print(network[n])\n",
    "    #print(network[n]['product'])"
   ]
  },
  {
   "cell_type": "code",
   "execution_count": null,
   "metadata": {
    "collapsed": false
   },
   "outputs": [],
   "source": [
    "p = 0\n",
    "for x in network.nodes_iter(data=True): \n",
    "    #print(x)\n",
    "    print(x[1]['product'])\n",
    "    p += 1\n",
    "    if p > 5: break"
   ]
  },
  {
   "cell_type": "code",
   "execution_count": null,
   "metadata": {
    "collapsed": false
   },
   "outputs": [],
   "source": [
    "toy_nodes = [n for (n, d) in nxe.get_nodes_including_string(network, 'ethane')]\n",
    "toy_graph = nx.Graph(network.subgraph(toy_nodes))\n",
    "toy_graph_trimmed = nxe.subgraph_by_cutoff(toy_graph, cutoff = 0.01)\n",
    "print(len(toy_nodes))\n",
    "print(toy_nodes[0:4])\n",
    "nxe.draw(toy_graph_trimmed, layout = nx.spring_layout, edge_multiplier=800)"
   ]
  },
  {
   "cell_type": "code",
   "execution_count": null,
   "metadata": {
    "collapsed": true
   },
   "outputs": [],
   "source": []
  }
 ],
 "metadata": {
  "anaconda-cloud": {},
  "kernelspec": {
   "display_name": "Python [conda env:py3]",
   "language": "python",
   "name": "conda-env-py3-py"
  },
  "language_info": {
   "codemirror_mode": {
    "name": "ipython",
    "version": 3
   },
   "file_extension": ".py",
   "mimetype": "text/x-python",
   "name": "python",
   "nbconvert_exporter": "python",
   "pygments_lexer": "ipython3",
   "version": "3.5.2"
  }
 },
 "nbformat": 4,
 "nbformat_minor": 2
}
