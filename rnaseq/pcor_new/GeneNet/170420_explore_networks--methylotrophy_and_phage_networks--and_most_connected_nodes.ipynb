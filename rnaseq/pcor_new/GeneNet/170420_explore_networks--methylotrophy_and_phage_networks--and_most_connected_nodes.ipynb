{
 "cells": [
  {
   "cell_type": "code",
   "execution_count": null,
   "metadata": {
    "collapsed": true
   },
   "outputs": [],
   "source": [
    "# Import matplotlib before seaborn\n",
    "from datetime import datetime\n",
    "import matplotlib as mpl\n",
    "import matplotlib.pyplot as plt\n",
    "import itertools  # for color palette cycling\n",
    "import os\n",
    "import re\n",
    "import pandas as pd\n",
    "import seaborn as sns\n",
    "import sys\n",
    "from cycler import cycler\n",
    "import seaborn as sns\n",
    "%matplotlib inline"
   ]
  },
  {
   "cell_type": "code",
   "execution_count": null,
   "metadata": {
    "collapsed": true
   },
   "outputs": [],
   "source": [
    "%load_ext autoreload\n",
    "%autoreload 2"
   ]
  },
  {
   "cell_type": "code",
   "execution_count": null,
   "metadata": {
    "collapsed": true
   },
   "outputs": [],
   "source": [
    "import networkx as nx\n",
    "import numpy as np"
   ]
  },
  {
   "cell_type": "code",
   "execution_count": null,
   "metadata": {
    "collapsed": false
   },
   "outputs": [],
   "source": [
    "sys.path.append('/work/rnaseq/pcor_new/networkx')\n",
    "import networkx_helpers as nxh\n",
    "import networkx_explore as nxe"
   ]
  },
  {
   "cell_type": "code",
   "execution_count": null,
   "metadata": {
    "collapsed": true
   },
   "outputs": [],
   "source": [
    "plot_dir = '170417_results_across_networks'\n",
    "if not os.path.exists(plot_dir):\n",
    "    os.mkdir(plot_dir)"
   ]
  },
  {
   "cell_type": "code",
   "execution_count": null,
   "metadata": {
    "collapsed": false
   },
   "outputs": [],
   "source": [
    "! ls"
   ]
  },
  {
   "cell_type": "code",
   "execution_count": null,
   "metadata": {
    "collapsed": true
   },
   "outputs": [],
   "source": [
    "import glob"
   ]
  },
  {
   "cell_type": "code",
   "execution_count": null,
   "metadata": {
    "collapsed": false
   },
   "outputs": [],
   "source": [
    "! ls cutoff_0.1/results/data/*_edges.tsv"
   ]
  },
  {
   "cell_type": "code",
   "execution_count": null,
   "metadata": {
    "collapsed": false
   },
   "outputs": [],
   "source": [
    "glob.glob('cutoff_*/results/data/*_edges.tsv')"
   ]
  },
  {
   "cell_type": "code",
   "execution_count": null,
   "metadata": {
    "collapsed": false
   },
   "outputs": [],
   "source": [
    "def get_network_edge_paths():\n",
    "    files = glob.glob('cutoff_*/results/data/*_edges.tsv')\n",
    "    networks = pd.DataFrame({'path':files})\n",
    "    networks['cutoff'] = networks['path'].str.extract('cutoff_([.0-9]+)', expand=True)\n",
    "    networks['cutoff'] = networks['cutoff'].astype(float)\n",
    "    return networks\n",
    "\n",
    "nw_info = get_network_edge_paths()\n",
    "nw_info"
   ]
  },
  {
   "cell_type": "code",
   "execution_count": null,
   "metadata": {
    "collapsed": false
   },
   "outputs": [],
   "source": [
    "#n_toy = nxh.build_network('cutoff_0.1/results/data/input_to_R--no_features_dropped--top_41328_edges.tsv')\n",
    "n_toy = nxh.build_network('cutoff_0.01/results/data/input_to_R--no_features_dropped--top_1e+06_edges.tsv')"
   ]
  },
  {
   "cell_type": "code",
   "execution_count": null,
   "metadata": {
    "collapsed": true
   },
   "outputs": [],
   "source": [
    "from functools import partial"
   ]
  },
  {
   "cell_type": "code",
   "execution_count": null,
   "metadata": {
    "collapsed": false
   },
   "outputs": [],
   "source": [
    "partial(nx.spring_layout, weight='pcor')"
   ]
  },
  {
   "cell_type": "code",
   "execution_count": null,
   "metadata": {
    "collapsed": false
   },
   "outputs": [],
   "source": [
    "methylotrophy_genes = ['ethane', 'Methanol', 'hexulose-6-phosphate']\n",
    "methylotrophy_nodes = nxe.get_nodes_including_list_of_strings(n_toy, methylotrophy_genes)\n",
    "#mSG = nx.Graph(methylotrophy_nodes)\n",
    "#methylotrophy_network = nx.Graph(n_toy(mSG.nodes()))\n",
    "methylotrophy_network = n_toy.subgraph(methylotrophy_nodes)\n",
    "mnt = nxe.subgraph_by_cutoff(methylotrophy_network, cutoff = 0.0)\n",
    "plt.figure(figsize=(8,8))\n",
    "nxe.draw(mnt, layout=partial(nx.spring_layout, scale = 500), edge_multiplier=500) #, weight='pcor'))"
   ]
  },
  {
   "cell_type": "code",
   "execution_count": null,
   "metadata": {
    "collapsed": false
   },
   "outputs": [],
   "source": [
    "node_strings = ['Phage', 'phage']\n",
    "nodes = nxe.get_nodes_including_list_of_strings(n_toy, node_strings)\n",
    "string_network = n_toy.subgraph(nodes)\n",
    "snt = nxe.subgraph_by_cutoff(string_network, cutoff = 0.0)\n",
    "nxe.draw(snt, layout=partial(nx.spring_layout, scale = 600), edge_multiplier=100) #, weight='pcor')) "
   ]
  },
  {
   "cell_type": "code",
   "execution_count": null,
   "metadata": {
    "collapsed": false
   },
   "outputs": [],
   "source": [
    "node_strings = ['ethane', 'Methanol', 'hexulose-6-phosphate', 'Phage', 'phage']\n",
    "nodes = nxe.get_nodes_including_list_of_strings(n_toy, node_strings)\n",
    "string_network = n_toy.subgraph(nodes)\n",
    "snt = nxe.subgraph_by_cutoff(string_network, cutoff = 0.1)\n",
    "nxe.draw(snt, layout=partial(nx.spring_layout, scale = 100), edge_multiplier=50) #, weight='pcor')) "
   ]
  },
  {
   "cell_type": "code",
   "execution_count": null,
   "metadata": {
    "collapsed": false
   },
   "outputs": [],
   "source": [
    "high_pcors_w_hypo = nxe.summarise_sum_abs_pcors(n_toy)\n",
    "high_pcors = high_pcors_w_hypo[ ~ high_pcors_w_hypo['product'].str.contains('hypothetical')]\n",
    "high_pcors.head(15)"
   ]
  },
  {
   "cell_type": "code",
   "execution_count": null,
   "metadata": {
    "collapsed": false
   },
   "outputs": [],
   "source": [
    "fig, ax = plt.subplots(1, 1, figsize=(4, 2.5))\n",
    "x = 'sum(abs(pcor))'\n",
    "high_pcors[x].hist(ax=ax)\n",
    "ax.set_xlabel(x)\n",
    "ax.set_ylabel('# of nodes')"
   ]
  },
  {
   "cell_type": "code",
   "execution_count": null,
   "metadata": {
    "collapsed": true
   },
   "outputs": [],
   "source": []
  },
  {
   "cell_type": "code",
   "execution_count": null,
   "metadata": {
    "collapsed": true
   },
   "outputs": [],
   "source": []
  }
 ],
 "metadata": {
  "anaconda-cloud": {},
  "kernelspec": {
   "display_name": "Python [conda env:py3]",
   "language": "python",
   "name": "conda-env-py3-py"
  },
  "language_info": {
   "codemirror_mode": {
    "name": "ipython",
    "version": 3
   },
   "file_extension": ".py",
   "mimetype": "text/x-python",
   "name": "python",
   "nbconvert_exporter": "python",
   "pygments_lexer": "ipython3",
   "version": "3.5.2"
  }
 },
 "nbformat": 4,
 "nbformat_minor": 2
}
