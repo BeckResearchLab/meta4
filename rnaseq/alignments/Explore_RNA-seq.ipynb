{
 "cells": [
  {
   "cell_type": "code",
   "execution_count": null,
   "metadata": {
    "collapsed": false
   },
   "outputs": [],
   "source": [
    "# Import matplotlib before seaborn\n",
    "import matplotlib as mpl\n",
    "import matplotlib.pyplot as plt\n",
    "\n",
    "import re\n",
    "\n",
    "import pandas as pd\n",
    "import seaborn as sns\n",
    "\n",
    "%load_ext autoreload\n",
    "%autoreload 2\n",
    "%matplotlib inline\n"
   ]
  },
  {
   "cell_type": "code",
   "execution_count": null,
   "metadata": {
    "collapsed": false
   },
   "outputs": [],
   "source": [
    "import exploration_utils"
   ]
  },
  {
   "cell_type": "code",
   "execution_count": null,
   "metadata": {
    "collapsed": false
   },
   "outputs": [],
   "source": [
    "! ls demos/"
   ]
  },
  {
   "cell_type": "code",
   "execution_count": null,
   "metadata": {
    "collapsed": false
   },
   "outputs": [],
   "source": [
    "#! ls ./map_to_contigs_longer_than_1500bp/*.tsv\n",
    "! ls ./map_to_contigs_longer_than_1500bp/*.dat"
   ]
  },
  {
   "cell_type": "code",
   "execution_count": null,
   "metadata": {
    "collapsed": true
   },
   "outputs": [],
   "source": [
    "! mkdir -p figures"
   ]
  },
  {
   "cell_type": "code",
   "execution_count": null,
   "metadata": {
    "collapsed": false
   },
   "outputs": [],
   "source": [
    "unders = exploration_utils.load_underscore_stats()"
   ]
  },
  {
   "cell_type": "code",
   "execution_count": null,
   "metadata": {
    "collapsed": false
   },
   "outputs": [],
   "source": [
    "unders.head()"
   ]
  },
  {
   "cell_type": "code",
   "execution_count": null,
   "metadata": {
    "collapsed": false
   },
   "outputs": [],
   "source": [
    "unders['frac of RNA reads: __not_aligned'].max()"
   ]
  },
  {
   "cell_type": "code",
   "execution_count": null,
   "metadata": {
    "collapsed": false
   },
   "outputs": [],
   "source": [
    "cnames = [c for c in unders if '__' in c]\n",
    "for c in cnames:\n",
    "    var = c\n",
    "    p = exploration_utils.plot_faceted(unders, var)\n",
    "    desc = exploration_utils.filename_cleaner(var)\n",
    "    fname = './figures/170222_{}.pdf'.format(desc)\n",
    "    p.savefig(fname)"
   ]
  },
  {
   "cell_type": "code",
   "execution_count": null,
   "metadata": {
    "collapsed": false
   },
   "outputs": [],
   "source": [
    "unders.head(1)"
   ]
  },
  {
   "cell_type": "code",
   "execution_count": null,
   "metadata": {
    "collapsed": false
   },
   "outputs": [],
   "source": [
    "dict(zip(['frac of RNA reads: __alignment_not_unique', 'frac of RNA reads: __ambiguous', 'frac of RNA reads: __no_feature', 'frac of RNA reads: __not_aligned', 'frac of RNA reads: __too_low_aQual'],\n",
    "['#66c2a5', '#fc8d62', '#8da0cb', '#e78ac3', '#a6d854']))"
   ]
  },
  {
   "cell_type": "code",
   "execution_count": null,
   "metadata": {
    "collapsed": false
   },
   "outputs": [],
   "source": [
    "counts =  exploration_utils.load_counts() "
   ]
  },
  {
   "cell_type": "code",
   "execution_count": null,
   "metadata": {
    "collapsed": false
   },
   "outputs": [],
   "source": [
    "counts.head()"
   ]
  },
  {
   "cell_type": "code",
   "execution_count": null,
   "metadata": {
    "collapsed": false
   },
   "outputs": [],
   "source": [
    "frac_sums = counts.groupby('sample id')['frac RNA-seq reads'].sum() #.min()"
   ]
  },
  {
   "cell_type": "code",
   "execution_count": null,
   "metadata": {
    "collapsed": false
   },
   "outputs": [],
   "source": [
    "frac_sums.reset_index().rename(columns={'frac RNA-seq reads': 'sum(RNA-seq mapped to genes)'}).head()"
   ]
  },
  {
   "cell_type": "code",
   "execution_count": null,
   "metadata": {
    "collapsed": false
   },
   "outputs": [],
   "source": [
    "merged_df = pd.merge(unders, \n",
    "                     frac_sums.reset_index().rename(\n",
    "                        columns={'frac RNA-seq reads':'sum(RNA-seq mapped to genes)'}))"
   ]
  },
  {
   "cell_type": "code",
   "execution_count": null,
   "metadata": {
    "collapsed": false
   },
   "outputs": [],
   "source": [
    "merged_df['check sum'] = 0 \n",
    "cnames_to_sum = [c for c in merged_df.columns \n",
    "                 if (': __' in c) or (c == 'sum(RNA-seq mapped to genes)')]\n",
    "for c in cnames_to_sum:\n",
    "    merged_df['check sum'] = merged_df['check sum'] + merged_df[c]\n",
    "\n",
    "merged_df.head()"
   ]
  },
  {
   "cell_type": "code",
   "execution_count": null,
   "metadata": {
    "collapsed": false
   },
   "outputs": [],
   "source": [
    "merged_df['check sum'].hist(bins=20)"
   ]
  },
  {
   "cell_type": "code",
   "execution_count": null,
   "metadata": {
    "collapsed": false
   },
   "outputs": [],
   "source": [
    "! pwd"
   ]
  },
  {
   "cell_type": "code",
   "execution_count": null,
   "metadata": {
    "collapsed": false
   },
   "outputs": [],
   "source": [
    "! ls"
   ]
  },
  {
   "cell_type": "code",
   "execution_count": null,
   "metadata": {
    "collapsed": false
   },
   "outputs": [],
   "source": [
    "def plot_underscores_by_series(dataframe):\n",
    "    x='week'\n",
    "    \n",
    "    fig, axs = plt.subplots(2, 4, figsize=(15, 6), sharex=True, sharey=True)\n",
    "    #print(axs)\n",
    "    axd = {('low', 1):axs[0, 0],\n",
    "           ('low', 2):axs[0, 1],\n",
    "           ('low', 3):axs[0, 2],\n",
    "           ('low', 4):axs[0, 3], \n",
    "           ('high', 1):axs[1, 0],\n",
    "           ('high', 2):axs[1, 1],\n",
    "           ('high', 3):axs[1, 2],\n",
    "           ('high', 4):axs[1, 3]}\n",
    "    colors = ['#66c2a5', '#fc8d62', '#8da0cb', '#e78ac3', '#a6d854']\n",
    "    series = [c for c in dataframe if ('frac' in c) and ('__' in c)]\n",
    "    colord = dict(zip(series, colors))\n",
    "    #print('series: {}'.format(series))\n",
    "    for tup, df in dataframe.groupby(['oxygen', 'replicate']):\n",
    "        #print(tup)\n",
    "        #print(df.head(1))\n",
    "        ax = axd[tup]\n",
    "        title = '{} O2, rep {}'.format(tup[0], tup[1])\n",
    "        ax.set_title(title)\n",
    "        df = df.copy()\n",
    "        df.sort_values('week', ascending=False, inplace=True)\n",
    "        ax.plot(df[x], df['sum(RNA-seq mapped to genes)'], \n",
    "                color='black', linewidth=4)\n",
    "        for s in series:\n",
    "            color = colord[s]\n",
    "            ax.plot(df[x], df[s], color=color, label=s)\n",
    "        ax.set_xlabel(x)\n",
    "        \n",
    "            \n",
    "    axs[0, 3].legend(bbox_to_anchor=(2.5, 1.))\n",
    "    return fig\n",
    "        \n",
    "merged_df = pd.merge(unders, \n",
    "                    frac_sums.reset_index().rename(\n",
    "                        columns={'frac RNA-seq reads':'sum(RNA-seq mapped to genes)'}))\n",
    "p = plot_underscores_by_series(merged_df)\n",
    "p.savefig('./figures/170222_underscore_series_together.pdf', bbox_inches='tight')"
   ]
  },
  {
   "cell_type": "code",
   "execution_count": null,
   "metadata": {
    "collapsed": false
   },
   "outputs": [],
   "source": [
    "fig, ax = plt.subplots(figsize=(4, 2.5))\n",
    "frac_sums.hist(bins=20, ax = ax)\n",
    "ax.set_xlabel('fraction of reads mapped to genes')\n",
    "ax.set_ylabel('frequency')\n",
    "fig.savefig('./figures/170222_sum_of_frac_reads_mapped_to_genes.pdf', \n",
    "            bbox_inches='tight')"
   ]
  },
  {
   "cell_type": "code",
   "execution_count": null,
   "metadata": {
    "collapsed": false
   },
   "outputs": [],
   "source": [
    "frac_sums.to_frame().reset_index().head()"
   ]
  },
  {
   "cell_type": "code",
   "execution_count": null,
   "metadata": {
    "collapsed": false
   },
   "outputs": [],
   "source": [
    "frac_sums_merged = pd.merge(exploration_utils.get_sample_info(), \n",
    "                            frac_sums.to_frame().reset_index())\n",
    "frac_sums_merged.head()"
   ]
  },
  {
   "cell_type": "code",
   "execution_count": null,
   "metadata": {
    "collapsed": false
   },
   "outputs": [],
   "source": [
    "def plot_frac_rna_mapped_to_genes():\n",
    "    p = exploration_utils.plot_faceted(frac_sums_merged, \n",
    "                                   'frac RNA-seq reads')\n",
    "    return p \n",
    "    \n",
    "p = plot_frac_rna_mapped_to_genes()\n",
    "p.savefig('170222_frac_RNA_reads_mapped_to_genes.pdf', \n",
    "          bbox_inches='tight')"
   ]
  },
  {
   "cell_type": "code",
   "execution_count": null,
   "metadata": {
    "collapsed": false
   },
   "outputs": [],
   "source": [
    "counts_nonzero = counts[counts['RNA reads'] > 0]\n",
    "counts_nonzero.shape"
   ]
  },
  {
   "cell_type": "code",
   "execution_count": null,
   "metadata": {
    "collapsed": false
   },
   "outputs": [],
   "source": [
    "gene_read_totals = counts_nonzero.groupby('product')['RNA reads'].sum().sort_values(ascending=False)\n",
    "gene_read_totals.head(30)"
   ]
  },
  {
   "cell_type": "code",
   "execution_count": null,
   "metadata": {
    "collapsed": false
   },
   "outputs": [],
   "source": [
    "counts.head(2)"
   ]
  },
  {
   "cell_type": "code",
   "execution_count": null,
   "metadata": {
    "collapsed": false
   },
   "outputs": [],
   "source": [
    "counts.shape"
   ]
  },
  {
   "cell_type": "code",
   "execution_count": null,
   "metadata": {
    "collapsed": false
   },
   "outputs": [],
   "source": [
    "gene_counts = counts[['locus', 'product']].drop_duplicates()\n",
    "gene_counts.shape\n",
    "gene_counts = gene_counts.groupby('product').count()\n",
    "gene_counts = gene_counts.reset_index().rename(columns={'locus':'# gene copies'})\n",
    "gene_counts.head()"
   ]
  },
  {
   "cell_type": "code",
   "execution_count": null,
   "metadata": {
    "collapsed": false
   },
   "outputs": [],
   "source": [
    "gene_counts.head()"
   ]
  },
  {
   "cell_type": "code",
   "execution_count": null,
   "metadata": {
    "collapsed": false
   },
   "outputs": [],
   "source": [
    "grt = gene_read_totals.to_frame().reset_index().rename(\n",
    "        columns={'RNA reads': 'sum(RNA reads), all samples'})\n",
    "grt.head(3)"
   ]
  },
  {
   "cell_type": "code",
   "execution_count": null,
   "metadata": {
    "collapsed": false
   },
   "outputs": [],
   "source": [
    "top_genes = pd.merge(grt, gene_counts)\n",
    "print(top_genes.shape)\n",
    "top_genes.sort_values('sum(RNA reads), all samples', \n",
    "                      ascending=False, inplace=True)\n",
    "top_genes.head(30)"
   ]
  },
  {
   "cell_type": "code",
   "execution_count": null,
   "metadata": {
    "collapsed": false
   },
   "outputs": [],
   "source": [
    "top_genes.sort_values('# gene copies', ascending=False).head(30)"
   ]
  },
  {
   "cell_type": "code",
   "execution_count": null,
   "metadata": {
    "collapsed": true
   },
   "outputs": [],
   "source": [
    "#  gene_read_totals.to_csv('./map_to_contigs_longer_than_1500bp/gene_read_totals.tsv', sep='\\t')\n",
    "top_genes.to_csv('./map_to_contigs_longer_than_1500bp/top_genes.tsv', sep='\\t')"
   ]
  },
  {
   "cell_type": "code",
   "execution_count": null,
   "metadata": {
    "collapsed": true
   },
   "outputs": [],
   "source": [
    "gene_read_totals.to_csv('./map_to_contigs_longer_than_1500bp/gene_read_totals.tsv', sep='\\t')"
   ]
  },
  {
   "cell_type": "code",
   "execution_count": null,
   "metadata": {
    "collapsed": false
   },
   "outputs": [],
   "source": [
    "#sample_info.head()"
   ]
  },
  {
   "cell_type": "code",
   "execution_count": null,
   "metadata": {
    "collapsed": false
   },
   "outputs": [],
   "source": [
    "exploration_utils.prep_gene_cts('Particulate methane monooxygenase alpha subunit precursor', counts).head()"
   ]
  },
  {
   "cell_type": "code",
   "execution_count": null,
   "metadata": {
    "collapsed": false
   },
   "outputs": [],
   "source": [
    "! mkdir -p ./figures/gene_reads"
   ]
  },
  {
   "cell_type": "code",
   "execution_count": null,
   "metadata": {
    "collapsed": false
   },
   "outputs": [],
   "source": [
    "exploration_utils.filename_cleaner('170222_read_counts_Ammonia monooxygenase/methane monooxygenase%2C subunit C')"
   ]
  },
  {
   "cell_type": "code",
   "execution_count": null,
   "metadata": {
    "collapsed": false
   },
   "outputs": [],
   "source": [
    "! ls ./figures/gene_reads/ | head"
   ]
  },
  {
   "cell_type": "code",
   "execution_count": null,
   "metadata": {
    "collapsed": false
   },
   "outputs": [],
   "source": [
    "exploration_utils.plot_read_counts_by_product(\n",
    "    'Particulate methane monooxygenase alpha subunit precursor',\n",
    "    counts)"
   ]
  },
  {
   "cell_type": "code",
   "execution_count": null,
   "metadata": {
    "collapsed": false
   },
   "outputs": [],
   "source": [
    "exploration_utils.plot_read_fracs_by_product(\n",
    "    'Particulate methane monooxygenase alpha subunit precursor',\n",
    "    counts)"
   ]
  },
  {
   "cell_type": "code",
   "execution_count": null,
   "metadata": {
    "collapsed": false
   },
   "outputs": [],
   "source": [
    "counts_nonzero.head(2)"
   ]
  },
  {
   "cell_type": "code",
   "execution_count": null,
   "metadata": {
    "collapsed": false
   },
   "outputs": [],
   "source": [
    "num_plots = 50\n",
    "gene_names = counts_nonzero.groupby('product')['RNA reads'].sum().sort_values(\n",
    "    ascending=False).index.tolist()[0:num_plots]\n",
    "\n",
    "for g in gene_names:\n",
    "    p = exploration_utils.plot_read_counts_by_product(g, counts)"
   ]
  },
  {
   "cell_type": "code",
   "execution_count": null,
   "metadata": {
    "collapsed": false
   },
   "outputs": [],
   "source": [
    "counts_nonzero.groupby('product')['frac RNA-seq reads'].sum().sort_values(\n",
    "    ascending=False)"
   ]
  },
  {
   "cell_type": "code",
   "execution_count": null,
   "metadata": {
    "collapsed": false
   },
   "outputs": [],
   "source": [
    "num_plots = 50\n",
    "gene_names = counts_nonzero.groupby('product')['frac RNA-seq reads'].sum().sort_values(\n",
    "    ascending=False).index.tolist()[0:num_plots]\n",
    "\n",
    "fignum=1\n",
    "for g in gene_names:\n",
    "    p = exploration_utils.plot_read_fracs_by_product(g, counts, fignum=fignum)\n",
    "    fignum += 1"
   ]
  },
  {
   "cell_type": "code",
   "execution_count": null,
   "metadata": {
    "collapsed": true
   },
   "outputs": [],
   "source": []
  }
 ],
 "metadata": {
  "anaconda-cloud": {},
  "kernelspec": {
   "display_name": "Python [conda env:py3]",
   "language": "python",
   "name": "conda-env-py3-py"
  },
  "language_info": {
   "codemirror_mode": {
    "name": "ipython",
    "version": 3
   },
   "file_extension": ".py",
   "mimetype": "text/x-python",
   "name": "python",
   "nbconvert_exporter": "python",
   "pygments_lexer": "ipython3",
   "version": "3.5.2"
  }
 },
 "nbformat": 4,
 "nbformat_minor": 2
}
