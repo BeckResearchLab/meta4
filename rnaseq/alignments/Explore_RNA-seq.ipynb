{
 "cells": [
  {
   "cell_type": "code",
   "execution_count": null,
   "metadata": {
    "collapsed": false
   },
   "outputs": [],
   "source": [
    "# Import matplotlib before seaborn\n",
    "import matplotlib as mpl\n",
    "import matplotlib.pyplot as plt\n",
    "\n",
    "import itertools  # for color palette cycling\n",
    "import re\n",
    "\n",
    "import pandas as pd\n",
    "import seaborn as sns\n",
    "\n",
    "%load_ext autoreload\n",
    "%autoreload 2\n",
    "%matplotlib inline\n"
   ]
  },
  {
   "cell_type": "code",
   "execution_count": null,
   "metadata": {
    "collapsed": true
   },
   "outputs": [],
   "source": [
    "import sys\n",
    "sys.path.append('/work/general_scripts')"
   ]
  },
  {
   "cell_type": "code",
   "execution_count": null,
   "metadata": {
    "collapsed": false
   },
   "outputs": [],
   "source": [
    "mpl.use('Agg')"
   ]
  },
  {
   "cell_type": "code",
   "execution_count": null,
   "metadata": {
    "collapsed": false
   },
   "outputs": [],
   "source": [
    "%load_ext autoreload\n",
    "%autoreload 2"
   ]
  },
  {
   "cell_type": "code",
   "execution_count": null,
   "metadata": {
    "collapsed": false
   },
   "outputs": [],
   "source": [
    "import exploration_utils\n",
    "import plot_subplots # not actually used?\n",
    "import rnaseq_plot_utils"
   ]
  },
  {
   "cell_type": "code",
   "execution_count": null,
   "metadata": {
    "collapsed": false
   },
   "outputs": [],
   "source": [
    "! ls demos/"
   ]
  },
  {
   "cell_type": "code",
   "execution_count": null,
   "metadata": {
    "collapsed": true
   },
   "outputs": [],
   "source": [
    "from matplotlib import rc\n",
    "rc('text', usetex=True)\n",
    "rc('font',**{'family':'sans-serif','sans-serif':['Helvetica']})\n",
    "# http://stackoverflow.com/questions/2537868/sans-serif-math-with-latex-in-matplotlib\n",
    "mpl.rcParams['text.latex.preamble'] = [\n",
    "#       r'\\usepackage{siunitx}',   # i need upright \\micro symbols, but you need...\n",
    "#       r'\\sisetup{detect-all}',   # ...this to force siunitx to actually use your fonts\n",
    "       r'\\usepackage{helvet}',    # set the normal font here\n",
    "       r'\\usepackage{sansmath}',  # load up the sansmath so that math -> helvet\n",
    "       r'\\sansmath'               # <- tricky! -- gotta actually tell tex to use!\n",
    "]"
   ]
  },
  {
   "cell_type": "code",
   "execution_count": null,
   "metadata": {
    "collapsed": false
   },
   "outputs": [],
   "source": [
    "#! ls ./map_to_contigs_longer_than_1500bp/*.tsv\n",
    "! ls ./map_to_contigs_longer_than_1500bp/*.dat"
   ]
  },
  {
   "cell_type": "code",
   "execution_count": null,
   "metadata": {
    "collapsed": true
   },
   "outputs": [],
   "source": [
    "! mkdir -p figures"
   ]
  },
  {
   "cell_type": "code",
   "execution_count": null,
   "metadata": {
    "collapsed": false
   },
   "outputs": [],
   "source": [
    "unders = exploration_utils.load_underscore_stats()"
   ]
  },
  {
   "cell_type": "code",
   "execution_count": null,
   "metadata": {
    "collapsed": false
   },
   "outputs": [],
   "source": [
    "unders.head(2)"
   ]
  },
  {
   "cell_type": "code",
   "execution_count": null,
   "metadata": {
    "collapsed": false
   },
   "outputs": [],
   "source": [
    "# just a test of plotting ability ()\n",
    "fix, ax = plt.subplots(1, 1, figsize=(3,2))\n",
    "pd.Series([1,2, 3,4,4,4,1]).plot.hist(ax=ax)\n",
    "# Note that evrything defaults to TeX\n",
    "ax.set_xlabel('A_bC_d_E_fG')"
   ]
  },
  {
   "cell_type": "code",
   "execution_count": null,
   "metadata": {
    "collapsed": false
   },
   "outputs": [],
   "source": [
    "# just a test of plotting ability ()\n",
    "fix, ax = plt.subplots(1, 1, figsize=(3,2))\n",
    "pd.Series([1,2, 3,4,4,4,1]).plot.hist(ax=ax)\n",
    "ax.set_xlabel('$A_bC_d_E_fG$')\n",
    "ax.set_title('low' + ' $\\mathregular{O_2}$' + ' replicate {}'.format(99))"
   ]
  },
  {
   "cell_type": "code",
   "execution_count": null,
   "metadata": {
    "collapsed": false
   },
   "outputs": [],
   "source": [
    "meta_cols = ['week', 'oxygen', 'replicate']\n",
    "underscore_cols = ['frac of RNA reads: __alignment_not_unique',\n",
    "                   'frac of RNA reads: __ambiguous',\n",
    "                   'frac of RNA reads: __no_feature',\n",
    "                   'frac of RNA reads: __not_aligned',\n",
    "                   'frac of RNA reads: __too_low_aQual']\n",
    "frac_df = unders[meta_cols + underscore_cols] #.set_index(meta_cols)\n",
    "frac_df.head()"
   ]
  },
  {
   "cell_type": "code",
   "execution_count": null,
   "metadata": {
    "collapsed": false
   },
   "outputs": [],
   "source": [
    "counts_stats = exploration_utils.load_counts_w_processing()\n",
    "counts_stats.head(2)"
   ]
  },
  {
   "cell_type": "code",
   "execution_count": null,
   "metadata": {
    "collapsed": false
   },
   "outputs": [],
   "source": [
    "counts_stats.columns"
   ]
  },
  {
   "cell_type": "code",
   "execution_count": null,
   "metadata": {
    "collapsed": false
   },
   "outputs": [],
   "source": [
    "counts_stats.head(2)"
   ]
  },
  {
   "cell_type": "code",
   "execution_count": null,
   "metadata": {
    "collapsed": false
   },
   "outputs": [],
   "source": [
    "p = rnaseq_plot_utils.plot_underscore_bars(\n",
    "        input_df=counts_stats, filename=None, portrait=True)"
   ]
  },
  {
   "cell_type": "code",
   "execution_count": null,
   "metadata": {
    "collapsed": false
   },
   "outputs": [],
   "source": [
    "p.savefig('./figures/170316_fracs_mapped_unmapped_etc.pdf', bbox_inches='tight')"
   ]
  },
  {
   "cell_type": "code",
   "execution_count": null,
   "metadata": {
    "collapsed": false
   },
   "outputs": [],
   "source": [
    "for tup, df in frac_df.groupby(['oxygen', 'replicate']):\n",
    "    print(tup, df.shape)"
   ]
  },
  {
   "cell_type": "code",
   "execution_count": null,
   "metadata": {
    "collapsed": false
   },
   "outputs": [],
   "source": [
    "unders['frac of RNA reads: __not_aligned'].max()"
   ]
  },
  {
   "cell_type": "code",
   "execution_count": null,
   "metadata": {
    "collapsed": false
   },
   "outputs": [],
   "source": [
    "unders.head(2)"
   ]
  },
  {
   "cell_type": "code",
   "execution_count": null,
   "metadata": {
    "collapsed": false
   },
   "outputs": [],
   "source": [
    "def under_cleaner(somelist):\n",
    "    sl = [s.replace('__', '') for s in somelist]\n",
    "    sl = [s.replace('_', ' ') for s in sl]\n",
    "    return sl\n",
    "\n",
    "under_cleaner(unders.columns)"
   ]
  },
  {
   "cell_type": "code",
   "execution_count": null,
   "metadata": {
    "collapsed": false
   },
   "outputs": [],
   "source": [
    "unders_cleaned = unders.copy()\n",
    "unders_cleaned.columns = under_cleaner(unders.columns)\n",
    "cnames = [c for c in unders if '__' in c]\n",
    "cnames_cleaned = under_cleaner(cnames)\n",
    "for c in cnames_cleaned:\n",
    "    var = c\n",
    "    p = exploration_utils.plot_faceted(unders_cleaned, var)\n",
    "    desc = exploration_utils.filename_cleaner(var)\n",
    "    fname = './figures/170222_{}.pdf'.format(desc)\n",
    "    p.savefig(fname)\n",
    "rc('text', usetex=True)"
   ]
  },
  {
   "cell_type": "code",
   "execution_count": null,
   "metadata": {
    "collapsed": false
   },
   "outputs": [],
   "source": [
    "dict(zip(['frac of RNA reads: __alignment_not_unique', 'frac of RNA reads: __ambiguous', 'frac of RNA reads: __no_feature', 'frac of RNA reads: __not_aligned', 'frac of RNA reads: __too_low_aQual'],\n",
    "['#66c2a5', '#fc8d62', '#8da0cb', '#e78ac3', '#a6d854']))"
   ]
  },
  {
   "cell_type": "code",
   "execution_count": null,
   "metadata": {
    "collapsed": false,
    "scrolled": true
   },
   "outputs": [],
   "source": [
    "merged_df = exploration_utils.load_counts_w_processing()"
   ]
  },
  {
   "cell_type": "code",
   "execution_count": null,
   "metadata": {
    "collapsed": false
   },
   "outputs": [],
   "source": [
    "merged_df.head(3)"
   ]
  },
  {
   "cell_type": "code",
   "execution_count": null,
   "metadata": {
    "collapsed": true
   },
   "outputs": [],
   "source": [
    "merged_df_cleaned = merged_df.copy()\n",
    "merged_df_cleaned.columns = under_cleaner(merged_df_cleaned.columns)\n",
    "cnames = [c for c in merged_df if '__' in c]\n",
    "cnames_cleaned = under_cleaner(cnames)"
   ]
  },
  {
   "cell_type": "code",
   "execution_count": null,
   "metadata": {
    "collapsed": false
   },
   "outputs": [],
   "source": [
    "def plot_underscores_by_series(dataframe):\n",
    "    df_cleaned = dataframe.copy()\n",
    "    df_cleaned.columns = under_cleaner(dataframe.columns)\n",
    "    x='week'\n",
    "    \n",
    "    fig, axs = plt.subplots(2, 4, figsize=(15, 6), sharex=True, sharey=True)\n",
    "    #print(axs)\n",
    "    axd = {('low', 1):axs[0, 0],\n",
    "           ('low', 2):axs[0, 1],\n",
    "           ('low', 3):axs[0, 2],\n",
    "           ('low', 4):axs[0, 3], \n",
    "           ('high', 1):axs[1, 0],\n",
    "           ('high', 2):axs[1, 1],\n",
    "           ('high', 3):axs[1, 2],\n",
    "           ('high', 4):axs[1, 3]}\n",
    "    colors = ['#66c2a5', '#fc8d62', '#8da0cb', '#e78ac3', '#a6d854']\n",
    "    series = [c for c in dataframe if ('frac' in c) and ('__' in c)]\n",
    "    series_cleaned = under_cleaner(series)\n",
    "    colord = dict(zip(series_cleaned, colors))\n",
    "    #print('series: {}'.format(series))\n",
    "    print(df_cleaned.head(2))\n",
    "    print(df_cleaned.columns)\n",
    "    for tup, df in df_cleaned.groupby(['oxygen', 'replicate']):\n",
    "        #print(tup)\n",
    "        #print(df.head(1))\n",
    "        ax = axd[tup]\n",
    "        title = '{} O2, rep {}'.format(tup[0], tup[1])\n",
    "        ax.set_title(title)\n",
    "        df = df.copy()\n",
    "        df.sort_values('week', ascending=False, inplace=True)\n",
    "        ax.plot(df[x], df['sum(frac RNA-seq mapped to genes)'], \n",
    "                color='black', linewidth=4)\n",
    "        for s in series_cleaned:\n",
    "            color = colord[s]\n",
    "            ax.plot(df[x], df[s], color=color, label=s)\n",
    "        ax.set_xlabel(x)\n",
    "        \n",
    "            \n",
    "    axs[0, 3].legend(bbox_to_anchor=(2.5, 1.))\n",
    "    return fig\n",
    "\n",
    "p = plot_underscores_by_series(merged_df)\n",
    "p.savefig('./figures/170222_underscore_series_together.pdf', bbox_inches='tight')"
   ]
  },
  {
   "cell_type": "code",
   "execution_count": null,
   "metadata": {
    "collapsed": false
   },
   "outputs": [],
   "source": [
    "fig, ax = plt.subplots(1,1, figsize=(4,2.5))\n",
    "merged_df['check sum'].hist(bins=20, ax=ax)\n",
    "ax.set_xlabel('sum of reads in .bam file\\n(sum > 1 when reads map to multiple locations)')\n",
    "ax.set_ylabel('number of samples')\n",
    "ax.set_title('Recovery of .fastq reads in .bam,\\nas reported by Samtools')\n",
    "fig.savefig('./figures/170223_fastq_read_recovery_by_samtools.pdf')"
   ]
  },
  {
   "cell_type": "code",
   "execution_count": null,
   "metadata": {
    "collapsed": false
   },
   "outputs": [],
   "source": [
    "colnames = [c for c in merged_df.columns if not c.startswith('__')]\n",
    "colnames = [c for c in colnames if \n",
    "            ('cryptic' not in c) and ('LakWas' not in c) and ('sample' not in c)]\n",
    "merged_df[merged_df['check sum'] > 1.1][colnames]"
   ]
  },
  {
   "cell_type": "code",
   "execution_count": null,
   "metadata": {
    "collapsed": false
   },
   "outputs": [],
   "source": [
    "counts =  exploration_utils.load_counts() "
   ]
  },
  {
   "cell_type": "code",
   "execution_count": null,
   "metadata": {
    "collapsed": false
   },
   "outputs": [],
   "source": [
    "sns.choose_colorbrewer_palette(data_type='qualitative')"
   ]
  },
  {
   "cell_type": "code",
   "execution_count": null,
   "metadata": {
    "collapsed": false
   },
   "outputs": [],
   "source": [
    "exploration_utils.filename_cleaner('Particulate methane monooxygenase alpha subunit precursor')"
   ]
  },
  {
   "cell_type": "code",
   "execution_count": null,
   "metadata": {
    "collapsed": false
   },
   "outputs": [],
   "source": [
    "# just a test of plotting ability ()\n",
    "fix, ax = plt.subplots(1, 1, figsize=(3,2))\n",
    "pd.Series([1,2, 3,4,4,4,1]).plot.hist(ax=ax)\n",
    "ax.set_xlabel('\\mbox{time\\_ABC} ($O_2$)')"
   ]
  },
  {
   "cell_type": "code",
   "execution_count": null,
   "metadata": {
    "collapsed": false
   },
   "outputs": [],
   "source": [
    "# Demo of what I will run in a loop below: \n",
    "p = exploration_utils.plot_abundance_of_genes_with_same_names(\n",
    "    'Particulate methane monooxygenase alpha subunit precursor',\n",
    "    counts)\n",
    "p.savefig('./figures/170223_pmmo_copy_expression.pdf', bbox_inches='tight')"
   ]
  },
  {
   "cell_type": "code",
   "execution_count": null,
   "metadata": {
    "collapsed": false
   },
   "outputs": [],
   "source": [
    "counts.head()"
   ]
  },
  {
   "cell_type": "code",
   "execution_count": null,
   "metadata": {
    "collapsed": false
   },
   "outputs": [],
   "source": [
    "import sys\n",
    "sys.prefix"
   ]
  },
  {
   "cell_type": "code",
   "execution_count": null,
   "metadata": {
    "collapsed": false
   },
   "outputs": [],
   "source": [
    "import resource\n",
    "print('Memory usage: %s (kb)' % resource.getrusage(resource.RUSAGE_SELF).ru_maxrss)"
   ]
  },
  {
   "cell_type": "code",
   "execution_count": null,
   "metadata": {
    "collapsed": false
   },
   "outputs": [],
   "source": [
    "# Don't run the function; it takes more memory. \n",
    "# frac_sums = exploration_utils.load_frac_sums()\n",
    "frac_sums = counts.groupby('sample id')['frac RNA-seq reads'].sum()\n",
    "frac_sums = pd.merge(exploration_utils.get_sample_info(), \n",
    "                            frac_sums.to_frame().reset_index())"
   ]
  },
  {
   "cell_type": "code",
   "execution_count": null,
   "metadata": {
    "collapsed": false
   },
   "outputs": [],
   "source": [
    "frac_sums.head(2)"
   ]
  },
  {
   "cell_type": "code",
   "execution_count": null,
   "metadata": {
    "collapsed": false
   },
   "outputs": [],
   "source": [
    "fig, ax = plt.subplots(figsize=(4, 2.5))\n",
    "frac_sums['frac RNA-seq reads'].hist(bins=20, ax = ax)\n",
    "ax.set_xlabel('fraction of reads mapped to genes')\n",
    "ax.set_ylabel('frequency')\n",
    "fig.savefig('./figures/170222_sum_of_frac_reads_mapped_to_genes.pdf', \n",
    "            bbox_inches='tight')"
   ]
  },
  {
   "cell_type": "code",
   "execution_count": null,
   "metadata": {
    "collapsed": false
   },
   "outputs": [],
   "source": [
    "def plot_frac_rna_mapped_to_genes():\n",
    "    p = exploration_utils.plot_faceted(frac_sums, \n",
    "                                   'frac RNA-seq reads')\n",
    "    return p \n",
    "    \n",
    "p = plot_frac_rna_mapped_to_genes()\n",
    "p.savefig('170222_frac_RNA_reads_mapped_to_genes.pdf', \n",
    "          bbox_inches='tight')"
   ]
  },
  {
   "cell_type": "code",
   "execution_count": null,
   "metadata": {
    "collapsed": false
   },
   "outputs": [],
   "source": [
    "counts_nonzero = counts[counts['RNA reads'] > 0]\n",
    "counts_nonzero.shape"
   ]
  },
  {
   "cell_type": "code",
   "execution_count": null,
   "metadata": {
    "collapsed": false
   },
   "outputs": [],
   "source": [
    "gene_read_totals = counts_nonzero.groupby(\n",
    "    'product')['RNA reads'].sum().sort_values(ascending=False)\n",
    "gene_read_totals.head(30)"
   ]
  },
  {
   "cell_type": "code",
   "execution_count": null,
   "metadata": {
    "collapsed": false
   },
   "outputs": [],
   "source": [
    "counts.head(2)"
   ]
  },
  {
   "cell_type": "code",
   "execution_count": null,
   "metadata": {
    "collapsed": false
   },
   "outputs": [],
   "source": [
    "counts.shape"
   ]
  },
  {
   "cell_type": "code",
   "execution_count": null,
   "metadata": {
    "collapsed": false
   },
   "outputs": [],
   "source": [
    "gene_counts = counts[['locus', 'product']].drop_duplicates()\n",
    "gene_counts.shape\n",
    "gene_counts = gene_counts.groupby('product').count()\n",
    "gene_counts = gene_counts.reset_index().rename(columns={'locus':'# gene copies'})\n",
    "gene_counts.head()"
   ]
  },
  {
   "cell_type": "code",
   "execution_count": null,
   "metadata": {
    "collapsed": false
   },
   "outputs": [],
   "source": [
    "gene_counts.head()"
   ]
  },
  {
   "cell_type": "code",
   "execution_count": null,
   "metadata": {
    "collapsed": false
   },
   "outputs": [],
   "source": [
    "grt = gene_read_totals.to_frame().reset_index().rename(\n",
    "        columns={'RNA reads': 'sum(RNA reads), all samples'})\n",
    "grt.head(3)"
   ]
  },
  {
   "cell_type": "code",
   "execution_count": null,
   "metadata": {
    "collapsed": false
   },
   "outputs": [],
   "source": [
    "gene_product_summary = pd.merge(grt, gene_counts)\n",
    "print(gene_product_summary.shape)\n",
    "gene_product_summary.sort_values('sum(RNA reads), all samples', \n",
    "                      ascending=False, inplace=True)\n",
    "gene_product_summary.head(30)"
   ]
  },
  {
   "cell_type": "code",
   "execution_count": null,
   "metadata": {
    "collapsed": false
   },
   "outputs": [],
   "source": [
    "gene_product_summary.sort_values('# gene copies', ascending=False).head(30)"
   ]
  },
  {
   "cell_type": "code",
   "execution_count": null,
   "metadata": {
    "collapsed": false
   },
   "outputs": [],
   "source": [
    "#  gene_read_totals.to_csv('./map_to_contigs_longer_than_1500bp/gene_read_totals.tsv', sep='\\t')\n",
    "gene_product_summary.to_csv('./map_to_contigs_longer_than_1500bp/gene_product_summary.tsv', sep='\\t')"
   ]
  },
  {
   "cell_type": "code",
   "execution_count": null,
   "metadata": {
    "collapsed": true
   },
   "outputs": [],
   "source": [
    "gene_read_totals.to_csv('./map_to_contigs_longer_than_1500bp/gene_read_totals.tsv', sep='\\t')"
   ]
  },
  {
   "cell_type": "code",
   "execution_count": null,
   "metadata": {
    "collapsed": false
   },
   "outputs": [],
   "source": [
    "#sample_info.head()"
   ]
  },
  {
   "cell_type": "code",
   "execution_count": null,
   "metadata": {
    "collapsed": false
   },
   "outputs": [],
   "source": [
    "exploration_utils.prep_gene_cts('Particulate methane monooxygenase alpha subunit precursor', counts).head()"
   ]
  },
  {
   "cell_type": "code",
   "execution_count": null,
   "metadata": {
    "collapsed": false
   },
   "outputs": [],
   "source": [
    "! mkdir -p ./figures/gene_reads"
   ]
  },
  {
   "cell_type": "code",
   "execution_count": null,
   "metadata": {
    "collapsed": false
   },
   "outputs": [],
   "source": [
    "exploration_utils.filename_cleaner('170222_read_counts_Ammonia monooxygenase/methane monooxygenase%2C subunit C')"
   ]
  },
  {
   "cell_type": "code",
   "execution_count": null,
   "metadata": {
    "collapsed": false
   },
   "outputs": [],
   "source": [
    "! ls ./figures/gene_reads/ | head"
   ]
  },
  {
   "cell_type": "code",
   "execution_count": null,
   "metadata": {
    "collapsed": false
   },
   "outputs": [],
   "source": [
    "exploration_utils.plot_read_counts_by_product(\n",
    "    'Particulate methane monooxygenase alpha subunit precursor',\n",
    "    counts)"
   ]
  },
  {
   "cell_type": "code",
   "execution_count": null,
   "metadata": {
    "collapsed": false
   },
   "outputs": [],
   "source": [
    "exploration_utils.plot_read_fracs_by_product(\n",
    "    'Particulate methane monooxygenase alpha subunit precursor',\n",
    "    counts)"
   ]
  },
  {
   "cell_type": "code",
   "execution_count": null,
   "metadata": {
    "collapsed": false
   },
   "outputs": [],
   "source": [
    "counts_nonzero.head(2)"
   ]
  },
  {
   "cell_type": "code",
   "execution_count": null,
   "metadata": {
    "collapsed": false
   },
   "outputs": [],
   "source": [
    "num_plots = 50\n",
    "gene_names = counts_nonzero.groupby('product')['RNA reads'].sum().sort_values(\n",
    "    ascending=False).index.tolist()[0:num_plots]\n",
    "\n",
    "for g in gene_names:\n",
    "    p = exploration_utils.plot_read_counts_by_product(g, counts)"
   ]
  },
  {
   "cell_type": "code",
   "execution_count": null,
   "metadata": {
    "collapsed": false
   },
   "outputs": [],
   "source": [
    "counts_nonzero.groupby('product')['frac RNA-seq reads'].sum().sort_values(\n",
    "    ascending=False)"
   ]
  },
  {
   "cell_type": "code",
   "execution_count": null,
   "metadata": {
    "collapsed": false
   },
   "outputs": [],
   "source": [
    "num_plots = 50\n",
    "gene_names = counts_nonzero.groupby('product')['frac RNA-seq reads'].sum().sort_values(\n",
    "    ascending=False).index.tolist()[0:num_plots]\n",
    "\n",
    "fignum=1\n",
    "for g in gene_names:\n",
    "    p = exploration_utils.plot_read_fracs_by_product(g, counts, fignum=fignum)\n",
    "    if fignum > 1:  # can't do the hypothetical protein with 413685 copies. \n",
    "        # TODO: check that there aren't too many genes.  \n",
    "        exploration_utils.plot_abundance_of_genes_with_same_names(g, counts, fignum=fignum)\n",
    "    fignum += 1"
   ]
  },
  {
   "cell_type": "markdown",
   "metadata": {},
   "source": [
    "## Look for Xox"
   ]
  },
  {
   "cell_type": "code",
   "execution_count": null,
   "metadata": {
    "collapsed": true
   },
   "outputs": [],
   "source": [
    "# Xox is annotated as methanol dehydrogenase, so will have to un-tease that. "
   ]
  },
  {
   "cell_type": "code",
   "execution_count": null,
   "metadata": {
    "collapsed": false
   },
   "outputs": [],
   "source": [
    "gene_counts.head()"
   ]
  },
  {
   "cell_type": "code",
   "execution_count": null,
   "metadata": {
    "collapsed": false
   },
   "outputs": [],
   "source": [
    "gene_counts[gene_counts['product'].str.contains('Xox')]"
   ]
  },
  {
   "cell_type": "code",
   "execution_count": null,
   "metadata": {
    "collapsed": false
   },
   "outputs": [],
   "source": [
    "gene_counts[gene_counts['product'].str.contains('methanol')]"
   ]
  },
  {
   "cell_type": "markdown",
   "metadata": {},
   "source": [
    "## Plot abundance of different genes in the 8 series. "
   ]
  },
  {
   "cell_type": "code",
   "execution_count": null,
   "metadata": {
    "collapsed": false
   },
   "outputs": [],
   "source": [
    "counts.head()"
   ]
  },
  {
   "cell_type": "code",
   "execution_count": null,
   "metadata": {
    "collapsed": false
   },
   "outputs": [],
   "source": [
    "gene = 'Particulate methane monooxygenase alpha subunit precursor'\n",
    "counts[counts['product'] == gene].head()"
   ]
  },
  {
   "cell_type": "code",
   "execution_count": null,
   "metadata": {
    "collapsed": false
   },
   "outputs": [],
   "source": [
    "toy = counts[counts['product'] == gene]\n",
    "top = toy.groupby('locus')['frac RNA-seq reads'].max().sort_values(\n",
    "    ascending=False).to_frame().reset_index()\n",
    "top.head()"
   ]
  },
  {
   "cell_type": "code",
   "execution_count": null,
   "metadata": {
    "collapsed": true
   },
   "outputs": [],
   "source": [
    "from cycler import cycler"
   ]
  },
  {
   "cell_type": "code",
   "execution_count": null,
   "metadata": {
    "collapsed": true
   },
   "outputs": [],
   "source": [
    "import seaborn as sns"
   ]
  },
  {
   "cell_type": "code",
   "execution_count": null,
   "metadata": {
    "collapsed": true
   },
   "outputs": [],
   "source": []
  }
 ],
 "metadata": {
  "anaconda-cloud": {},
  "kernelspec": {
   "display_name": "Python [conda env:py3]",
   "language": "python",
   "name": "conda-env-py3-py"
  },
  "language_info": {
   "codemirror_mode": {
    "name": "ipython",
    "version": 3
   },
   "file_extension": ".py",
   "mimetype": "text/x-python",
   "name": "python",
   "nbconvert_exporter": "python",
   "pygments_lexer": "ipython3",
   "version": "3.5.2"
  }
 },
 "nbformat": 4,
 "nbformat_minor": 2
}
