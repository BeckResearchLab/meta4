{
 "cells": [
  {
   "cell_type": "code",
   "execution_count": null,
   "metadata": {
    "collapsed": false
   },
   "outputs": [],
   "source": [
    "import datetime\n",
    "\n",
    "# Import matplotlib before seaborn\n",
    "import matplotlib as mpl\n",
    "import matplotlib.pyplot as plt\n",
    "\n",
    "import itertools  # for color palette cycling\n",
    "import re\n",
    "\n",
    "import pandas as pd\n",
    "import seaborn as sns\n",
    "\n",
    "%load_ext autoreload\n",
    "%autoreload 2\n",
    "%matplotlib inline\n"
   ]
  },
  {
   "cell_type": "code",
   "execution_count": null,
   "metadata": {
    "collapsed": false
   },
   "outputs": [],
   "source": [
    "%load_ext autoreload\n",
    "%autoreload 2"
   ]
  },
  {
   "cell_type": "code",
   "execution_count": null,
   "metadata": {
    "collapsed": true
   },
   "outputs": [],
   "source": [
    "import sys\n",
    "sys.path.append('/work/general_scripts')"
   ]
  },
  {
   "cell_type": "code",
   "execution_count": null,
   "metadata": {
    "collapsed": false
   },
   "outputs": [],
   "source": [
    "mpl.use('Agg')"
   ]
  },
  {
   "cell_type": "code",
   "execution_count": null,
   "metadata": {
    "collapsed": false
   },
   "outputs": [],
   "source": [
    "%load_ext autoreload\n",
    "%autoreload 2"
   ]
  },
  {
   "cell_type": "code",
   "execution_count": null,
   "metadata": {
    "collapsed": false
   },
   "outputs": [],
   "source": [
    "from matplotlib import rc\n",
    "rc('text', usetex=True)"
   ]
  },
  {
   "cell_type": "code",
   "execution_count": null,
   "metadata": {
    "collapsed": false
   },
   "outputs": [],
   "source": [
    "import exploration_utils\n",
    "import plot_subplots # not actually used?\n",
    "import rnaseq_plot_utils"
   ]
  },
  {
   "cell_type": "code",
   "execution_count": null,
   "metadata": {
    "collapsed": false
   },
   "outputs": [],
   "source": [
    "! ls demos/"
   ]
  },
  {
   "cell_type": "code",
   "execution_count": null,
   "metadata": {
    "collapsed": true
   },
   "outputs": [],
   "source": [
    "from matplotlib import rc\n",
    "rc('text', usetex=True)  # do need this for any $$ formulas\n",
    "rc('font',**{'family':'sans-serif','sans-serif':['Helvetica']})\n",
    "# http://stackoverflow.com/questions/2537868/sans-serif-math-with-latex-in-matplotlib\n",
    "mpl.rcParams['text.latex.preamble'] = [\n",
    "#       r'\\usepackage{siunitx}',   # i need upright \\micro symbols, but you need...\n",
    "#       r'\\sisetup{detect-all}',   # ...this to force siunitx to actually use your fonts\n",
    "       r'\\usepackage{helvet}',    # set the normal font here\n",
    "       r'\\usepackage{sansmath}',  # load up the sansmath so that math -> helvet\n",
    "       r'\\sansmath'               # <- tricky! -- gotta actually tell tex to use!\n",
    "]"
   ]
  },
  {
   "cell_type": "code",
   "execution_count": null,
   "metadata": {
    "collapsed": false
   },
   "outputs": [],
   "source": [
    "#! ls ./map_to_contigs_longer_than_1500bp/*.tsv\n",
    "! ls ./map_to_contigs_longer_than_1500bp/*.dat"
   ]
  },
  {
   "cell_type": "code",
   "execution_count": null,
   "metadata": {
    "collapsed": true
   },
   "outputs": [],
   "source": [
    "! mkdir -p figures"
   ]
  },
  {
   "cell_type": "code",
   "execution_count": null,
   "metadata": {
    "collapsed": false
   },
   "outputs": [],
   "source": [
    "unders = exploration_utils.load_underscore_stats()"
   ]
  },
  {
   "cell_type": "code",
   "execution_count": null,
   "metadata": {
    "collapsed": false
   },
   "outputs": [],
   "source": [
    "unders.head(2)"
   ]
  },
  {
   "cell_type": "code",
   "execution_count": null,
   "metadata": {
    "collapsed": false
   },
   "outputs": [],
   "source": [
    "# just a test of plotting ability ()\n",
    "fix, ax = plt.subplots(1, 1, figsize=(3,2))\n",
    "pd.Series([1,2, 3,4,4,4,1]).plot.hist(ax=ax)\n",
    "# Note that evrything defaults to TeX\n",
    "ax.set_xlabel('A_bC_d_E_fG')"
   ]
  },
  {
   "cell_type": "code",
   "execution_count": null,
   "metadata": {
    "collapsed": false
   },
   "outputs": [],
   "source": [
    "# just a test of plotting ability ()\n",
    "fix, ax = plt.subplots(1, 1, figsize=(3,2))\n",
    "pd.Series([1,2, 3,4,4,4,1]).plot.hist(ax=ax)\n",
    "ax.set_xlabel(r'A_bC_d_E_fG') #'A_{bC}_{d}_{E}_{fG}')\n",
    "ax.set_title('low' + r' $\\mathregular{O_{2}}$' + ' replicate {}'.format(99))"
   ]
  },
  {
   "cell_type": "code",
   "execution_count": null,
   "metadata": {
    "collapsed": false
   },
   "outputs": [],
   "source": [
    "meta_cols = ['week', 'oxygen', 'replicate']\n",
    "underscore_cols = ['frac of RNA reads: __alignment_not_unique',\n",
    "                   'frac of RNA reads: __ambiguous',\n",
    "                   'frac of RNA reads: __no_feature',\n",
    "                   'frac of RNA reads: __not_aligned',\n",
    "                   'frac of RNA reads: __too_low_aQual']\n",
    "frac_df = unders[meta_cols + underscore_cols] #.set_index(meta_cols)\n",
    "frac_df.head()"
   ]
  },
  {
   "cell_type": "code",
   "execution_count": null,
   "metadata": {
    "collapsed": false
   },
   "outputs": [],
   "source": [
    "datetime.datetime.now()"
   ]
  },
  {
   "cell_type": "code",
   "execution_count": null,
   "metadata": {
    "collapsed": false
   },
   "outputs": [],
   "source": [
    "start = datetime.datetime.now()\n",
    "counts_stats = exploration_utils.load_counts_w_processing()\n",
    "print(datetime.datetime.now() - start)\n",
    "counts_stats.head(2)"
   ]
  },
  {
   "cell_type": "code",
   "execution_count": null,
   "metadata": {
    "collapsed": false
   },
   "outputs": [],
   "source": [
    "counts_stats.columns"
   ]
  },
  {
   "cell_type": "code",
   "execution_count": null,
   "metadata": {
    "collapsed": false
   },
   "outputs": [],
   "source": [
    "counts_stats.head(2)"
   ]
  },
  {
   "cell_type": "code",
   "execution_count": null,
   "metadata": {
    "collapsed": false
   },
   "outputs": [],
   "source": [
    "p = rnaseq_plot_utils.plot_underscore_bars(\n",
    "        input_df=counts_stats, filename=None, \n",
    "        portrait=True)\n",
    "#plt.tight_layout()"
   ]
  },
  {
   "cell_type": "code",
   "execution_count": null,
   "metadata": {
    "collapsed": false
   },
   "outputs": [],
   "source": [
    "p.savefig('./figures/170424_fracs_mapped_unmapped_etc.pdf', \n",
    "          bbox_inches='tight')"
   ]
  },
  {
   "cell_type": "code",
   "execution_count": null,
   "metadata": {
    "collapsed": true
   },
   "outputs": [],
   "source": [
    "p.savefig('./figures/170424_fracs_mapped_unmapped_etc.png', \n",
    "          bbox_inches='tight')"
   ]
  },
  {
   "cell_type": "code",
   "execution_count": null,
   "metadata": {
    "collapsed": false
   },
   "outputs": [],
   "source": [
    "for tup, df in frac_df.groupby(['oxygen', 'replicate']):\n",
    "    print(tup, df.shape)"
   ]
  },
  {
   "cell_type": "code",
   "execution_count": null,
   "metadata": {
    "collapsed": false
   },
   "outputs": [],
   "source": [
    "unders['frac of RNA reads: __not_aligned'].max()"
   ]
  },
  {
   "cell_type": "code",
   "execution_count": null,
   "metadata": {
    "collapsed": false
   },
   "outputs": [],
   "source": [
    "unders.head(2)"
   ]
  },
  {
   "cell_type": "code",
   "execution_count": null,
   "metadata": {
    "collapsed": false
   },
   "outputs": [],
   "source": [
    "def under_cleaner(somelist):\n",
    "    sl = [s.replace('__', '') for s in somelist]\n",
    "    sl = [s.replace('_', ' ') for s in sl]\n",
    "    return sl\n",
    "\n",
    "under_cleaner(unders.columns)"
   ]
  },
  {
   "cell_type": "code",
   "execution_count": null,
   "metadata": {
    "collapsed": false
   },
   "outputs": [],
   "source": [
    "unders_cleaned = unders.copy()\n",
    "unders_cleaned.columns = under_cleaner(unders.columns)\n",
    "cnames = [c for c in unders if '__' in c]\n",
    "cnames_cleaned = under_cleaner(cnames)\n",
    "for c in cnames_cleaned:\n",
    "    var = c\n",
    "    p = exploration_utils.plot_faceted(unders_cleaned, var)\n",
    "    desc = exploration_utils.filename_cleaner(var)\n",
    "    fname = './figures/170222_{}.pdf'.format(desc)\n",
    "    p.savefig(fname)\n",
    "rc('text', usetex=True)"
   ]
  },
  {
   "cell_type": "code",
   "execution_count": null,
   "metadata": {
    "collapsed": false
   },
   "outputs": [],
   "source": [
    "print(unders.memory_usage().sum())\n",
    "\n",
    "# DELETE unders\n",
    "del unders"
   ]
  },
  {
   "cell_type": "code",
   "execution_count": null,
   "metadata": {
    "collapsed": false
   },
   "outputs": [],
   "source": [
    "dict(zip(['frac of RNA reads: __alignment_not_unique', 'frac of RNA reads: __ambiguous', 'frac of RNA reads: __no_feature', 'frac of RNA reads: __not_aligned', 'frac of RNA reads: __too_low_aQual'],\n",
    "['#66c2a5', '#fc8d62', '#8da0cb', '#e78ac3', '#a6d854']))"
   ]
  },
  {
   "cell_type": "code",
   "execution_count": null,
   "metadata": {
    "collapsed": false,
    "scrolled": true
   },
   "outputs": [],
   "source": [
    "merged_df = exploration_utils.load_counts_w_processing()"
   ]
  },
  {
   "cell_type": "code",
   "execution_count": null,
   "metadata": {
    "collapsed": false
   },
   "outputs": [],
   "source": [
    "merged_df.head(3)"
   ]
  },
  {
   "cell_type": "code",
   "execution_count": null,
   "metadata": {
    "collapsed": true
   },
   "outputs": [],
   "source": [
    "merged_df_cleaned = merged_df.copy()\n",
    "merged_df_cleaned.columns = under_cleaner(merged_df_cleaned.columns)\n",
    "cnames = [c for c in merged_df if '__' in c]\n",
    "cnames_cleaned = under_cleaner(cnames)"
   ]
  },
  {
   "cell_type": "code",
   "execution_count": null,
   "metadata": {
    "collapsed": false
   },
   "outputs": [],
   "source": [
    "def plot_underscores_by_series(dataframe):\n",
    "    df_cleaned = dataframe.copy()\n",
    "    df_cleaned.columns = under_cleaner(dataframe.columns)\n",
    "    x='week'\n",
    "    \n",
    "    fig, axs = plt.subplots(2, 4, figsize=(15, 6), sharex=True, sharey=True)\n",
    "    #print(axs)\n",
    "    axd = {('low', 1):axs[0, 0],\n",
    "           ('low', 2):axs[0, 1],\n",
    "           ('low', 3):axs[0, 2],\n",
    "           ('low', 4):axs[0, 3], \n",
    "           ('high', 1):axs[1, 0],\n",
    "           ('high', 2):axs[1, 1],\n",
    "           ('high', 3):axs[1, 2],\n",
    "           ('high', 4):axs[1, 3]}\n",
    "    colors = ['#66c2a5', '#fc8d62', '#8da0cb', '#e78ac3', '#a6d854']\n",
    "    series = [c for c in dataframe if ('frac' in c) and ('__' in c)]\n",
    "    series_cleaned = under_cleaner(series)\n",
    "    colord = dict(zip(series_cleaned, colors))\n",
    "    #print('series: {}'.format(series))\n",
    "    #print(df_cleaned.head(2))\n",
    "    #print(df_cleaned.columns)\n",
    "    for tup, df in df_cleaned.groupby(['oxygen', 'replicate']):\n",
    "        #print(tup)\n",
    "        #print(df.head(1))\n",
    "        ax = axd[tup]\n",
    "        title = '{} O2, rep {}'.format(tup[0], tup[1])\n",
    "        ax.set_title(title)\n",
    "        df = df.copy()\n",
    "        df.sort_values('week', ascending=False, inplace=True)\n",
    "        ax.plot(df[x], df['sum(frac RNA-seq mapped to genes)'], \n",
    "                color='black', linewidth=4)\n",
    "        for s in series_cleaned:\n",
    "            color = colord[s]\n",
    "            ax.plot(df[x], df[s], color=color, label=s)\n",
    "        ax.set_xlabel(x)\n",
    "        \n",
    "            \n",
    "    axs[0, 3].legend(bbox_to_anchor=(2.5, 1.))\n",
    "    return fig\n",
    "\n",
    "p = plot_underscores_by_series(merged_df)\n",
    "p.savefig('./figures/170222_underscore_series_together.pdf', bbox_inches='tight')"
   ]
  },
  {
   "cell_type": "code",
   "execution_count": null,
   "metadata": {
    "collapsed": false
   },
   "outputs": [],
   "source": [
    "fig, ax = plt.subplots(1,1, figsize=(4,2.5))\n",
    "merged_df['check sum'].hist(bins=20, ax=ax)\n",
    "ax.set_xlabel('sum of reads in .bam file\\n(sum $>$ 1 when reads map to multiple locations)')\n",
    "ax.set_ylabel('number of samples')\n",
    "ax.set_title('Recovery of .fastq reads in .bam,\\nas reported by Samtools')\n",
    "fig.savefig('./figures/170223_fastq_read_recovery_by_samtools.pdf')"
   ]
  },
  {
   "cell_type": "code",
   "execution_count": null,
   "metadata": {
    "collapsed": false
   },
   "outputs": [],
   "source": [
    "colnames = [c for c in merged_df.columns if not c.startswith('__')]\n",
    "colnames = [c for c in colnames if \n",
    "            ('cryptic' not in c) and ('LakWas' not in c) and ('sample' not in c)]\n",
    "merged_df[merged_df['check sum'] > 1.1][colnames]"
   ]
  },
  {
   "cell_type": "code",
   "execution_count": null,
   "metadata": {
    "collapsed": false,
    "scrolled": true
   },
   "outputs": [],
   "source": [
    "counts =  exploration_utils.load_counts() "
   ]
  },
  {
   "cell_type": "code",
   "execution_count": null,
   "metadata": {
    "collapsed": true
   },
   "outputs": [],
   "source": [
    "# Release some memory before plotting. \n",
    "colnames_to_drop = ['LakWas type name', 'sample number',\n",
    "                    'cryptic metagenome name', 'cryptic metatranscriptome name',\n",
    "                    'fastq'\n",
    "                   ]\n",
    "for c in colnames_to_drop:\n",
    "    try:\n",
    "        del counts[c]\n",
    "    except:\n",
    "        print(\"deleting {} didn't work\")"
   ]
  },
  {
   "cell_type": "code",
   "execution_count": null,
   "metadata": {
    "collapsed": false
   },
   "outputs": [],
   "source": [
    "counts.head(3)"
   ]
  },
  {
   "cell_type": "code",
   "execution_count": null,
   "metadata": {
    "collapsed": false
   },
   "outputs": [],
   "source": [
    "sns.choose_colorbrewer_palette(data_type='qualitative')"
   ]
  },
  {
   "cell_type": "code",
   "execution_count": null,
   "metadata": {
    "collapsed": false
   },
   "outputs": [],
   "source": [
    "exploration_utils.filename_cleaner('Particulate methane monooxygenase alpha subunit precursor')"
   ]
  },
  {
   "cell_type": "code",
   "execution_count": null,
   "metadata": {
    "collapsed": false
   },
   "outputs": [],
   "source": [
    "# just a test of plotting ability ()\n",
    "fix, ax = plt.subplots(1, 1, figsize=(3,2))\n",
    "pd.Series([1,2, 3,4,4,4,1]).plot.hist(ax=ax)\n",
    "ax.set_xlabel('\\mbox{time\\_ABC} ($O_2$)')"
   ]
  },
  {
   "cell_type": "code",
   "execution_count": null,
   "metadata": {
    "collapsed": false
   },
   "outputs": [],
   "source": [
    "# Demo of what I will run in a loop below: \n",
    "p = exploration_utils.plot_abundance_of_genes_with_same_names(\n",
    "    'Particulate methane monooxygenase alpha subunit precursor',\n",
    "    counts, portrait=True)\n",
    "p.savefig('./figures/170223_pmmo_copy_expression.pdf', \n",
    "          bbox_inches='tight')"
   ]
  },
  {
   "cell_type": "code",
   "execution_count": null,
   "metadata": {
    "collapsed": false
   },
   "outputs": [],
   "source": [
    "counts.head()"
   ]
  },
  {
   "cell_type": "code",
   "execution_count": null,
   "metadata": {
    "collapsed": false
   },
   "outputs": [],
   "source": [
    "import sys\n",
    "sys.prefix"
   ]
  },
  {
   "cell_type": "code",
   "execution_count": null,
   "metadata": {
    "collapsed": false
   },
   "outputs": [],
   "source": [
    "import resource\n",
    "print('Memory usage: %s (kb)' % resource.getrusage(resource.RUSAGE_SELF).ru_maxrss)"
   ]
  },
  {
   "cell_type": "code",
   "execution_count": null,
   "metadata": {
    "collapsed": false
   },
   "outputs": [],
   "source": [
    "# Don't run the function; it takes more memory. \n",
    "# frac_sums = exploration_utils.load_frac_sums()\n",
    "frac_sums = counts.groupby('sample id')['frac RNA-seq reads'].sum()\n",
    "frac_sums = pd.merge(exploration_utils.get_sample_info(), \n",
    "                            frac_sums.to_frame().reset_index())"
   ]
  },
  {
   "cell_type": "code",
   "execution_count": null,
   "metadata": {
    "collapsed": false
   },
   "outputs": [],
   "source": [
    "frac_sums.head(2)"
   ]
  },
  {
   "cell_type": "code",
   "execution_count": null,
   "metadata": {
    "collapsed": false
   },
   "outputs": [],
   "source": [
    "fig, ax = plt.subplots(figsize=(4, 2.5))\n",
    "frac_sums['frac RNA-seq reads'].hist(bins=20, ax = ax)\n",
    "ax.set_xlabel('fraction of reads mapped to genes')\n",
    "ax.set_ylabel('frequency')\n",
    "fig.savefig('./figures/170222_sum_of_frac_reads_mapped_to_genes.pdf', \n",
    "            bbox_inches='tight')"
   ]
  },
  {
   "cell_type": "code",
   "execution_count": null,
   "metadata": {
    "collapsed": false
   },
   "outputs": [],
   "source": [
    "def plot_frac_rna_mapped_to_genes():\n",
    "    p = exploration_utils.plot_faceted(frac_sums, \n",
    "                                   'frac RNA-seq reads')\n",
    "    return p \n",
    "    \n",
    "p = plot_frac_rna_mapped_to_genes()\n",
    "p.savefig('170222_frac_RNA_reads_mapped_to_genes.pdf', \n",
    "          bbox_inches='tight')"
   ]
  },
  {
   "cell_type": "code",
   "execution_count": null,
   "metadata": {
    "collapsed": false
   },
   "outputs": [],
   "source": [
    "counts_nonzero = counts[counts['RNA reads'] > 0]\n",
    "counts_nonzero.shape"
   ]
  },
  {
   "cell_type": "code",
   "execution_count": null,
   "metadata": {
    "collapsed": false
   },
   "outputs": [],
   "source": [
    "gene_read_totals = counts_nonzero.groupby(\n",
    "    'product')['RNA reads'].sum().sort_values(ascending=False)\n",
    "gene_read_totals.head(30)"
   ]
  },
  {
   "cell_type": "code",
   "execution_count": null,
   "metadata": {
    "collapsed": false
   },
   "outputs": [],
   "source": [
    "counts.head(2)"
   ]
  },
  {
   "cell_type": "code",
   "execution_count": null,
   "metadata": {
    "collapsed": false
   },
   "outputs": [],
   "source": [
    "counts.shape"
   ]
  },
  {
   "cell_type": "code",
   "execution_count": null,
   "metadata": {
    "collapsed": false
   },
   "outputs": [],
   "source": [
    "gene_counts = counts[['locus', 'product']].drop_duplicates()\n",
    "gene_counts.shape\n",
    "gene_counts = gene_counts.groupby('product').count()\n",
    "gene_counts = gene_counts.reset_index().rename(columns={'locus':'# gene copies'})\n",
    "gene_counts.head()"
   ]
  },
  {
   "cell_type": "code",
   "execution_count": null,
   "metadata": {
    "collapsed": false
   },
   "outputs": [],
   "source": [
    "gene_counts.head()"
   ]
  },
  {
   "cell_type": "code",
   "execution_count": null,
   "metadata": {
    "collapsed": false
   },
   "outputs": [],
   "source": [
    "grt = gene_read_totals.to_frame().reset_index().rename(\n",
    "        columns={'RNA reads': 'sum(RNA reads), all samples'})\n",
    "grt.head(3)"
   ]
  },
  {
   "cell_type": "code",
   "execution_count": null,
   "metadata": {
    "collapsed": false
   },
   "outputs": [],
   "source": [
    "gene_product_summary = pd.merge(grt, gene_counts)\n",
    "print(gene_product_summary.shape)\n",
    "gene_product_summary.sort_values('sum(RNA reads), all samples', \n",
    "                      ascending=False, inplace=True)\n",
    "gene_product_summary.head(30)"
   ]
  },
  {
   "cell_type": "code",
   "execution_count": null,
   "metadata": {
    "collapsed": false
   },
   "outputs": [],
   "source": [
    "gene_product_summary.sort_values('# gene copies', \n",
    "                                 ascending=False).head(10)"
   ]
  },
  {
   "cell_type": "code",
   "execution_count": null,
   "metadata": {
    "collapsed": false
   },
   "outputs": [],
   "source": [
    "print(\"{:,d}\".format(12345678))"
   ]
  },
  {
   "cell_type": "code",
   "execution_count": null,
   "metadata": {
    "collapsed": false
   },
   "outputs": [],
   "source": [
    "gene_product_summary.head(30)"
   ]
  },
  {
   "cell_type": "code",
   "execution_count": null,
   "metadata": {
    "collapsed": true
   },
   "outputs": [],
   "source": [
    "def commas(d):\n",
    "    return \"{:,d}\".format(d)\n",
    "\n",
    "def no_format(d):\n",
    "    return d"
   ]
  },
  {
   "cell_type": "code",
   "execution_count": null,
   "metadata": {
    "collapsed": true
   },
   "outputs": [],
   "source": [
    "pd.set_option('max_colwidth', 999)"
   ]
  },
  {
   "cell_type": "code",
   "execution_count": null,
   "metadata": {
    "collapsed": true
   },
   "outputs": [],
   "source": [
    "import textwrap"
   ]
  },
  {
   "cell_type": "code",
   "execution_count": null,
   "metadata": {
    "collapsed": false
   },
   "outputs": [],
   "source": [
    "tex_filepath = \"./map_to_contigs_longer_than_1500bp/top_genes.tex\"\n",
    "with open(tex_filepath, \"w\") as f:\n",
    "    f.write(gene_product_summary.head(300).to_latex(\n",
    "        index=False, longtable=True, \n",
    "        formatters=[no_format, commas, commas]))"
   ]
  },
  {
   "cell_type": "raw",
   "metadata": {},
   "source": [
    "! head -n 20 ./map_to_contigs_longer_than_1500bp/top_genes.tex"
   ]
  },
  {
   "cell_type": "code",
   "execution_count": null,
   "metadata": {
    "collapsed": false
   },
   "outputs": [],
   "source": [
    "#  gene_read_totals.to_csv('./map_to_contigs_longer_than_1500bp/gene_read_totals.tsv', sep='\\t')\n",
    "gene_product_summary.to_csv('./map_to_contigs_longer_than_1500bp/gene_product_summary.tsv', sep='\\t')"
   ]
  },
  {
   "cell_type": "code",
   "execution_count": null,
   "metadata": {
    "collapsed": true
   },
   "outputs": [],
   "source": [
    "gene_read_totals.to_csv('./map_to_contigs_longer_than_1500bp/gene_read_totals.tsv', sep='\\t')"
   ]
  },
  {
   "cell_type": "code",
   "execution_count": null,
   "metadata": {
    "collapsed": false
   },
   "outputs": [],
   "source": [
    "! realpath ./map_to_contigs_longer_than_1500bp"
   ]
  },
  {
   "cell_type": "code",
   "execution_count": null,
   "metadata": {
    "collapsed": false
   },
   "outputs": [],
   "source": [
    "#sample_info.head()"
   ]
  },
  {
   "cell_type": "code",
   "execution_count": null,
   "metadata": {
    "collapsed": false
   },
   "outputs": [],
   "source": [
    "exploration_utils.prep_gene_cts('Particulate methane monooxygenase alpha subunit precursor', counts).head()"
   ]
  },
  {
   "cell_type": "code",
   "execution_count": null,
   "metadata": {
    "collapsed": false
   },
   "outputs": [],
   "source": [
    "def dict_of_sample_names():\n",
    "    \"\"\"\n",
    "    Dict that converts from 8888.8.111111.GGAAGG type numbers to\n",
    "    high_O2_replicate_3_week_2 type strings for PhD thesis.\n",
    "    \"\"\"\n",
    "    si = si = pd.read_csv('/work/m4b_binning/assembly/data/sample_info/sample_info_w_cryptic.tsv', \n",
    "                          sep='\\t')\n",
    "    si['name'] = si['oxygen'] + '_O2_rep_' + si['replicate'].astype(str) + \"_week_\" + si['week'].astype(str)\n",
    "    #return si['cryptic metatranscriptome name'].tolist()\n",
    "    return dict(zip(si['cryptic metatranscriptome name'].tolist(), \n",
    "               si['name'].tolist()))\n",
    "\n",
    "dict_of_sample_names()"
   ]
  },
  {
   "cell_type": "code",
   "execution_count": null,
   "metadata": {
    "collapsed": false
   },
   "outputs": [],
   "source": [
    "! mkdir -p ./figures/gene_reads"
   ]
  },
  {
   "cell_type": "code",
   "execution_count": null,
   "metadata": {
    "collapsed": false
   },
   "outputs": [],
   "source": [
    "exploration_utils.filename_cleaner('170222_read_counts_Ammonia monooxygenase/methane monooxygenase%2C subunit C')"
   ]
  },
  {
   "cell_type": "code",
   "execution_count": null,
   "metadata": {
    "collapsed": false
   },
   "outputs": [],
   "source": [
    "! ls ./figures/gene_reads/ | head"
   ]
  },
  {
   "cell_type": "code",
   "execution_count": null,
   "metadata": {
    "collapsed": false
   },
   "outputs": [],
   "source": [
    "exploration_utils.plot_read_counts_by_product(\n",
    "    'Particulate methane monooxygenase alpha subunit precursor',\n",
    "    counts)"
   ]
  },
  {
   "cell_type": "code",
   "execution_count": null,
   "metadata": {
    "collapsed": false
   },
   "outputs": [],
   "source": [
    "exploration_utils.plot_read_fracs_by_product(\n",
    "    'Particulate methane monooxygenase alpha subunit precursor',\n",
    "    counts)"
   ]
  },
  {
   "cell_type": "code",
   "execution_count": null,
   "metadata": {
    "collapsed": false
   },
   "outputs": [],
   "source": [
    "counts_nonzero.head(2)"
   ]
  },
  {
   "cell_type": "code",
   "execution_count": null,
   "metadata": {
    "collapsed": false
   },
   "outputs": [],
   "source": [
    "counts.shape"
   ]
  },
  {
   "cell_type": "code",
   "execution_count": null,
   "metadata": {
    "collapsed": false
   },
   "outputs": [],
   "source": [
    "print(counts.columns)\n",
    "counts.head(2)"
   ]
  },
  {
   "cell_type": "code",
   "execution_count": null,
   "metadata": {
    "collapsed": false
   },
   "outputs": [],
   "source": [
    "list(range(0, 20))"
   ]
  },
  {
   "cell_type": "code",
   "execution_count": null,
   "metadata": {
    "collapsed": true
   },
   "outputs": [],
   "source": [
    "from multiprocessing import Pool\n",
    "from functools import partial\n",
    "from itertools import repeat"
   ]
  },
  {
   "cell_type": "code",
   "execution_count": null,
   "metadata": {
    "collapsed": false
   },
   "outputs": [],
   "source": [
    "args = list(zip(repeat('yello'), range(0, 20)))\n",
    "print(args)"
   ]
  },
  {
   "cell_type": "code",
   "execution_count": null,
   "metadata": {
    "collapsed": false
   },
   "outputs": [],
   "source": [
    "def print_base_s(base, s):\n",
    "    print(base + s)\n",
    "\n",
    "pool = Pool(processes=10)\n",
    "args = zip('')\n",
    "plot_fun = partial(print_base_s, base='hello ')\n",
    "pool.starmap(plot_fun, args)\n"
   ]
  },
  {
   "cell_type": "code",
   "execution_count": null,
   "metadata": {
    "collapsed": false
   },
   "outputs": [],
   "source": [
    "num_plots = 5 #15 #50\n",
    "gene_names = counts_nonzero.groupby('product')['RNA reads'].sum().sort_values(\n",
    "    ascending=False).index.tolist()[0:num_plots]\n",
    "pool = Pool(processes=3)\n",
    "\n",
    "# DIDN'T WORK\n",
    "#plot_fun = partial(\n",
    "#    exploration_utils.plot_read_counts_by_product, \n",
    "#    sample_info=counts)\n",
    "#pool.starmap(exploration_utils.plot_read_counts_by_product, \n",
    "#             list(zip(gene_names, repeat(counts))))\n",
    "\n",
    "def plot_fun(gene_name):\n",
    "    return exploration_utils.plot_read_counts_by_product(gene_name, counts)\n",
    "\n",
    "pool.map(plot_fun, gene_names)  # doesn't print plots to notebook  :( \n",
    "\n",
    "pool.close()\n",
    "\n",
    "#for g in gene_names:\n",
    "#    p = exploration_utils.plot_read_counts_by_product(g, counts)"
   ]
  },
  {
   "cell_type": "code",
   "execution_count": null,
   "metadata": {
    "collapsed": false
   },
   "outputs": [],
   "source": [
    "counts_nonzero.groupby('product')['frac RNA-seq reads'].sum().sort_values(\n",
    "    ascending=False).head(5)"
   ]
  },
  {
   "cell_type": "code",
   "execution_count": null,
   "metadata": {
    "collapsed": false
   },
   "outputs": [],
   "source": [
    "! pwd"
   ]
  },
  {
   "cell_type": "code",
   "execution_count": null,
   "metadata": {
    "collapsed": false
   },
   "outputs": [],
   "source": [
    "def plot_fun_colors(gene_name, colors):\n",
    "    exploration_utils.plot_abundance_of_genes_with_same_names(\n",
    "        gene_name=gene_name, dataframe=counts, portrait=True,\n",
    "        top_colors=colors)\n",
    "    exploration_utils.plot_abundance_of_genes_with_same_names(\n",
    "        gene_name=gene_name, dataframe=counts, portrait=False,\n",
    "        top_colors=colors)\n",
    "    \n",
    "colors = [\n",
    "    '#ff8101', # orange\n",
    "    '#e41a1c', # red\n",
    "    '#a8572c', # brown\n",
    "    '#4eae4b', # green\n",
    "    '#994fa1', # purple\n",
    "    '#377eb8', # blue\n",
    "    #'#fdfc33', # hard-to-see yellow\n",
    "    '#d1d027', # dark yellow\n",
    "    '#f482be',  # pink\n",
    "    ]\n",
    "    \n",
    "plot_fun_colors('Particulate methane monooxygenase alpha subunit precursor',\n",
    "        colors=colors)"
   ]
  },
  {
   "cell_type": "code",
   "execution_count": null,
   "metadata": {
    "collapsed": false
   },
   "outputs": [],
   "source": [
    "num_plots = 15 #50\n",
    "gene_names = counts_nonzero.groupby('product')['frac RNA-seq reads'].sum().sort_values(\n",
    "    ascending=False).index.tolist()[0:num_plots]\n",
    "print(gene_names)"
   ]
  },
  {
   "cell_type": "code",
   "execution_count": null,
   "metadata": {
    "collapsed": false
   },
   "outputs": [],
   "source": [
    "gene_names.remove('hypothetical protein') # too many copies\n",
    "print(gene_names)"
   ]
  },
  {
   "cell_type": "code",
   "execution_count": null,
   "metadata": {
    "collapsed": false
   },
   "outputs": [],
   "source": [
    "gene_names.index('Ammonia monooxygenase/methane monooxygenase%2C subunit C')"
   ]
  },
  {
   "cell_type": "code",
   "execution_count": null,
   "metadata": {
    "collapsed": false
   },
   "outputs": [],
   "source": [
    "print(len(gene_names))"
   ]
  },
  {
   "cell_type": "code",
   "execution_count": null,
   "metadata": {
    "collapsed": false
   },
   "outputs": [],
   "source": [
    "counts.head(2)"
   ]
  },
  {
   "cell_type": "code",
   "execution_count": null,
   "metadata": {
    "collapsed": false
   },
   "outputs": [],
   "source": [
    "pool = Pool(processes=4)\n",
    "\n",
    "def plot_fun(gene_name):\n",
    "    fignum = gene_names.index(gene_name) + 1\n",
    "    return exploration_utils.plot_abundance_of_genes_with_same_names(\n",
    "        gene_name, counts, fignum)\n",
    "\n",
    "pool.map(plot_fun, gene_names)  # doesn't print plots to notebook  :( \n",
    "\n",
    "pool.close()\n",
    "\n",
    "#for g in gene_names:\n",
    "#    p = exploration_utils.plot_read_fracs_by_product(g, counts, fignum=fignum)\n",
    "#    if fignum > 1:  # can't do the hypothetical protein with 413685 copies. \n",
    "#        # TODO: check that there aren't too many genes.  \n",
    "#        exploration_utils.plot_abundance_of_genes_with_same_names(g, counts, fignum=fignum)\n",
    "#    fignum += 1"
   ]
  },
  {
   "cell_type": "code",
   "execution_count": null,
   "metadata": {
    "collapsed": false
   },
   "outputs": [],
   "source": [
    "# pick out some more by hand.\n",
    "gene_names = [\n",
    "    'Capsid protein (F protein)', \n",
    "    'Microvirus H protein (pilot protein)',\n",
    "    'Bacteriophage replication gene A protein (GPA)',\n",
    "    'S-layer protein',\n",
    "    'Bacteriophage replication gene A protein (GPA)', # Remove (included above.)\n",
    "    'Phage Tail Collar Domain protein', # REMOVE\n",
    "    ]\n",
    "\n",
    "pool = Pool(processes=4)\n",
    "\n",
    "def plot_fun(gene_name):\n",
    "    exploration_utils.plot_abundance_of_genes_with_same_names(\n",
    "        gene_name=gene_name, dataframe=counts, portrait=True)\n",
    "    exploration_utils.plot_abundance_of_genes_with_same_names(\n",
    "        gene_name=gene_name, dataframe=counts, portrait=False)\n",
    "\n",
    "pool.map(plot_fun, gene_names)  # doesn't print plots to notebook  :( \n",
    "\n",
    "pool.close()\n",
    "\n",
    "#for g in gene_names:\n",
    "#    p = exploration_utils.plot_abundance_of_genes_with_same_names(\n",
    "#        g, counts, portrait=True)\n",
    "#    p = exploration_utils.plot_abundance_of_genes_with_same_names(\n",
    "#        g, counts, portrait=False)"
   ]
  },
  {
   "cell_type": "code",
   "execution_count": null,
   "metadata": {
    "collapsed": false
   },
   "outputs": [],
   "source": [
    "sns.color_palette(\"Set1\", 8).as_hex()"
   ]
  },
  {
   "cell_type": "code",
   "execution_count": null,
   "metadata": {
    "collapsed": false
   },
   "outputs": [],
   "source": [
    "# pick out some more by hand.\n",
    "\n",
    "pool = Pool(processes=4)\n",
    "gene_names = [ \n",
    "    #'Particulate methane monooxygenase alpha subunit precursor',\n",
    "    'Ammonia monooxygenase/methane monooxygenase%2C subunit C', \n",
    "    'Particulate methane monooxygenase beta subunit',\n",
    "    'Methanol dehydrogenase [cytochrome c] subunit 2 precursor',\n",
    "    'Methanol dehydrogenase [cytochrome c] subunit 1 precursor',\n",
    "    'Methane monooxygenase component C']\n",
    "pool.map(plot_fun, gene_names)  # doesn't print plots to notebook  :( \n",
    "\n",
    "pool.close()\n",
    "\n",
    "\n",
    "\n",
    "#for g in gene_names:\n",
    "#    p = exploration_utils.plot_abundance_of_genes_with_same_names(\n",
    "#        g, counts, portrait=True)\n",
    "#    p = exploration_utils.plot_abundance_of_genes_with_same_names(\n",
    "#        g, counts, portrait=False)"
   ]
  },
  {
   "cell_type": "code",
   "execution_count": null,
   "metadata": {
    "collapsed": false
   },
   "outputs": [],
   "source": [
    "pool = Pool(processes=4)\n",
    "gene_names = [\n",
    "    'Methanol dehydrogenase [cytochrome c] subunit 1',\n",
    "    '3-hexulose-6-phosphate synthase',\n",
    "    'Transketolase 1',\n",
    "    'Formaldehyde-activating enzyme',\n",
    "    '3-hexulose-6-phosphate isomerase',\n",
    "    \n",
    "    # other interesting looking stuff\n",
    "    'Outer membrane porin F precursor',\n",
    "    'Bacterial extracellular solute-binding pro- teins%2C family 3',\n",
    "    'Phenolphthiocerol synthesis polyketide syn- thase type I Pks15/1',   \n",
    "    ]\n",
    "\n",
    "pool.map(plot_fun, gene_names)  # doesn't print plots to notebook  :( \n",
    "\n",
    "pool.close()"
   ]
  },
  {
   "cell_type": "markdown",
   "metadata": {},
   "source": [
    "## Look for Xox"
   ]
  },
  {
   "cell_type": "code",
   "execution_count": null,
   "metadata": {
    "collapsed": true
   },
   "outputs": [],
   "source": [
    "# Xox is annotated as methanol dehydrogenase, so will have to un-tease that. "
   ]
  },
  {
   "cell_type": "code",
   "execution_count": null,
   "metadata": {
    "collapsed": false
   },
   "outputs": [],
   "source": [
    "gene_counts.head()"
   ]
  },
  {
   "cell_type": "code",
   "execution_count": null,
   "metadata": {
    "collapsed": false
   },
   "outputs": [],
   "source": [
    "gene_counts[gene_counts['product'].str.contains('Xox')]"
   ]
  },
  {
   "cell_type": "code",
   "execution_count": null,
   "metadata": {
    "collapsed": false
   },
   "outputs": [],
   "source": [
    "gene_counts[gene_counts['product'].str.contains('methanol')]"
   ]
  }
 ],
 "metadata": {
  "anaconda-cloud": {},
  "kernelspec": {
   "display_name": "Python [conda env:py3]",
   "language": "python",
   "name": "conda-env-py3-py"
  },
  "language_info": {
   "codemirror_mode": {
    "name": "ipython",
    "version": 3
   },
   "file_extension": ".py",
   "mimetype": "text/x-python",
   "name": "python",
   "nbconvert_exporter": "python",
   "pygments_lexer": "ipython3",
   "version": "3.5.2"
  }
 },
 "nbformat": 4,
 "nbformat_minor": 2
}
