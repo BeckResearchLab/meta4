{
 "cells": [
  {
   "cell_type": "code",
   "execution_count": null,
   "metadata": {
    "collapsed": true
   },
   "outputs": [],
   "source": [
    "# Import matplotlib before seaborn\n",
    "import matplotlib as mpl\n",
    "import matplotlib.pyplot as plt\n",
    "\n",
    "import itertools  # for color palette cycling\n",
    "import re\n",
    "\n",
    "import pandas as pd\n",
    "import seaborn as sns\n",
    "\n",
    "%load_ext autoreload\n",
    "%autoreload 2\n",
    "%matplotlib inline\n"
   ]
  },
  {
   "cell_type": "code",
   "execution_count": null,
   "metadata": {
    "collapsed": false
   },
   "outputs": [],
   "source": [
    "tsvFile = '/work/rnaseq/alignments/map_to_contigs_longer_than_1500bp/map_to_contigs_longer_than_1500bp.tsv'"
   ]
  },
  {
   "cell_type": "code",
   "execution_count": null,
   "metadata": {
    "collapsed": true
   },
   "outputs": [],
   "source": [
    "tsv = pd.read_csv(tsvFile, sep='\\t', index_col=0)"
   ]
  },
  {
   "cell_type": "code",
   "execution_count": null,
   "metadata": {
    "collapsed": false
   },
   "outputs": [],
   "source": [
    "tsv.shape"
   ]
  },
  {
   "cell_type": "code",
   "execution_count": null,
   "metadata": {
    "collapsed": false
   },
   "outputs": [],
   "source": [
    "tsv.columns"
   ]
  },
  {
   "cell_type": "code",
   "execution_count": null,
   "metadata": {
    "collapsed": false
   },
   "outputs": [],
   "source": [
    "tsv.head()"
   ]
  },
  {
   "cell_type": "code",
   "execution_count": null,
   "metadata": {
    "collapsed": false
   },
   "outputs": [],
   "source": [
    "sums = tsv.sum(axis=0)\n",
    "sums.head()"
   ]
  },
  {
   "cell_type": "markdown",
   "metadata": {},
   "source": [
    "Don't divide by sum, because I should really be dividing by the fastq total, and I'm a little too lazy at the moment.  \n",
    "\n",
    "** TODO: consider this if we end up thinning **"
   ]
  },
  {
   "cell_type": "code",
   "execution_count": null,
   "metadata": {
    "collapsed": false
   },
   "outputs": [],
   "source": [
    "sums = tsv.sum(axis=1)\n"
   ]
  },
  {
   "cell_type": "code",
   "execution_count": null,
   "metadata": {
    "collapsed": false
   },
   "outputs": [],
   "source": [
    "sums.head(2)"
   ]
  },
  {
   "cell_type": "code",
   "execution_count": null,
   "metadata": {
    "collapsed": false
   },
   "outputs": [],
   "source": [
    "sums[sums > 0].head()"
   ]
  },
  {
   "cell_type": "code",
   "execution_count": null,
   "metadata": {
    "collapsed": true
   },
   "outputs": [],
   "source": [
    "sums_nonzero = sums[sums > 0]"
   ]
  },
  {
   "cell_type": "code",
   "execution_count": null,
   "metadata": {
    "collapsed": false
   },
   "outputs": [],
   "source": [
    "fig, ax = plt.subplots(1, 1, figsize=(4, 2.5))\n",
    "ax.hist(sums_nonzero[sums_nonzero < 1e6], bins = 100)\n",
    "plt.yscale('log', nonposy='clip')"
   ]
  },
  {
   "cell_type": "code",
   "execution_count": null,
   "metadata": {
    "collapsed": false
   },
   "outputs": [],
   "source": [
    "fig, ax = plt.subplots(1, 1, figsize=(4, 2.5))\n",
    "ax.hist(sums_nonzero[sums_nonzero < 1e8])\n",
    "plt.yscale('log', nonposy='clip', bins = 100)"
   ]
  },
  {
   "cell_type": "code",
   "execution_count": null,
   "metadata": {
    "collapsed": false
   },
   "outputs": [],
   "source": [
    "str(1e6)"
   ]
  },
  {
   "cell_type": "code",
   "execution_count": null,
   "metadata": {
    "collapsed": false
   },
   "outputs": [],
   "source": [
    "fig, axs = plt.subplots(1, 2, figsize=(8, 2.5))\n",
    "cutoff = 1e6\n",
    "dfs = [sums_nonzero[sums_nonzero < cutoff],\n",
    "       sums_nonzero[sums_nonzero >= cutoff]]\n",
    "titles = ['frequency of read sums,\\nif < {:.1E}'.format(cutoff),\n",
    "         'frequency of read sums,\\nif >= {:.1E}'.format(cutoff)]\n",
    "for i, df in enumerate(dfs):\n",
    "    ax = axs[i]\n",
    "    ax.set_title(titles[i])\n",
    "    ax.hist(df, bins = 30, log=True)\n",
    "    plt.xticks(rotation='vertical')\n",
    "    ax.set_xlabel('number of reads for gene copy')\n",
    "    ax.set_ylabel('number of genes')\n",
    "    #plt.yscale('log', nonposy='clip')\n",
    "\n",
    "for ax in fig.axes:\n",
    "    plt.sca(ax)\n",
    "    plt.xticks(rotation=90)\n",
    "    \n",
    "fig.savefig('160223_freq_of_reads_assigned_to_genes--not_normalized_by_seq_depth.pdf',\n",
    "           bbox_inches='tight')"
   ]
  },
  {
   "cell_type": "code",
   "execution_count": null,
   "metadata": {
    "collapsed": false
   },
   "outputs": [],
   "source": [
    "vals = [1, 2, 10, 100, 1000, 1e4, 1e5]\n",
    "for v in vals:\n",
    "    num_left = sums_nonzero[sums_nonzero >= v].shape[0]\n",
    "    print('value: {}, number: {}'.format(v, num_left))\n",
    "    d = pd.DataFrame({'cutoff (sum of reads across samples)':[v], \n",
    "                      'number remaining': [num_left]})\n",
    "    print(d)\n",
    "    if v == vals[0]:\n",
    "        remaining_df = d\n",
    "    else:\n",
    "        remaining_df = pd.concat([remaining_df, d], axis=0)\n",
    "        \n",
    "print(remaining_df)"
   ]
  },
  {
   "cell_type": "code",
   "execution_count": null,
   "metadata": {
    "collapsed": false
   },
   "outputs": [],
   "source": [
    "fig, ax = plt.subplots(1, 1, figsize=(4, 2.5))\n",
    "x = 'cutoff (sum of reads across samples)'\n",
    "y = 'number remaining'\n",
    "ax.plot(remaining_df[x], remaining_df[y], marker='o')\n",
    "ax.set_xlabel(x)\n",
    "ax.set_ylabel(y)\n",
    "ax.set_yscale('log')\n",
    "ax.set_xscale('log')\n",
    "ax.set_title('Number of genes left if for\\ndifferent read count cutoffs')\n",
    "fig.savefig('170223_number_of_genes_left_at_different_read_count_cutoffs.pdf', \n",
    "           bbox_inches='tight')"
   ]
  },
  {
   "cell_type": "code",
   "execution_count": null,
   "metadata": {
    "collapsed": true
   },
   "outputs": [],
   "source": []
  }
 ],
 "metadata": {
  "anaconda-cloud": {},
  "kernelspec": {
   "display_name": "Python [conda env:py3]",
   "language": "python",
   "name": "conda-env-py3-py"
  },
  "language_info": {
   "codemirror_mode": {
    "name": "ipython",
    "version": 3
   },
   "file_extension": ".py",
   "mimetype": "text/x-python",
   "name": "python",
   "nbconvert_exporter": "python",
   "pygments_lexer": "ipython3",
   "version": "3.5.2"
  }
 },
 "nbformat": 4,
 "nbformat_minor": 2
}
