{
 "cells": [
  {
   "cell_type": "code",
   "execution_count": null,
   "metadata": {
    "collapsed": true
   },
   "outputs": [],
   "source": [
    "# dacb: by default it will render using the remote X display and \n",
    "# pipe back the bit stream to the host.\n",
    "\n",
    "# Import matplotlib before seaborn\n",
    "import matplotlib as mpl\n",
    "#mpl.use('Agg') # only relevant if not using %inline magic.  For scripts w/o graphic card. \n",
    "import matplotlib.pyplot as plt\n",
    "\n",
    "import pandas as pd\n",
    "import seaborn as sns"
   ]
  },
  {
   "cell_type": "code",
   "execution_count": null,
   "metadata": {
    "collapsed": false
   },
   "outputs": [],
   "source": [
    "%load_ext autoreload\n",
    "%autoreload 2\n",
    "\n",
    "%matplotlib inline"
   ]
  },
  {
   "cell_type": "code",
   "execution_count": null,
   "metadata": {
    "collapsed": false
   },
   "outputs": [],
   "source": [
    "! ls"
   ]
  },
  {
   "cell_type": "code",
   "execution_count": null,
   "metadata": {
    "collapsed": false
   },
   "outputs": [],
   "source": [
    "from analysis_utils import *"
   ]
  },
  {
   "cell_type": "code",
   "execution_count": null,
   "metadata": {
    "collapsed": false
   },
   "outputs": [],
   "source": [
    "p = plot_good_vs_bad_low_o2_samples_all_reps(binwidth=1500)\n",
    "fname = './figures/170125_samples_with_low_frac_of_reads_in_bins_have_more_reads_on_shorter_contigs.pdf'\n",
    "p.savefig(fname, bbox_inches='tight')"
   ]
  },
  {
   "cell_type": "code",
   "execution_count": null,
   "metadata": {
    "collapsed": false
   },
   "outputs": [],
   "source": [
    "p = plot_num_reads_across_samples()\n",
    "fname = './figures/170124_num_reads_per_fastq_sample--fastq.pdf'\n",
    "p.savefig(fname, bbox_inches='tight')"
   ]
  },
  {
   "cell_type": "code",
   "execution_count": null,
   "metadata": {
    "collapsed": false
   },
   "outputs": [],
   "source": [
    "p = plot_good_vs_bad_low_o2_samples(binwidth=1500)\n",
    "fname = './figures/170124_bad_low_o2_samples_have_more_reads_on_short_contigs--binning_not_considered.pdf'\n",
    "p.savefig(fname, bbox_inches='tight')"
   ]
  },
  {
   "cell_type": "code",
   "execution_count": null,
   "metadata": {
    "collapsed": false
   },
   "outputs": [],
   "source": [
    "percent_list = [0.0000001, 0.001, 0.01, 0.1, 1]\n",
    "for c in percent_list:\n",
    "    p = plot_assess_impact_of_adding_contigs_to_bins(percent_cutoff=c)\n",
    "    p.savefig('./figures/170120_{}.pdf'.format(c), bbox_inches = 'tight')"
   ]
  },
  {
   "cell_type": "code",
   "execution_count": null,
   "metadata": {
    "collapsed": false
   },
   "outputs": [],
   "source": [
    "count_contigs_by_importance(percent_list=percent_list)"
   ]
  },
  {
   "cell_type": "code",
   "execution_count": null,
   "metadata": {
    "collapsed": false
   },
   "outputs": [],
   "source": [
    "p = plot_distributions_of_contig_lengths(plot_col = 'contig length', logy=False)\n",
    "p.savefig('./figures/170122_contig_size_distributions--linear_y.pdf', bbox_inches = 'tight')"
   ]
  },
  {
   "cell_type": "code",
   "execution_count": null,
   "metadata": {
    "collapsed": false
   },
   "outputs": [],
   "source": [
    "p = plot_distributions_of_contig_lengths(plot_col = 'contig length', logy=True)\n",
    "p.savefig('./figures/170122_contig_size_distributions--log_y.pdf', bbox_inches = 'tight')"
   ]
  },
  {
   "cell_type": "code",
   "execution_count": null,
   "metadata": {
    "collapsed": false
   },
   "outputs": [],
   "source": [
    "# The log scale makes it too hard to see the fraction un-binned. \n",
    "#p = plot_distributions_of_contig_lengths_one_plot(plot_col = 'contig length', logy=True)\n",
    "#p.savefig('./figures/170122_contig_size_distributions--log_y--one_plot.pdf')"
   ]
  },
  {
   "cell_type": "code",
   "execution_count": null,
   "metadata": {
    "collapsed": false
   },
   "outputs": [],
   "source": [
    "p = plot_frac_reads_binned_at_different_contig_lengths(bin_width=2000)\n",
    "p.savefig('./figures/170123_frac_reads_binned_at_different_contig_lengths.pdf', \n",
    "          bbox_inches = 'tight')"
   ]
  },
  {
   "cell_type": "code",
   "execution_count": null,
   "metadata": {
    "collapsed": false
   },
   "outputs": [],
   "source": [
    "p = plot_frac_reads_binned_at_different_contig_lengths_and_total(bin_width=2000)\n",
    "p.savefig('./figures/170123_frac_reads_binned_at_different_contig_lengths_and_total.pdf', \n",
    "          bbox_inches = 'tight')"
   ]
  },
  {
   "cell_type": "code",
   "execution_count": null,
   "metadata": {
    "collapsed": false
   },
   "outputs": [],
   "source": [
    "df_1000 = load_data()\n",
    "df_1000 = df_1000[df_1000['contig length'] < 1000]\n",
    "len(df_1000['contig'].unique())"
   ]
  },
  {
   "cell_type": "code",
   "execution_count": null,
   "metadata": {
    "collapsed": false
   },
   "outputs": [],
   "source": [
    "df_1000 = load_data()\n",
    "df_1000 = df_1000[df_1000['contig length'] > 1000]\n",
    "len(df_1000['contig'].unique())"
   ]
  },
  {
   "cell_type": "code",
   "execution_count": null,
   "metadata": {
    "collapsed": false
   },
   "outputs": [],
   "source": [
    "x=1000\n",
    "f = plot_num_reads_assigned_to_contigs_shorter_than_length_x(x)\n",
    "f.savefig('./figures/170123_frac_of_reads_for_contigs_shorter_than_{}_bp.pdf'.format(x), \n",
    "          bbox_inches = 'tight')"
   ]
  },
  {
   "cell_type": "code",
   "execution_count": null,
   "metadata": {
    "collapsed": false
   },
   "outputs": [],
   "source": [
    "x=1500\n",
    "f = plot_num_reads_assigned_to_contigs_shorter_than_length_x(x)\n",
    "f.savefig('./figures/170123_frac_of_reads_for_contigs_shorter_than_{}_bp.pdf'.format(x), \n",
    "          bbox_inches = 'tight')"
   ]
  },
  {
   "cell_type": "code",
   "execution_count": null,
   "metadata": {
    "collapsed": false
   },
   "outputs": [],
   "source": [
    "p = plot_log_ratio_of_coverage_like_metric()\n",
    "fname = '.figures/170123_log2_ratio_of_unbinned_coverage-ish_to_binned_plotted_by_contig_length_interval.pdf'\n",
    "p.savefig(fname, bbox_inches = 'tight')\n"
   ]
  },
  {
   "cell_type": "code",
   "execution_count": null,
   "metadata": {
    "collapsed": true
   },
   "outputs": [],
   "source": []
  },
  {
   "cell_type": "code",
   "execution_count": null,
   "metadata": {
    "collapsed": true
   },
   "outputs": [],
   "source": []
  }
 ],
 "metadata": {
  "anaconda-cloud": {},
  "kernelspec": {
   "display_name": "Python [default]",
   "language": "python",
   "name": "python3"
  },
  "language_info": {
   "codemirror_mode": {
    "name": "ipython",
    "version": 3
   },
   "file_extension": ".py",
   "mimetype": "text/x-python",
   "name": "python",
   "nbconvert_exporter": "python",
   "pygments_lexer": "ipython3",
   "version": "3.5.2"
  }
 },
 "nbformat": 4,
 "nbformat_minor": 2
}
